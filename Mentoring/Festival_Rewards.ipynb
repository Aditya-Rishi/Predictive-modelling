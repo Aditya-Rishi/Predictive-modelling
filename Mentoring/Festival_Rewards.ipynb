{
 "cells": [
  {
   "cell_type": "markdown",
   "id": "heavy-woman",
   "metadata": {},
   "source": [
    "# Problem Statement"
   ]
  },
  {
   "cell_type": "markdown",
   "id": "supported-communication",
   "metadata": {},
   "source": [
    "In India, whenever we have festivals in our calendars, our support staff/ helpers expect festival rewards. We roughly calculate this reward in proportion to the monthly salary we pay to them. \n",
    "\n",
    "A 12-hour helper is likely to get more reward amount, while a 1-hour helper would get a smaller reward amount. If you’re heading a large organization, you may like to develop a model to suggest the reward amounts of people in support staff. \n",
    "\n",
    "To do, you decide to collate the data for last ten such festive instances.Use this data to predict the reward amount for the upcoming festival !"
   ]
  },
  {
   "cell_type": "code",
   "execution_count": 2,
   "id": "direct-vietnam",
   "metadata": {},
   "outputs": [],
   "source": [
    "# Importing libraries\n",
    "\n",
    "import numpy as np   \n",
    "import pandas as pd    \n",
    "import seaborn as sns\n",
    "from sklearn.linear_model import LinearRegression\n",
    "from sklearn import metrics\n",
    "import matplotlib.pyplot as plt   \n",
    "import matplotlib.style"
   ]
  },
  {
   "cell_type": "code",
   "execution_count": 3,
   "id": "final-collective",
   "metadata": {},
   "outputs": [],
   "source": [
    "df = pd.read_csv(\"Festival.csv\")"
   ]
  },
  {
   "cell_type": "code",
   "execution_count": 4,
   "id": "sacred-dutch",
   "metadata": {},
   "outputs": [
    {
     "name": "stdout",
     "output_type": "stream",
     "text": [
      "<class 'pandas.core.frame.DataFrame'>\n",
      "RangeIndex: 10 entries, 0 to 9\n",
      "Data columns (total 4 columns):\n",
      " #   Column    Non-Null Count  Dtype\n",
      "---  ------    --------------  -----\n",
      " 0   Instance  10 non-null     int64\n",
      " 1   Years     10 non-null     int64\n",
      " 2   Salary    10 non-null     int64\n",
      " 3   Amount    10 non-null     int64\n",
      "dtypes: int64(4)\n",
      "memory usage: 448.0 bytes\n"
     ]
    }
   ],
   "source": [
    "df.info()"
   ]
  },
  {
   "cell_type": "code",
   "execution_count": 5,
   "id": "polyphonic-buffer",
   "metadata": {},
   "outputs": [
    {
     "data": {
      "text/html": [
       "<div>\n",
       "<style scoped>\n",
       "    .dataframe tbody tr th:only-of-type {\n",
       "        vertical-align: middle;\n",
       "    }\n",
       "\n",
       "    .dataframe tbody tr th {\n",
       "        vertical-align: top;\n",
       "    }\n",
       "\n",
       "    .dataframe thead th {\n",
       "        text-align: right;\n",
       "    }\n",
       "</style>\n",
       "<table border=\"1\" class=\"dataframe\">\n",
       "  <thead>\n",
       "    <tr style=\"text-align: right;\">\n",
       "      <th></th>\n",
       "      <th>Instance</th>\n",
       "      <th>Years</th>\n",
       "      <th>Salary</th>\n",
       "      <th>Amount</th>\n",
       "    </tr>\n",
       "  </thead>\n",
       "  <tbody>\n",
       "    <tr>\n",
       "      <th>count</th>\n",
       "      <td>10.00000</td>\n",
       "      <td>10.000000</td>\n",
       "      <td>10.000000</td>\n",
       "      <td>10.000000</td>\n",
       "    </tr>\n",
       "    <tr>\n",
       "      <th>mean</th>\n",
       "      <td>5.50000</td>\n",
       "      <td>3.100000</td>\n",
       "      <td>4150.000000</td>\n",
       "      <td>560.000000</td>\n",
       "    </tr>\n",
       "    <tr>\n",
       "      <th>std</th>\n",
       "      <td>3.02765</td>\n",
       "      <td>1.595131</td>\n",
       "      <td>1361.371857</td>\n",
       "      <td>225.831796</td>\n",
       "    </tr>\n",
       "    <tr>\n",
       "      <th>min</th>\n",
       "      <td>1.00000</td>\n",
       "      <td>1.000000</td>\n",
       "      <td>1700.000000</td>\n",
       "      <td>250.000000</td>\n",
       "    </tr>\n",
       "    <tr>\n",
       "      <th>25%</th>\n",
       "      <td>3.25000</td>\n",
       "      <td>2.250000</td>\n",
       "      <td>3300.000000</td>\n",
       "      <td>412.500000</td>\n",
       "    </tr>\n",
       "    <tr>\n",
       "      <th>50%</th>\n",
       "      <td>5.50000</td>\n",
       "      <td>3.000000</td>\n",
       "      <td>4450.000000</td>\n",
       "      <td>575.000000</td>\n",
       "    </tr>\n",
       "    <tr>\n",
       "      <th>75%</th>\n",
       "      <td>7.75000</td>\n",
       "      <td>3.750000</td>\n",
       "      <td>5137.500000</td>\n",
       "      <td>687.500000</td>\n",
       "    </tr>\n",
       "    <tr>\n",
       "      <th>max</th>\n",
       "      <td>10.00000</td>\n",
       "      <td>6.000000</td>\n",
       "      <td>6000.000000</td>\n",
       "      <td>900.000000</td>\n",
       "    </tr>\n",
       "  </tbody>\n",
       "</table>\n",
       "</div>"
      ],
      "text/plain": [
       "       Instance      Years       Salary      Amount\n",
       "count  10.00000  10.000000    10.000000   10.000000\n",
       "mean    5.50000   3.100000  4150.000000  560.000000\n",
       "std     3.02765   1.595131  1361.371857  225.831796\n",
       "min     1.00000   1.000000  1700.000000  250.000000\n",
       "25%     3.25000   2.250000  3300.000000  412.500000\n",
       "50%     5.50000   3.000000  4450.000000  575.000000\n",
       "75%     7.75000   3.750000  5137.500000  687.500000\n",
       "max    10.00000   6.000000  6000.000000  900.000000"
      ]
     },
     "execution_count": 5,
     "metadata": {},
     "output_type": "execute_result"
    }
   ],
   "source": [
    "df.describe()"
   ]
  },
  {
   "cell_type": "markdown",
   "id": "failing-ratio",
   "metadata": {},
   "source": [
    "In the absence of any indepdenant variables, the best estimate of the award amount is the mean of the last 10 reward amounts."
   ]
  },
  {
   "cell_type": "code",
   "execution_count": 6,
   "id": "worldwide-discipline",
   "metadata": {},
   "outputs": [
    {
     "name": "stdout",
     "output_type": "stream",
     "text": [
      "Predicted Reward Amount is 560.0\n"
     ]
    }
   ],
   "source": [
    "# Mean of the reward amount\n",
    "Predicted_Amount = df.Amount.mean()\n",
    "print(\"Predicted Reward Amount is\",Predicted_Amount)"
   ]
  },
  {
   "cell_type": "markdown",
   "id": "preliminary-enclosure",
   "metadata": {},
   "source": [
    "## Simple Linear Regression"
   ]
  },
  {
   "cell_type": "markdown",
   "id": "spiritual-heading",
   "metadata": {},
   "source": [
    "We will now consider the salary paid information as an additional variable for predicting the award amount and build a simple linear regression model using \"Salary\" as an indepdendant variable.\n",
    "\n",
    "*Amout = b0 + b1 x Salary + err*"
   ]
  },
  {
   "cell_type": "markdown",
   "id": "martial-communist",
   "metadata": {},
   "source": [
    "Let us first find the correlation between Salary and Amount."
   ]
  },
  {
   "cell_type": "code",
   "execution_count": 7,
   "id": "comfortable-cattle",
   "metadata": {},
   "outputs": [
    {
     "data": {
      "text/html": [
       "<div>\n",
       "<style scoped>\n",
       "    .dataframe tbody tr th:only-of-type {\n",
       "        vertical-align: middle;\n",
       "    }\n",
       "\n",
       "    .dataframe tbody tr th {\n",
       "        vertical-align: top;\n",
       "    }\n",
       "\n",
       "    .dataframe thead th {\n",
       "        text-align: right;\n",
       "    }\n",
       "</style>\n",
       "<table border=\"1\" class=\"dataframe\">\n",
       "  <thead>\n",
       "    <tr style=\"text-align: right;\">\n",
       "      <th></th>\n",
       "      <th>Salary</th>\n",
       "      <th>Amount</th>\n",
       "    </tr>\n",
       "  </thead>\n",
       "  <tbody>\n",
       "    <tr>\n",
       "      <th>Salary</th>\n",
       "      <td>1.000000</td>\n",
       "      <td>0.853822</td>\n",
       "    </tr>\n",
       "    <tr>\n",
       "      <th>Amount</th>\n",
       "      <td>0.853822</td>\n",
       "      <td>1.000000</td>\n",
       "    </tr>\n",
       "  </tbody>\n",
       "</table>\n",
       "</div>"
      ],
      "text/plain": [
       "          Salary    Amount\n",
       "Salary  1.000000  0.853822\n",
       "Amount  0.853822  1.000000"
      ]
     },
     "execution_count": 7,
     "metadata": {},
     "output_type": "execute_result"
    }
   ],
   "source": [
    "df.iloc[:,2:4].corr()"
   ]
  },
  {
   "cell_type": "markdown",
   "id": "encouraging-acoustic",
   "metadata": {},
   "source": [
    "We see that the correlation between Amount and Salaryis 0.85382. Salary is significantly impacting reward amount."
   ]
  },
  {
   "cell_type": "code",
   "execution_count": 8,
   "id": "premium-bloom",
   "metadata": {},
   "outputs": [],
   "source": [
    "# Copy all the predictor variables into X dataframe\n",
    "x = df[['Salary']]\n",
    "\n",
    "# Copy target into the y dataframe. \n",
    "y = df[['Amount']]"
   ]
  },
  {
   "cell_type": "code",
   "execution_count": 9,
   "id": "amazing-reserve",
   "metadata": {},
   "outputs": [],
   "source": [
    "# invoke the LinearRegression function and find the bestfit model on the salary data\n",
    "regression_model = LinearRegression()"
   ]
  },
  {
   "cell_type": "code",
   "execution_count": 10,
   "id": "nuclear-civilization",
   "metadata": {},
   "outputs": [],
   "source": [
    "fit1 = regression_model.fit(x, y)"
   ]
  },
  {
   "cell_type": "code",
   "execution_count": 11,
   "id": "inner-thomson",
   "metadata": {},
   "outputs": [
    {
     "name": "stdout",
     "output_type": "stream",
     "text": [
      "The coefficient for Salary is 0.14163669064748202\n"
     ]
    }
   ],
   "source": [
    "# Coefficient for independant variable\n",
    "for idx, col_name in enumerate(x):\n",
    "    print(\"The coefficient for {} is {}\".format(col_name, regression_model.coef_[0][idx]))"
   ]
  },
  {
   "cell_type": "code",
   "execution_count": 12,
   "id": "experimental-soldier",
   "metadata": {},
   "outputs": [
    {
     "name": "stdout",
     "output_type": "stream",
     "text": [
      "The intercept of the model is -27.79226618705036\n"
     ]
    }
   ],
   "source": [
    "# Let us check the intercept for the model\n",
    "\n",
    "intercept = regression_model.intercept_[0]\n",
    "print(\"The intercept of the model is {}\".format(intercept))"
   ]
  },
  {
   "cell_type": "markdown",
   "id": "indonesian-willow",
   "metadata": {},
   "source": [
    "The linear regression function for estimating reward amount is *y = -27.79226 + 0.141636*Salary*"
   ]
  },
  {
   "cell_type": "code",
   "execution_count": 13,
   "id": "seventh-throw",
   "metadata": {},
   "outputs": [
    {
     "data": {
      "text/plain": [
       "0.7290123783326279"
      ]
     },
     "execution_count": 13,
     "metadata": {},
     "output_type": "execute_result"
    }
   ],
   "source": [
    "# Regression Score R2\n",
    "\n",
    "regression_model.score(x,y)"
   ]
  },
  {
   "cell_type": "markdown",
   "id": "twenty-blackjack",
   "metadata": {},
   "source": [
    "72.90 % variation in the reward amount is explained by the regression model."
   ]
  },
  {
   "cell_type": "markdown",
   "id": "victorian-alabama",
   "metadata": {},
   "source": [
    "## Multilinear regression model"
   ]
  },
  {
   "cell_type": "markdown",
   "id": "contrary-municipality",
   "metadata": {},
   "source": [
    "We can further improve the regression model to predict the reward amount by adding one more variable *Years*. We will now build a multi-linear regression model using Salary (x1) and Years (x2) independent variable."
   ]
  },
  {
   "cell_type": "markdown",
   "id": "final-suicide",
   "metadata": {},
   "source": [
    "Let us first find the correlation between Salary, Years and Amount."
   ]
  },
  {
   "cell_type": "code",
   "execution_count": 14,
   "id": "superior-sheffield",
   "metadata": {},
   "outputs": [
    {
     "data": {
      "text/html": [
       "<div>\n",
       "<style scoped>\n",
       "    .dataframe tbody tr th:only-of-type {\n",
       "        vertical-align: middle;\n",
       "    }\n",
       "\n",
       "    .dataframe tbody tr th {\n",
       "        vertical-align: top;\n",
       "    }\n",
       "\n",
       "    .dataframe thead th {\n",
       "        text-align: right;\n",
       "    }\n",
       "</style>\n",
       "<table border=\"1\" class=\"dataframe\">\n",
       "  <thead>\n",
       "    <tr style=\"text-align: right;\">\n",
       "      <th></th>\n",
       "      <th>Years</th>\n",
       "      <th>Salary</th>\n",
       "      <th>Amount</th>\n",
       "    </tr>\n",
       "  </thead>\n",
       "  <tbody>\n",
       "    <tr>\n",
       "      <th>Years</th>\n",
       "      <td>1.000000</td>\n",
       "      <td>0.122799</td>\n",
       "      <td>0.320781</td>\n",
       "    </tr>\n",
       "    <tr>\n",
       "      <th>Salary</th>\n",
       "      <td>0.122799</td>\n",
       "      <td>1.000000</td>\n",
       "      <td>0.853822</td>\n",
       "    </tr>\n",
       "    <tr>\n",
       "      <th>Amount</th>\n",
       "      <td>0.320781</td>\n",
       "      <td>0.853822</td>\n",
       "      <td>1.000000</td>\n",
       "    </tr>\n",
       "  </tbody>\n",
       "</table>\n",
       "</div>"
      ],
      "text/plain": [
       "           Years    Salary    Amount\n",
       "Years   1.000000  0.122799  0.320781\n",
       "Salary  0.122799  1.000000  0.853822\n",
       "Amount  0.320781  0.853822  1.000000"
      ]
     },
     "execution_count": 14,
     "metadata": {},
     "output_type": "execute_result"
    }
   ],
   "source": [
    "cor_mat = df.iloc[:,1:4].corr()\n",
    "cor_mat"
   ]
  },
  {
   "cell_type": "code",
   "execution_count": 15,
   "id": "latest-engineering",
   "metadata": {},
   "outputs": [
    {
     "data": {
      "image/png": "[encoded data removed]",
      "text/plain": [
       "<Figure size 432x288 with 2 Axes>"
      ]
     },
     "metadata": {
      "needs_background": "light"
     },
     "output_type": "display_data"
    }
   ],
   "source": [
    "sns.heatmap(cor_mat,annot=True);\n",
    "plt.show()"
   ]
  },
  {
   "cell_type": "markdown",
   "id": "useful-holocaust",
   "metadata": {},
   "source": [
    "We see that there exists a poor correlation between Amount and Years."
   ]
  },
  {
   "cell_type": "code",
   "execution_count": 16,
   "id": "independent-hardwood",
   "metadata": {},
   "outputs": [],
   "source": [
    "# Copy all the predictor variables into X dataframe\n",
    "x1_2 = df[['Salary','Years']]\n",
    "\n",
    "# Copy target into the y dataframe. \n",
    "y = df[['Amount']]"
   ]
  },
  {
   "cell_type": "code",
   "execution_count": 17,
   "id": "progressive-disposal",
   "metadata": {},
   "outputs": [
    {
     "name": "stdout",
     "output_type": "stream",
     "text": [
      "   Salary  Years\n",
      "0    1700      4\n",
      "1    5400      3\n",
      "2    3200      1\n",
      "3    4400      3\n",
      "4    4950      3\n",
      "5    2550      2\n",
      "6    3600      6\n",
      "7    6000      5\n",
      "8    4500      1\n",
      "9    5200      3\n"
     ]
    }
   ],
   "source": [
    "print(x1_2)"
   ]
  },
  {
   "cell_type": "code",
   "execution_count": 18,
   "id": "massive-chester",
   "metadata": {},
   "outputs": [],
   "source": [
    "# invoke the LinearRegression function and find the bestfit model on the salary data\n",
    "MLR_model = LinearRegression()"
   ]
  },
  {
   "cell_type": "code",
   "execution_count": 19,
   "id": "republican-locator",
   "metadata": {},
   "outputs": [],
   "source": [
    "fit2 = MLR_model.fit(x1_2, y)"
   ]
  },
  {
   "cell_type": "code",
   "execution_count": 20,
   "id": "infinite-painting",
   "metadata": {},
   "outputs": [
    {
     "name": "stdout",
     "output_type": "stream",
     "text": [
      "The coefficient for Salary is 0.13717066441261844\n",
      "The coefficient for Years is 31.038882332302\n"
     ]
    }
   ],
   "source": [
    "# Coefficient for independant variable\n",
    "for idx, col_name in enumerate(x1_2):\n",
    "    print(\"The coefficient for {} is {}\".format(col_name, fit2.coef_[0][idx]))"
   ]
  },
  {
   "cell_type": "code",
   "execution_count": 21,
   "id": "complete-acquisition",
   "metadata": {},
   "outputs": [
    {
     "name": "stdout",
     "output_type": "stream",
     "text": [
      "The intercept of the model is -105.47879254250267\n"
     ]
    }
   ],
   "source": [
    "# Let us check the intercept for the model\n",
    "\n",
    "intercept1 = fit2.intercept_[0]\n",
    "print(\"The intercept of the model is {}\".format(intercept1))"
   ]
  },
  {
   "cell_type": "markdown",
   "id": "unlimited-hormone",
   "metadata": {},
   "source": [
    "The linear regression function for estimating reward amount is *y = -105.47879 + 0.13717*Salary + 31.03888*Years*"
   ]
  },
  {
   "cell_type": "code",
   "execution_count": 22,
   "id": "annoying-release",
   "metadata": {},
   "outputs": [
    {
     "data": {
      "text/plain": [
       "0.7763532294126474"
      ]
     },
     "execution_count": 22,
     "metadata": {},
     "output_type": "execute_result"
    }
   ],
   "source": [
    "# Regression Score R2\n",
    "fit2.score(x1_2,y)"
   ]
  },
  {
   "cell_type": "markdown",
   "id": "still-circle",
   "metadata": {},
   "source": [
    "77.63% variation in the reward amount is explained by the regression model."
   ]
  },
  {
   "cell_type": "markdown",
   "id": "quiet-rover",
   "metadata": {},
   "source": [
    "You can see that as we add more predictors, the R2 value increases. we see that R-squared value for the reward amount prediction model has increased from 0.729 to 0.776."
   ]
  },
  {
   "cell_type": "markdown",
   "id": "accomplished-comfort",
   "metadata": {},
   "source": [
    "## Linear Regression using statsmodels"
   ]
  },
  {
   "cell_type": "code",
   "execution_count": 23,
   "id": "vocational-fancy",
   "metadata": {},
   "outputs": [],
   "source": [
    "import statsmodels.formula.api as smf\n"
   ]
  },
  {
   "cell_type": "code",
   "execution_count": 24,
   "id": "ranging-interstate",
   "metadata": {},
   "outputs": [],
   "source": [
    "expr = 'Amount ~ Salary + Years'"
   ]
  },
  {
   "cell_type": "code",
   "execution_count": 25,
   "id": "junior-information",
   "metadata": {},
   "outputs": [
    {
     "data": {
      "text/plain": [
       "Intercept   -105.478793\n",
       "Salary         0.137171\n",
       "Years         31.038882\n",
       "dtype: float64"
      ]
     },
     "execution_count": 25,
     "metadata": {},
     "output_type": "execute_result"
    }
   ],
   "source": [
    "lm1 = smf.ols(formula= expr, data = df.drop(\"Instance\", axis=1)).fit()\n",
    "lm1.params"
   ]
  },
  {
   "cell_type": "code",
   "execution_count": 26,
   "id": "controlled-supply",
   "metadata": {},
   "outputs": [
    {
     "name": "stderr",
     "output_type": "stream",
     "text": [
      "C:\\Users\\Milind\\Anaconda3\\lib\\site-packages\\scipy\\stats\\stats.py:1604: UserWarning: kurtosistest only valid for n>=20 ... continuing anyway, n=10\n",
      "  \"anyway, n=%i\" % int(n))\n"
     ]
    },
    {
     "name": "stdout",
     "output_type": "stream",
     "text": [
      "                            OLS Regression Results                            \n",
      "==============================================================================\n",
      "Dep. Variable:                 Amount   R-squared:                       0.776\n",
      "Model:                            OLS   Adj. R-squared:                  0.712\n",
      "Method:                 Least Squares   F-statistic:                     12.15\n",
      "Date:                Sun, 04 Jul 2021   Prob (F-statistic):            0.00529\n",
      "Time:                        11:03:35   Log-Likelihood:                -60.372\n",
      "No. Observations:                  10   AIC:                             126.7\n",
      "Df Residuals:                       7   BIC:                             127.7\n",
      "Df Model:                           2                                         \n",
      "Covariance Type:            nonrobust                                         \n",
      "==============================================================================\n",
      "                 coef    std err          t      P>|t|      [0.025      0.975]\n",
      "------------------------------------------------------------------------------\n",
      "Intercept   -105.4788    143.810     -0.733      0.487    -445.536     234.578\n",
      "Salary         0.1372      0.030      4.591      0.003       0.067       0.208\n",
      "Years         31.0389     25.499      1.217      0.263     -29.256      91.334\n",
      "==============================================================================\n",
      "Omnibus:                        0.259   Durbin-Watson:                   2.363\n",
      "Prob(Omnibus):                  0.878   Jarque-Bera (JB):                0.041\n",
      "Skew:                           0.015   Prob(JB):                        0.980\n",
      "Kurtosis:                       2.688   Cond. No.                     1.64e+04\n",
      "==============================================================================\n",
      "\n",
      "Notes:\n",
      "[1] Standard Errors assume that the covariance matrix of the errors is correctly specified.\n",
      "[2] The condition number is large, 1.64e+04. This might indicate that there are\n",
      "strong multicollinearity or other numerical problems.\n"
     ]
    }
   ],
   "source": [
    "print(lm1.summary())"
   ]
  },
  {
   "cell_type": "markdown",
   "id": "stainless-flashing",
   "metadata": {},
   "source": [
    "* The overall P value is less than alpha, so rejecting H0 and accepting Ha that atleast 1 regression co-efficient is not 0.\n",
    "* Here all regression co-efficients are not 0"
   ]
  },
  {
   "cell_type": "markdown",
   "id": "metropolitan-smart",
   "metadata": {},
   "source": [
    "### Happy Learning"
   ]
  }
 ],
 "metadata": {
  "kernelspec": {
   "display_name": "Python 3",
   "language": "python",
   "name": "python3"
  },
  "language_info": {
   "codemirror_mode": {
    "name": "ipython",
    "version": 3
   },
   "file_extension": ".py",
   "mimetype": "text/x-python",
   "name": "python",
   "nbconvert_exporter": "python",
   "pygments_lexer": "ipython3",
   "version": "3.7.3"
  }
 },
 "nbformat": 4,
 "nbformat_minor": 5
}
