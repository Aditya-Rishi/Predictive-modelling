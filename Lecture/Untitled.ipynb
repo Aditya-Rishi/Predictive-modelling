{
 "cells": [
  {
   "cell_type": "code",
   "execution_count": 9,
   "metadata": {},
   "outputs": [],
   "source": [
    "# Numerical libraries\n",
    "import numpy as np   \n",
    "\n",
    "# Import Linear Regression machine learning library\n",
    "from sklearn.linear_model import LinearRegression\n",
    "\n",
    "# to handle data in form of rows and columns \n",
    "import pandas as pd    \n",
    "\n",
    "# importing ploting libraries\n",
    "import matplotlib.pyplot as plt   \n",
    "import matplotlib.style\n",
    "plt.style.use('classic')\n",
    "\n",
    "#importing seaborn for statistical plots\n",
    "import seaborn as sns\n",
    "# To enable plotting graphs in Jupyter notebook\n",
    "%matplotlib inline "
   ]
  },
  {
   "cell_type": "code",
   "execution_count": null,
   "metadata": {},
   "outputs": [],
   "source": []
  },
  {
   "cell_type": "code",
   "execution_count": 10,
   "metadata": {},
   "outputs": [],
   "source": [
    "# reading the CSV file into pandas dataframe\n",
    "mpg_df = pd.read_csv(\"ThreeCars.csv\") "
   ]
  },
  {
   "cell_type": "code",
   "execution_count": 12,
   "metadata": {},
   "outputs": [
    {
     "data": {
      "text/html": [
       "<div>\n",
       "<style scoped>\n",
       "    .dataframe tbody tr th:only-of-type {\n",
       "        vertical-align: middle;\n",
       "    }\n",
       "\n",
       "    .dataframe tbody tr th {\n",
       "        vertical-align: top;\n",
       "    }\n",
       "\n",
       "    .dataframe thead th {\n",
       "        text-align: right;\n",
       "    }\n",
       "</style>\n",
       "<table border=\"1\" class=\"dataframe\">\n",
       "  <thead>\n",
       "    <tr style=\"text-align: right;\">\n",
       "      <th></th>\n",
       "      <th>Unnamed: 0</th>\n",
       "      <th>Price</th>\n",
       "      <th>Age</th>\n",
       "      <th>Mileage</th>\n",
       "      <th>Porsche</th>\n",
       "      <th>Jaguar</th>\n",
       "      <th>BMW</th>\n",
       "    </tr>\n",
       "  </thead>\n",
       "  <tbody>\n",
       "    <tr>\n",
       "      <th>0</th>\n",
       "      <td>1</td>\n",
       "      <td>69.4</td>\n",
       "      <td>3</td>\n",
       "      <td>21.5</td>\n",
       "      <td>1</td>\n",
       "      <td>0</td>\n",
       "      <td>0</td>\n",
       "    </tr>\n",
       "    <tr>\n",
       "      <th>1</th>\n",
       "      <td>2</td>\n",
       "      <td>56.9</td>\n",
       "      <td>3</td>\n",
       "      <td>43.0</td>\n",
       "      <td>1</td>\n",
       "      <td>0</td>\n",
       "      <td>0</td>\n",
       "    </tr>\n",
       "    <tr>\n",
       "      <th>2</th>\n",
       "      <td>3</td>\n",
       "      <td>49.9</td>\n",
       "      <td>2</td>\n",
       "      <td>19.9</td>\n",
       "      <td>1</td>\n",
       "      <td>0</td>\n",
       "      <td>0</td>\n",
       "    </tr>\n",
       "    <tr>\n",
       "      <th>3</th>\n",
       "      <td>4</td>\n",
       "      <td>47.4</td>\n",
       "      <td>4</td>\n",
       "      <td>36.0</td>\n",
       "      <td>1</td>\n",
       "      <td>0</td>\n",
       "      <td>0</td>\n",
       "    </tr>\n",
       "    <tr>\n",
       "      <th>4</th>\n",
       "      <td>5</td>\n",
       "      <td>42.9</td>\n",
       "      <td>4</td>\n",
       "      <td>44.0</td>\n",
       "      <td>1</td>\n",
       "      <td>0</td>\n",
       "      <td>0</td>\n",
       "    </tr>\n",
       "    <tr>\n",
       "      <th>...</th>\n",
       "      <td>...</td>\n",
       "      <td>...</td>\n",
       "      <td>...</td>\n",
       "      <td>...</td>\n",
       "      <td>...</td>\n",
       "      <td>...</td>\n",
       "      <td>...</td>\n",
       "    </tr>\n",
       "    <tr>\n",
       "      <th>85</th>\n",
       "      <td>86</td>\n",
       "      <td>26.9</td>\n",
       "      <td>6</td>\n",
       "      <td>68.1</td>\n",
       "      <td>0</td>\n",
       "      <td>0</td>\n",
       "      <td>1</td>\n",
       "    </tr>\n",
       "    <tr>\n",
       "      <th>86</th>\n",
       "      <td>87</td>\n",
       "      <td>30.0</td>\n",
       "      <td>6</td>\n",
       "      <td>46.8</td>\n",
       "      <td>0</td>\n",
       "      <td>0</td>\n",
       "      <td>1</td>\n",
       "    </tr>\n",
       "    <tr>\n",
       "      <th>87</th>\n",
       "      <td>88</td>\n",
       "      <td>36.0</td>\n",
       "      <td>5</td>\n",
       "      <td>46.8</td>\n",
       "      <td>0</td>\n",
       "      <td>0</td>\n",
       "      <td>1</td>\n",
       "    </tr>\n",
       "    <tr>\n",
       "      <th>88</th>\n",
       "      <td>89</td>\n",
       "      <td>38.0</td>\n",
       "      <td>4</td>\n",
       "      <td>36.1</td>\n",
       "      <td>0</td>\n",
       "      <td>0</td>\n",
       "      <td>1</td>\n",
       "    </tr>\n",
       "    <tr>\n",
       "      <th>89</th>\n",
       "      <td>90</td>\n",
       "      <td>13.8</td>\n",
       "      <td>7</td>\n",
       "      <td>59.0</td>\n",
       "      <td>0</td>\n",
       "      <td>0</td>\n",
       "      <td>1</td>\n",
       "    </tr>\n",
       "  </tbody>\n",
       "</table>\n",
       "<p>90 rows × 7 columns</p>\n",
       "</div>"
      ],
      "text/plain": [
       "    Unnamed: 0  Price  Age  Mileage  Porsche  Jaguar  BMW\n",
       "0            1   69.4    3     21.5        1       0    0\n",
       "1            2   56.9    3     43.0        1       0    0\n",
       "2            3   49.9    2     19.9        1       0    0\n",
       "3            4   47.4    4     36.0        1       0    0\n",
       "4            5   42.9    4     44.0        1       0    0\n",
       "..         ...    ...  ...      ...      ...     ...  ...\n",
       "85          86   26.9    6     68.1        0       0    1\n",
       "86          87   30.0    6     46.8        0       0    1\n",
       "87          88   36.0    5     46.8        0       0    1\n",
       "88          89   38.0    4     36.1        0       0    1\n",
       "89          90   13.8    7     59.0        0       0    1\n",
       "\n",
       "[90 rows x 7 columns]"
      ]
     },
     "execution_count": 12,
     "metadata": {},
     "output_type": "execute_result"
    }
   ],
   "source": [
    "mpg_df"
   ]
  },
  {
   "cell_type": "code",
   "execution_count": 13,
   "metadata": {},
   "outputs": [],
   "source": [
    "# Copy all the predictor variables into X dataframe. Since 'mpg' is dependent variable drop it\n",
    "X = mpg_df.drop('Price', axis=1)\n",
    "\n",
    "# Copy the 'mpg' column alone into the y dataframe. This is the dependent variable\n",
    "y = mpg_df[['Price']]\n"
   ]
  },
  {
   "cell_type": "code",
   "execution_count": 15,
   "metadata": {},
   "outputs": [],
   "source": [
    "from sklearn.model_selection import train_test_split"
   ]
  },
  {
   "cell_type": "code",
   "execution_count": null,
   "metadata": {},
   "outputs": [],
   "source": []
  },
  {
   "cell_type": "code",
   "execution_count": 17,
   "metadata": {},
   "outputs": [
    {
     "data": {
      "text/plain": [
       "LinearRegression()"
      ]
     },
     "execution_count": 17,
     "metadata": {},
     "output_type": "execute_result"
    }
   ],
   "source": [
    "regression_model = LinearRegression()\n",
    "regression_model.fit(X, y)"
   ]
  },
  {
   "cell_type": "code",
   "execution_count": 19,
   "metadata": {},
   "outputs": [
    {
     "name": "stdout",
     "output_type": "stream",
     "text": [
      "The coefficient for Unnamed: 0 is 0.1645531728065059\n",
      "The coefficient for Age is -0.9249741072925759\n",
      "The coefficient for Mileage is -0.44089307793153615\n",
      "The coefficient for Porsche is 15.557738909097363\n",
      "The coefficient for Jaguar is -8.645096910744584\n",
      "The coefficient for BMW is -6.912641998352786\n"
     ]
    }
   ],
   "source": [
    "for idx, col_name in enumerate(X.columns):\n",
    "    print(\"The coefficient for {} is {}\".format(col_name, regression_model.coef_[0][idx]))"
   ]
  },
  {
   "cell_type": "code",
   "execution_count": 20,
   "metadata": {},
   "outputs": [
    {
     "name": "stdout",
     "output_type": "stream",
     "text": [
      "The intercept for our model is 53.53816342227027\n"
     ]
    }
   ],
   "source": [
    "intercept = regression_model.intercept_[0]\n",
    "\n",
    "print(\"The intercept for our model is {}\".format(intercept))"
   ]
  },
  {
   "cell_type": "code",
   "execution_count": 21,
   "metadata": {},
   "outputs": [
    {
     "data": {
      "text/plain": [
       "0.7866454379741983"
      ]
     },
     "execution_count": 21,
     "metadata": {},
     "output_type": "execute_result"
    }
   ],
   "source": [
    "regression_model.score(X, y)"
   ]
  },
  {
   "cell_type": "code",
   "execution_count": 22,
   "metadata": {},
   "outputs": [
    {
     "data": {
      "text/html": [
       "<div>\n",
       "<style scoped>\n",
       "    .dataframe tbody tr th:only-of-type {\n",
       "        vertical-align: middle;\n",
       "    }\n",
       "\n",
       "    .dataframe tbody tr th {\n",
       "        vertical-align: top;\n",
       "    }\n",
       "\n",
       "    .dataframe thead th {\n",
       "        text-align: right;\n",
       "    }\n",
       "</style>\n",
       "<table border=\"1\" class=\"dataframe\">\n",
       "  <thead>\n",
       "    <tr style=\"text-align: right;\">\n",
       "      <th></th>\n",
       "      <th>Unnamed: 0</th>\n",
       "      <th>Age</th>\n",
       "      <th>Mileage</th>\n",
       "      <th>Porsche</th>\n",
       "      <th>Jaguar</th>\n",
       "      <th>BMW</th>\n",
       "      <th>Price</th>\n",
       "    </tr>\n",
       "  </thead>\n",
       "  <tbody>\n",
       "    <tr>\n",
       "      <th>0</th>\n",
       "      <td>1</td>\n",
       "      <td>3</td>\n",
       "      <td>21.5</td>\n",
       "      <td>1</td>\n",
       "      <td>0</td>\n",
       "      <td>0</td>\n",
       "      <td>69.4</td>\n",
       "    </tr>\n",
       "    <tr>\n",
       "      <th>1</th>\n",
       "      <td>2</td>\n",
       "      <td>3</td>\n",
       "      <td>43.0</td>\n",
       "      <td>1</td>\n",
       "      <td>0</td>\n",
       "      <td>0</td>\n",
       "      <td>56.9</td>\n",
       "    </tr>\n",
       "    <tr>\n",
       "      <th>2</th>\n",
       "      <td>3</td>\n",
       "      <td>2</td>\n",
       "      <td>19.9</td>\n",
       "      <td>1</td>\n",
       "      <td>0</td>\n",
       "      <td>0</td>\n",
       "      <td>49.9</td>\n",
       "    </tr>\n",
       "    <tr>\n",
       "      <th>3</th>\n",
       "      <td>4</td>\n",
       "      <td>4</td>\n",
       "      <td>36.0</td>\n",
       "      <td>1</td>\n",
       "      <td>0</td>\n",
       "      <td>0</td>\n",
       "      <td>47.4</td>\n",
       "    </tr>\n",
       "    <tr>\n",
       "      <th>4</th>\n",
       "      <td>5</td>\n",
       "      <td>4</td>\n",
       "      <td>44.0</td>\n",
       "      <td>1</td>\n",
       "      <td>0</td>\n",
       "      <td>0</td>\n",
       "      <td>42.9</td>\n",
       "    </tr>\n",
       "  </tbody>\n",
       "</table>\n",
       "</div>"
      ],
      "text/plain": [
       "   Unnamed: 0  Age  Mileage  Porsche  Jaguar  BMW  Price\n",
       "0           1    3     21.5        1       0    0   69.4\n",
       "1           2    3     43.0        1       0    0   56.9\n",
       "2           3    2     19.9        1       0    0   49.9\n",
       "3           4    4     36.0        1       0    0   47.4\n",
       "4           5    4     44.0        1       0    0   42.9"
      ]
     },
     "execution_count": 22,
     "metadata": {},
     "output_type": "execute_result"
    }
   ],
   "source": [
    "data_train = pd.concat([X, y], axis=1)\n",
    "data_train.head()"
   ]
  },
  {
   "cell_type": "code",
   "execution_count": 24,
   "metadata": {},
   "outputs": [
    {
     "data": {
      "text/plain": [
       "Intercept    45.748646\n",
       "Age          -0.763526\n",
       "Mileage      -0.462333\n",
       "Porsche      25.644514\n",
       "Jaguar        6.599498\n",
       "BMW          13.504634\n",
       "dtype: float64"
      ]
     },
     "execution_count": 24,
     "metadata": {},
     "output_type": "execute_result"
    }
   ],
   "source": [
    "import statsmodels.formula.api as smf\n",
    "lm1 = smf.ols(formula= 'Price ~ Age+Mileage+Porsche+Jaguar+BMW', data = data_train).fit()\n",
    "lm1.params"
   ]
  },
  {
   "cell_type": "code",
   "execution_count": 26,
   "metadata": {},
   "outputs": [
    {
     "name": "stdout",
     "output_type": "stream",
     "text": [
      "                            OLS Regression Results                            \n",
      "==============================================================================\n",
      "Dep. Variable:                  Price   R-squared:                       0.781\n",
      "Model:                            OLS   Adj. R-squared:                  0.770\n",
      "Method:                 Least Squares   F-statistic:                     75.59\n",
      "Date:                Sun, 04 Jul 2021   Prob (F-statistic):           3.46e-27\n",
      "Time:                        17:01:04   Log-Likelihood:                -317.27\n",
      "No. Observations:                  90   AIC:                             644.5\n",
      "Df Residuals:                      85   BIC:                             657.0\n",
      "Df Model:                           4                                         \n",
      "Covariance Type:            nonrobust                                         \n",
      "==============================================================================\n",
      "                 coef    std err          t      P>|t|      [0.025      0.975]\n",
      "------------------------------------------------------------------------------\n",
      "Intercept     45.7486      1.432     31.955      0.000      42.902      48.595\n",
      "Age           -0.7635      0.361     -2.112      0.038      -1.482      -0.045\n",
      "Mileage       -0.4623      0.064     -7.271      0.000      -0.589      -0.336\n",
      "Porsche       25.6445      1.390     18.446      0.000      22.880      28.409\n",
      "Jaguar         6.5995      1.296      5.093      0.000       4.023       9.176\n",
      "BMW           13.5046      1.652      8.174      0.000      10.220      16.790\n",
      "==============================================================================\n",
      "Omnibus:                        0.153   Durbin-Watson:                   1.791\n",
      "Prob(Omnibus):                  0.926   Jarque-Bera (JB):                0.174\n",
      "Skew:                           0.092   Prob(JB):                        0.917\n",
      "Kurtosis:                       2.889   Cond. No.                     2.83e+17\n",
      "==============================================================================\n",
      "\n",
      "Notes:\n",
      "[1] Standard Errors assume that the covariance matrix of the errors is correctly specified.\n",
      "[2] The smallest eigenvalue is 2.58e-30. This might indicate that there are\n",
      "strong multicollinearity problems or that the design matrix is singular.\n"
     ]
    }
   ],
   "source": [
    "print(lm1.summary())  #Inferential statistics"
   ]
  },
  {
   "cell_type": "code",
   "execution_count": 34,
   "metadata": {},
   "outputs": [],
   "source": [
    "y_pred = lm1.predict(data_train)"
   ]
  },
  {
   "cell_type": "code",
   "execution_count": 36,
   "metadata": {},
   "outputs": [
    {
     "data": {
      "image/png": "[encoded data removed]",
      "text/plain": [
       "<Figure size 432x288 with 1 Axes>"
      ]
     },
     "metadata": {
      "needs_background": "light"
     },
     "output_type": "display_data"
    }
   ],
   "source": [
    "plt.scatter(y['Price'], y_pred)\n",
    "plt.show()"
   ]
  },
  {
   "cell_type": "code",
   "execution_count": 37,
   "metadata": {},
   "outputs": [
    {
     "name": "stdout",
     "output_type": "stream",
     "text": [
      "(45.75) * Intercept + (-0.76) * Age + (-0.46) * Mileage + (25.64) * Porsche + (6.6) * Jaguar + (13.5) * BMW + "
     ]
    }
   ],
   "source": [
    "for i,j in np.array(lm1.params.reset_index()):\n",
    "    print('({}) * {} +'.format(round(j,2),i),end=' ')"
   ]
  },
  {
   "cell_type": "code",
   "execution_count": 40,
   "metadata": {},
   "outputs": [
    {
     "data": {
      "text/plain": [
       "49.33"
      ]
     },
     "execution_count": 40,
     "metadata": {},
     "output_type": "execute_result"
    }
   ],
   "source": [
    "(45.75) * 1 + (-0.76) * 3 + (-0.46) * 43 + (25.64) * 1 + (6.6) * 0 + (13.5) * 0"
   ]
  },
  {
   "cell_type": "code",
   "execution_count": null,
   "metadata": {},
   "outputs": [],
   "source": []
  },
  {
   "cell_type": "code",
   "execution_count": null,
   "metadata": {},
   "outputs": [],
   "source": []
  },
  {
   "cell_type": "code",
   "execution_count": 32,
   "metadata": {},
   "outputs": [],
   "source": [
    "y_pred = regression_model.predict(X)"
   ]
  },
  {
   "cell_type": "code",
   "execution_count": 33,
   "metadata": {},
   "outputs": [
    {
     "data": {
      "text/plain": [
       "array([[57.00633201],\n",
       "       [47.691684  ],\n",
       "       [58.96584138],\n",
       "       [50.18206779],\n",
       "       [46.81947634],\n",
       "       [42.57690144],\n",
       "       [69.67461354],\n",
       "       [70.11692935],\n",
       "       [62.81896543],\n",
       "       [66.4647712 ],\n",
       "       [62.31037493],\n",
       "       [65.03210795],\n",
       "       [59.11413936],\n",
       "       [62.93720372],\n",
       "       [47.36818351],\n",
       "       [50.09081789],\n",
       "       [59.19919105],\n",
       "       [56.23340337],\n",
       "       [40.17849941],\n",
       "       [55.32710774],\n",
       "       [49.40823779],\n",
       "       [38.73493346],\n",
       "       [51.89952293],\n",
       "       [58.45702574],\n",
       "       [38.47456796],\n",
       "       [44.67845495],\n",
       "       [15.53533607],\n",
       "       [16.58347811],\n",
       "       [17.45165749],\n",
       "       [54.76817408],\n",
       "       [24.33874451],\n",
       "       [24.94509212],\n",
       "       [31.05989913],\n",
       "       [39.99642184],\n",
       "       [12.87420028],\n",
       "       [29.96544222],\n",
       "       [13.90873555],\n",
       "       [24.30290948],\n",
       "       [43.2027144 ],\n",
       "       [45.83266338],\n",
       "       [41.36964195],\n",
       "       [28.96964376],\n",
       "       [19.39226262],\n",
       "       [19.38406399],\n",
       "       [14.03565097],\n",
       "       [34.08087654],\n",
       "       [19.87772351],\n",
       "       [32.86865982],\n",
       "       [29.02018463],\n",
       "       [43.46696946],\n",
       "       [13.70029078],\n",
       "       [27.88344112],\n",
       "       [49.60406037],\n",
       "       [48.71047016],\n",
       "       [35.95956022],\n",
       "       [46.61646729],\n",
       "       [48.1900756 ],\n",
       "       [36.58548766],\n",
       "       [38.90951556],\n",
       "       [39.64813109],\n",
       "       [22.2394305 ],\n",
       "       [32.3204725 ],\n",
       "       [ 1.49474908],\n",
       "       [20.61319782],\n",
       "       [19.63233034],\n",
       "       [19.88506213],\n",
       "       [25.55897607],\n",
       "       [30.22063863],\n",
       "       [20.11328445],\n",
       "       [21.24780239],\n",
       "       [24.23226855],\n",
       "       [35.50822864],\n",
       "       [54.67076669],\n",
       "       [41.0821599 ],\n",
       "       [32.69338737],\n",
       "       [27.08404393],\n",
       "       [22.3996746 ],\n",
       "       [24.28190807],\n",
       "       [26.87227452],\n",
       "       [36.33877028],\n",
       "       [55.06221797],\n",
       "       [42.39858529],\n",
       "       [34.14208067],\n",
       "       [56.5249409 ],\n",
       "       [13.97236296],\n",
       "       [25.20243103],\n",
       "       [34.75800677],\n",
       "       [35.84753405],\n",
       "       [41.65461726],\n",
       "       [28.94779663]])"
      ]
     },
     "execution_count": 33,
     "metadata": {},
     "output_type": "execute_result"
    }
   ],
   "source": [
    "y_pred"
   ]
  },
  {
   "cell_type": "code",
   "execution_count": null,
   "metadata": {},
   "outputs": [],
   "source": [
    "regression_model.score(X_test, y_test)"
   ]
  },
  {
   "cell_type": "code",
   "execution_count": null,
   "metadata": {},
   "outputs": [],
   "source": [
    "1/(1-0.81)"
   ]
  },
  {
   "cell_type": "code",
   "execution_count": null,
   "metadata": {},
   "outputs": [],
   "source": []
  },
  {
   "cell_type": "code",
   "execution_count": null,
   "metadata": {},
   "outputs": [],
   "source": [
    "from sklearn.model_selection import train_test_split"
   ]
  },
  {
   "cell_type": "code",
   "execution_count": null,
   "metadata": {},
   "outputs": [],
   "source": [
    "X_train, X_test, y_train, y_test = train_test_split(X, y, test_size=0.30 , random_state=1)"
   ]
  },
  {
   "cell_type": "code",
   "execution_count": null,
   "metadata": {},
   "outputs": [],
   "source": [
    "Age is -0.658802344314993 + Mileage is -0.45916447453449605 + (1 * 11.704360203334907)"
   ]
  },
  {
   "cell_type": "code",
   "execution_count": null,
   "metadata": {},
   "outputs": [],
   "source": []
  }
 ],
 "metadata": {
  "kernelspec": {
   "display_name": "Python 3",
   "language": "python",
   "name": "python3"
  },
  "language_info": {
   "codemirror_mode": {
    "name": "ipython",
    "version": 3
   },
   "file_extension": ".py",
   "mimetype": "text/x-python",
   "name": "python",
   "nbconvert_exporter": "python",
   "pygments_lexer": "ipython3",
   "version": "3.8.5"
  }
 },
 "nbformat": 4,
 "nbformat_minor": 4
}
