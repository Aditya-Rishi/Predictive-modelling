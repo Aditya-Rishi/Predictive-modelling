{
 "cells": [
  {
   "cell_type": "code",
   "execution_count": 79,
   "metadata": {},
   "outputs": [],
   "source": [
    "import numpy as np\n",
    "import pandas as pd\n",
    "from warnings import filterwarnings\n",
    "filterwarnings('ignore')\n",
    "import statsmodels.formula.api as smf"
   ]
  },
  {
   "cell_type": "code",
   "execution_count": 80,
   "metadata": {},
   "outputs": [
    {
     "data": {
      "text/html": [
       "<div>\n",
       "<style scoped>\n",
       "    .dataframe tbody tr th:only-of-type {\n",
       "        vertical-align: middle;\n",
       "    }\n",
       "\n",
       "    .dataframe tbody tr th {\n",
       "        vertical-align: top;\n",
       "    }\n",
       "\n",
       "    .dataframe thead th {\n",
       "        text-align: right;\n",
       "    }\n",
       "</style>\n",
       "<table border=\"1\" class=\"dataframe\">\n",
       "  <thead>\n",
       "    <tr style=\"text-align: right;\">\n",
       "      <th></th>\n",
       "      <th>country_id</th>\n",
       "      <th>country_name</th>\n",
       "      <th>medals_won</th>\n",
       "      <th>total_medals</th>\n",
       "      <th>medals_per_edition</th>\n",
       "      <th>prev_medals_1</th>\n",
       "      <th>prev_medals_2</th>\n",
       "      <th>atheletes</th>\n",
       "      <th>health</th>\n",
       "      <th>gdp_pc</th>\n",
       "    </tr>\n",
       "  </thead>\n",
       "  <tbody>\n",
       "    <tr>\n",
       "      <th>0</th>\n",
       "      <td>20210001</td>\n",
       "      <td>Afghanistan</td>\n",
       "      <td>0</td>\n",
       "      <td>2</td>\n",
       "      <td>0.1538</td>\n",
       "      <td>1</td>\n",
       "      <td>1</td>\n",
       "      <td>3</td>\n",
       "      <td>60.188671</td>\n",
       "      <td>509.22</td>\n",
       "    </tr>\n",
       "    <tr>\n",
       "      <th>1</th>\n",
       "      <td>20210002</td>\n",
       "      <td>Albania</td>\n",
       "      <td>0</td>\n",
       "      <td>0</td>\n",
       "      <td>0.0000</td>\n",
       "      <td>0</td>\n",
       "      <td>0</td>\n",
       "      <td>6</td>\n",
       "      <td>202.013321</td>\n",
       "      <td>4124.06</td>\n",
       "    </tr>\n",
       "    <tr>\n",
       "      <th>2</th>\n",
       "      <td>20210003</td>\n",
       "      <td>Algeria</td>\n",
       "      <td>2</td>\n",
       "      <td>15</td>\n",
       "      <td>1.2500</td>\n",
       "      <td>1</td>\n",
       "      <td>2</td>\n",
       "      <td>64</td>\n",
       "      <td>260.772552</td>\n",
       "      <td>3946.45</td>\n",
       "    </tr>\n",
       "    <tr>\n",
       "      <th>3</th>\n",
       "      <td>20210004</td>\n",
       "      <td>American Samoa</td>\n",
       "      <td>0</td>\n",
       "      <td>0</td>\n",
       "      <td>0.0000</td>\n",
       "      <td>0</td>\n",
       "      <td>0</td>\n",
       "      <td>4</td>\n",
       "      <td>0.000000</td>\n",
       "      <td>12038.25</td>\n",
       "    </tr>\n",
       "    <tr>\n",
       "      <th>4</th>\n",
       "      <td>20210005</td>\n",
       "      <td>Andorra</td>\n",
       "      <td>0</td>\n",
       "      <td>0</td>\n",
       "      <td>0.0000</td>\n",
       "      <td>0</td>\n",
       "      <td>0</td>\n",
       "      <td>4</td>\n",
       "      <td>2361.217529</td>\n",
       "      <td>37475.64</td>\n",
       "    </tr>\n",
       "  </tbody>\n",
       "</table>\n",
       "</div>"
      ],
      "text/plain": [
       "   country_id    country_name  medals_won  total_medals  medals_per_edition  \\\n",
       "0    20210001     Afghanistan           0             2              0.1538   \n",
       "1    20210002         Albania           0             0              0.0000   \n",
       "2    20210003         Algeria           2            15              1.2500   \n",
       "3    20210004  American Samoa           0             0              0.0000   \n",
       "4    20210005         Andorra           0             0              0.0000   \n",
       "\n",
       "   prev_medals_1  prev_medals_2  atheletes       health    gdp_pc  \n",
       "0              1              1          3    60.188671    509.22  \n",
       "1              0              0          6   202.013321   4124.06  \n",
       "2              1              2         64   260.772552   3946.45  \n",
       "3              0              0          4     0.000000  12038.25  \n",
       "4              0              0          4  2361.217529  37475.64  "
      ]
     },
     "execution_count": 80,
     "metadata": {},
     "output_type": "execute_result"
    }
   ],
   "source": [
    "df_train = pd.read_excel('gl_olympic_tokyo_2020_hackathon_final_feb-b_g9_sat_mandeep_3pm.xlsx', sheet_name = 'train_data')\n",
    "df_train.head()"
   ]
  },
  {
   "cell_type": "code",
   "execution_count": 81,
   "metadata": {},
   "outputs": [
    {
     "name": "stdout",
     "output_type": "stream",
     "text": [
      "<class 'pandas.core.frame.DataFrame'>\n",
      "RangeIndex: 615 entries, 0 to 614\n",
      "Data columns (total 10 columns):\n",
      " #   Column              Non-Null Count  Dtype  \n",
      "---  ------              --------------  -----  \n",
      " 0   country_id          615 non-null    int64  \n",
      " 1   country_name        615 non-null    object \n",
      " 2   medals_won          615 non-null    int64  \n",
      " 3   total_medals        615 non-null    int64  \n",
      " 4   medals_per_edition  615 non-null    float64\n",
      " 5   prev_medals_1       615 non-null    int64  \n",
      " 6   prev_medals_2       615 non-null    int64  \n",
      " 7   atheletes           615 non-null    int64  \n",
      " 8   health              615 non-null    float64\n",
      " 9   gdp_pc              615 non-null    float64\n",
      "dtypes: float64(3), int64(6), object(1)\n",
      "memory usage: 48.2+ KB\n"
     ]
    }
   ],
   "source": [
    "df_train.info()"
   ]
  },
  {
   "cell_type": "code",
   "execution_count": 82,
   "metadata": {},
   "outputs": [
    {
     "data": {
      "text/plain": [
       "Index(['country_id', 'country_name', 'medals_won', 'total_medals',\n",
       "       'medals_per_edition', 'prev_medals_1', 'prev_medals_2', 'atheletes',\n",
       "       'health', 'gdp_pc'],\n",
       "      dtype='object')"
      ]
     },
     "execution_count": 82,
     "metadata": {},
     "output_type": "execute_result"
    }
   ],
   "source": [
    "df_train.columns"
   ]
  },
  {
   "cell_type": "code",
   "execution_count": 98,
   "metadata": {},
   "outputs": [
    {
     "data": {
      "text/plain": [
       "Intercept            -0.240597\n",
       "total_medals          0.007464\n",
       "medals_per_edition   -0.088797\n",
       "prev_medals_1         0.776450\n",
       "prev_medals_2         0.001168\n",
       "atheletes             0.024024\n",
       "health               -0.000069\n",
       "gdp_pc               -0.000004\n",
       "dtype: float64"
      ]
     },
     "execution_count": 98,
     "metadata": {},
     "output_type": "execute_result"
    }
   ],
   "source": [
    "f = 'medals_won~ total_medals+medals_per_edition+prev_medals_1+prev_medals_2+atheletes+health+gdp_pc'\n",
    "\n",
    "lrm = smf.ols(formula = f, data = df_train).fit()\n",
    "\n",
    "pd.DataFrame(lrm.params).to_excel('coefficients.xlsx', sheet_name = 'coefficients')\n",
    "\n",
    "lrm.params"
   ]
  },
  {
   "cell_type": "code",
   "execution_count": 99,
   "metadata": {},
   "outputs": [
    {
     "name": "stdout",
     "output_type": "stream",
     "text": [
      "                            OLS Regression Results                            \n",
      "==============================================================================\n",
      "Dep. Variable:             medals_won   R-squared:                       0.941\n",
      "Model:                            OLS   Adj. R-squared:                  0.940\n",
      "Method:                 Least Squares   F-statistic:                     1378.\n",
      "Date:                Fri, 23 Jul 2021   Prob (F-statistic):               0.00\n",
      "Time:                        23:26:59   Log-Likelihood:                -1590.5\n",
      "No. Observations:                 615   AIC:                             3197.\n",
      "Df Residuals:                     607   BIC:                             3232.\n",
      "Df Model:                           7                                         \n",
      "Covariance Type:            nonrobust                                         \n",
      "======================================================================================\n",
      "                         coef    std err          t      P>|t|      [0.025      0.975]\n",
      "--------------------------------------------------------------------------------------\n",
      "Intercept             -0.2406      0.170     -1.412      0.159      -0.575       0.094\n",
      "total_medals           0.0075      0.002      3.564      0.000       0.003       0.012\n",
      "medals_per_edition    -0.0888      0.057     -1.551      0.122      -0.201       0.024\n",
      "prev_medals_1          0.7765      0.042     18.465      0.000       0.694       0.859\n",
      "prev_medals_2          0.0012      0.046      0.026      0.980      -0.088       0.091\n",
      "atheletes              0.0240      0.003      7.833      0.000       0.018       0.030\n",
      "health             -6.878e-05      0.000     -0.521      0.602      -0.000       0.000\n",
      "gdp_pc             -3.565e-06   7.07e-06     -0.505      0.614   -1.74e-05    1.03e-05\n",
      "==============================================================================\n",
      "Omnibus:                      465.105   Durbin-Watson:                   2.016\n",
      "Prob(Omnibus):                  0.000   Jarque-Bera (JB):            47687.078\n",
      "Skew:                           2.560   Prob(JB):                         0.00\n",
      "Kurtosis:                      45.834   Cond. No.                     3.88e+04\n",
      "==============================================================================\n",
      "\n",
      "Notes:\n",
      "[1] Standard Errors assume that the covariance matrix of the errors is correctly specified.\n",
      "[2] The condition number is large, 3.88e+04. This might indicate that there are\n",
      "strong multicollinearity or other numerical problems.\n"
     ]
    }
   ],
   "source": [
    "print(lrm.summary())"
   ]
  },
  {
   "cell_type": "code",
   "execution_count": 100,
   "metadata": {},
   "outputs": [
    {
     "data": {
      "text/html": [
       "<div>\n",
       "<style scoped>\n",
       "    .dataframe tbody tr th:only-of-type {\n",
       "        vertical-align: middle;\n",
       "    }\n",
       "\n",
       "    .dataframe tbody tr th {\n",
       "        vertical-align: top;\n",
       "    }\n",
       "\n",
       "    .dataframe thead th {\n",
       "        text-align: right;\n",
       "    }\n",
       "</style>\n",
       "<table border=\"1\" class=\"dataframe\">\n",
       "  <thead>\n",
       "    <tr style=\"text-align: right;\">\n",
       "      <th></th>\n",
       "      <th>country_id</th>\n",
       "      <th>country_name</th>\n",
       "      <th>total_medals</th>\n",
       "      <th>medals_per_edition</th>\n",
       "      <th>prev_medals_1</th>\n",
       "      <th>prev_medals_2</th>\n",
       "      <th>atheletes</th>\n",
       "      <th>health</th>\n",
       "      <th>gdp_pc</th>\n",
       "    </tr>\n",
       "  </thead>\n",
       "  <tbody>\n",
       "    <tr>\n",
       "      <th>0</th>\n",
       "      <td>20210001</td>\n",
       "      <td>Afghanistan</td>\n",
       "      <td>2</td>\n",
       "      <td>0.1429</td>\n",
       "      <td>0</td>\n",
       "      <td>1</td>\n",
       "      <td>5</td>\n",
       "      <td>49.842609</td>\n",
       "      <td>508.81</td>\n",
       "    </tr>\n",
       "    <tr>\n",
       "      <th>1</th>\n",
       "      <td>20210002</td>\n",
       "      <td>Albania</td>\n",
       "      <td>0</td>\n",
       "      <td>0.0000</td>\n",
       "      <td>0</td>\n",
       "      <td>0</td>\n",
       "      <td>9</td>\n",
       "      <td>274.914093</td>\n",
       "      <td>5215.28</td>\n",
       "    </tr>\n",
       "    <tr>\n",
       "      <th>2</th>\n",
       "      <td>20210003</td>\n",
       "      <td>Algeria</td>\n",
       "      <td>17</td>\n",
       "      <td>1.3077</td>\n",
       "      <td>2</td>\n",
       "      <td>1</td>\n",
       "      <td>44</td>\n",
       "      <td>255.869431</td>\n",
       "      <td>3310.39</td>\n",
       "    </tr>\n",
       "    <tr>\n",
       "      <th>3</th>\n",
       "      <td>20210004</td>\n",
       "      <td>American Samoa</td>\n",
       "      <td>0</td>\n",
       "      <td>0.0000</td>\n",
       "      <td>0</td>\n",
       "      <td>0</td>\n",
       "      <td>6</td>\n",
       "      <td>0.000000</td>\n",
       "      <td>11413.66</td>\n",
       "    </tr>\n",
       "    <tr>\n",
       "      <th>4</th>\n",
       "      <td>20210005</td>\n",
       "      <td>Andorra</td>\n",
       "      <td>0</td>\n",
       "      <td>0.0000</td>\n",
       "      <td>0</td>\n",
       "      <td>0</td>\n",
       "      <td>2</td>\n",
       "      <td>2821.801270</td>\n",
       "      <td>41804.18</td>\n",
       "    </tr>\n",
       "  </tbody>\n",
       "</table>\n",
       "</div>"
      ],
      "text/plain": [
       "   country_id    country_name  total_medals  medals_per_edition  \\\n",
       "0    20210001     Afghanistan             2              0.1429   \n",
       "1    20210002         Albania             0              0.0000   \n",
       "2    20210003         Algeria            17              1.3077   \n",
       "3    20210004  American Samoa             0              0.0000   \n",
       "4    20210005         Andorra             0              0.0000   \n",
       "\n",
       "   prev_medals_1  prev_medals_2  atheletes       health    gdp_pc  \n",
       "0              0              1          5    49.842609    508.81  \n",
       "1              0              0          9   274.914093   5215.28  \n",
       "2              2              1         44   255.869431   3310.39  \n",
       "3              0              0          6     0.000000  11413.66  \n",
       "4              0              0          2  2821.801270  41804.18  "
      ]
     },
     "execution_count": 100,
     "metadata": {},
     "output_type": "execute_result"
    }
   ],
   "source": [
    "df_test = pd.read_excel('gl_olympic_tokyo_2020_hackathon_final_feb-b_g9_sat_mandeep_3pm.xlsx', sheet_name = 'test_data')\n",
    "df_test.head()"
   ]
  },
  {
   "cell_type": "code",
   "execution_count": 101,
   "metadata": {},
   "outputs": [],
   "source": [
    "df_test = df_test.drop(['country_id', 'country_name'], axis = 1)"
   ]
  },
  {
   "cell_type": "code",
   "execution_count": 106,
   "metadata": {},
   "outputs": [
    {
     "data": {
      "text/html": [
       "<div>\n",
       "<style scoped>\n",
       "    .dataframe tbody tr th:only-of-type {\n",
       "        vertical-align: middle;\n",
       "    }\n",
       "\n",
       "    .dataframe tbody tr th {\n",
       "        vertical-align: top;\n",
       "    }\n",
       "\n",
       "    .dataframe thead th {\n",
       "        text-align: right;\n",
       "    }\n",
       "</style>\n",
       "<table border=\"1\" class=\"dataframe\">\n",
       "  <thead>\n",
       "    <tr style=\"text-align: right;\">\n",
       "      <th></th>\n",
       "      <th>medals_tally</th>\n",
       "    </tr>\n",
       "  </thead>\n",
       "  <tbody>\n",
       "    <tr>\n",
       "      <th>0</th>\n",
       "      <td>-0.0</td>\n",
       "    </tr>\n",
       "    <tr>\n",
       "      <th>1</th>\n",
       "      <td>-0.0</td>\n",
       "    </tr>\n",
       "    <tr>\n",
       "      <th>2</th>\n",
       "      <td>2.0</td>\n",
       "    </tr>\n",
       "    <tr>\n",
       "      <th>3</th>\n",
       "      <td>-0.0</td>\n",
       "    </tr>\n",
       "    <tr>\n",
       "      <th>4</th>\n",
       "      <td>-1.0</td>\n",
       "    </tr>\n",
       "  </tbody>\n",
       "</table>\n",
       "</div>"
      ],
      "text/plain": [
       "   medals_tally\n",
       "0          -0.0\n",
       "1          -0.0\n",
       "2           2.0\n",
       "3          -0.0\n",
       "4          -1.0"
      ]
     },
     "execution_count": 106,
     "metadata": {},
     "output_type": "execute_result"
    }
   ],
   "source": [
    "pred_medals = pd.DataFrame()\n",
    "pred_medals['medals_tally'] = round(lrm.predict(df_test),0)\n",
    "pred_medals.head()"
   ]
  },
  {
   "cell_type": "code",
   "execution_count": 104,
   "metadata": {},
   "outputs": [
    {
     "name": "stdout",
     "output_type": "stream",
     "text": [
      "<class 'pandas.core.frame.DataFrame'>\n",
      "Int64Index: 205 entries, 0 to 204\n",
      "Data columns (total 1 columns):\n",
      " #   Column        Non-Null Count  Dtype  \n",
      "---  ------        --------------  -----  \n",
      " 0   medals_tally  205 non-null    float64\n",
      "dtypes: float64(1)\n",
      "memory usage: 3.2 KB\n"
     ]
    }
   ],
   "source": [
    "pred_medals.info()"
   ]
  },
  {
   "cell_type": "code",
   "execution_count": 105,
   "metadata": {
    "scrolled": false
   },
   "outputs": [
    {
     "data": {
      "text/html": [
       "<div>\n",
       "<style scoped>\n",
       "    .dataframe tbody tr th:only-of-type {\n",
       "        vertical-align: middle;\n",
       "    }\n",
       "\n",
       "    .dataframe tbody tr th {\n",
       "        vertical-align: top;\n",
       "    }\n",
       "\n",
       "    .dataframe thead th {\n",
       "        text-align: right;\n",
       "    }\n",
       "</style>\n",
       "<table border=\"1\" class=\"dataframe\">\n",
       "  <thead>\n",
       "    <tr style=\"text-align: right;\">\n",
       "      <th></th>\n",
       "      <th>medals_tally</th>\n",
       "    </tr>\n",
       "  </thead>\n",
       "  <tbody>\n",
       "    <tr>\n",
       "      <th>0</th>\n",
       "      <td>0.0</td>\n",
       "    </tr>\n",
       "    <tr>\n",
       "      <th>1</th>\n",
       "      <td>0.0</td>\n",
       "    </tr>\n",
       "    <tr>\n",
       "      <th>2</th>\n",
       "      <td>2.0</td>\n",
       "    </tr>\n",
       "    <tr>\n",
       "      <th>3</th>\n",
       "      <td>0.0</td>\n",
       "    </tr>\n",
       "    <tr>\n",
       "      <th>4</th>\n",
       "      <td>0.0</td>\n",
       "    </tr>\n",
       "  </tbody>\n",
       "</table>\n",
       "</div>"
      ],
      "text/plain": [
       "   medals_tally\n",
       "0           0.0\n",
       "1           0.0\n",
       "2           2.0\n",
       "3           0.0\n",
       "4           0.0"
      ]
     },
     "execution_count": 105,
     "metadata": {},
     "output_type": "execute_result"
    }
   ],
   "source": [
    "pred_medals = pred_medals.replace(-0.0, 0)\n",
    "pred_medals['medals_tally'] = np.where(pred_medals['medals_tally'] < 0, 0, pred_medals['medals_tally'])\n",
    "pred_medals.to_excel('predicted_medals_tally_tokyo_olympics_2020.xlsx', sheet_name = 'pred_medals_tally')\n",
    "pred_medals.head()"
   ]
  },
  {
   "cell_type": "code",
   "execution_count": 97,
   "metadata": {},
   "outputs": [
    {
     "data": {
      "text/plain": [
       "1010.0"
      ]
     },
     "execution_count": 97,
     "metadata": {},
     "output_type": "execute_result"
    }
   ],
   "source": [
    "pred_medals['medals_tally'].sum()"
   ]
  },
  {
   "cell_type": "code",
   "execution_count": null,
   "metadata": {},
   "outputs": [],
   "source": []
  }
 ],
 "metadata": {
  "kernelspec": {
   "display_name": "Python 3",
   "language": "python",
   "name": "python3"
  },
  "language_info": {
   "codemirror_mode": {
    "name": "ipython",
    "version": 3
   },
   "file_extension": ".py",
   "mimetype": "text/x-python",
   "name": "python",
   "nbconvert_exporter": "python",
   "pygments_lexer": "ipython3",
   "version": "3.8.5"
  }
 },
 "nbformat": 4,
 "nbformat_minor": 4
}
