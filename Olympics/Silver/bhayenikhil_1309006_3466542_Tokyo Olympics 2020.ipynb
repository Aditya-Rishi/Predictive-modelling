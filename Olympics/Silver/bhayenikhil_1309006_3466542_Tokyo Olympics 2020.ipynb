{
 "cells": [
  {
   "cell_type": "code",
   "execution_count": 1,
   "metadata": {},
   "outputs": [],
   "source": [
    "import numpy as np   \n",
    "import pandas as pd    \n",
    "import seaborn as sns\n",
    "from sklearn.linear_model import LinearRegression\n",
    "from sklearn import metrics\n",
    "import matplotlib.pyplot as plt   \n",
    "import matplotlib.style"
   ]
  },
  {
   "cell_type": "code",
   "execution_count": 77,
   "metadata": {},
   "outputs": [],
   "source": [
    "df = pd.read_excel('Data for Modelling.xlsx')\n",
    "#Take Raw Data as Xlsx File"
   ]
  },
  {
   "cell_type": "code",
   "execution_count": 78,
   "metadata": {},
   "outputs": [
    {
     "data": {
      "text/html": [
       "<div>\n",
       "<style scoped>\n",
       "    .dataframe tbody tr th:only-of-type {\n",
       "        vertical-align: middle;\n",
       "    }\n",
       "\n",
       "    .dataframe tbody tr th {\n",
       "        vertical-align: top;\n",
       "    }\n",
       "\n",
       "    .dataframe thead th {\n",
       "        text-align: right;\n",
       "    }\n",
       "</style>\n",
       "<table border=\"1\" class=\"dataframe\">\n",
       "  <thead>\n",
       "    <tr style=\"text-align: right;\">\n",
       "      <th></th>\n",
       "      <th>Year</th>\n",
       "      <th>NOC</th>\n",
       "      <th>Country</th>\n",
       "      <th>DHE</th>\n",
       "      <th>GDP</th>\n",
       "      <th>PD</th>\n",
       "      <th>APE</th>\n",
       "      <th>AP</th>\n",
       "      <th>Home</th>\n",
       "      <th>Gold</th>\n",
       "      <th>Silver</th>\n",
       "      <th>Bronze</th>\n",
       "      <th>Medals</th>\n",
       "    </tr>\n",
       "  </thead>\n",
       "  <tbody>\n",
       "    <tr>\n",
       "      <th>0</th>\n",
       "      <td>1992</td>\n",
       "      <td>ALG</td>\n",
       "      <td>Algeria</td>\n",
       "      <td>NaN</td>\n",
       "      <td>NaN</td>\n",
       "      <td>NaN</td>\n",
       "      <td>0.140078</td>\n",
       "      <td>36.0</td>\n",
       "      <td>0</td>\n",
       "      <td>1</td>\n",
       "      <td>0</td>\n",
       "      <td>1</td>\n",
       "      <td>2</td>\n",
       "    </tr>\n",
       "    <tr>\n",
       "      <th>1</th>\n",
       "      <td>1992</td>\n",
       "      <td>ARG</td>\n",
       "      <td>Argentina</td>\n",
       "      <td>NaN</td>\n",
       "      <td>2.287886e+11</td>\n",
       "      <td>12.251779</td>\n",
       "      <td>0.431907</td>\n",
       "      <td>111.0</td>\n",
       "      <td>0</td>\n",
       "      <td>0</td>\n",
       "      <td>0</td>\n",
       "      <td>1</td>\n",
       "      <td>1</td>\n",
       "    </tr>\n",
       "    <tr>\n",
       "      <th>2</th>\n",
       "      <td>1992</td>\n",
       "      <td>AUS</td>\n",
       "      <td>Australia</td>\n",
       "      <td>NaN</td>\n",
       "      <td>3.248843e+11</td>\n",
       "      <td>2.277313</td>\n",
       "      <td>1.517510</td>\n",
       "      <td>390.0</td>\n",
       "      <td>0</td>\n",
       "      <td>7</td>\n",
       "      <td>9</td>\n",
       "      <td>11</td>\n",
       "      <td>27</td>\n",
       "    </tr>\n",
       "    <tr>\n",
       "      <th>3</th>\n",
       "      <td>1992</td>\n",
       "      <td>AUT</td>\n",
       "      <td>Austria</td>\n",
       "      <td>NaN</td>\n",
       "      <td>1.417642e+10</td>\n",
       "      <td>94.946827</td>\n",
       "      <td>0.494163</td>\n",
       "      <td>127.0</td>\n",
       "      <td>0</td>\n",
       "      <td>0</td>\n",
       "      <td>2</td>\n",
       "      <td>0</td>\n",
       "      <td>2</td>\n",
       "    </tr>\n",
       "    <tr>\n",
       "      <th>4</th>\n",
       "      <td>1992</td>\n",
       "      <td>BAH</td>\n",
       "      <td>Bahamas</td>\n",
       "      <td>NaN</td>\n",
       "      <td>NaN</td>\n",
       "      <td>NaN</td>\n",
       "      <td>0.070039</td>\n",
       "      <td>18.0</td>\n",
       "      <td>0</td>\n",
       "      <td>0</td>\n",
       "      <td>0</td>\n",
       "      <td>1</td>\n",
       "      <td>1</td>\n",
       "    </tr>\n",
       "  </tbody>\n",
       "</table>\n",
       "</div>"
      ],
      "text/plain": [
       "   Year  NOC    Country  DHE           GDP         PD       APE     AP  Home  \\\n",
       "0  1992  ALG    Algeria  NaN           NaN        NaN  0.140078   36.0     0   \n",
       "1  1992  ARG  Argentina  NaN  2.287886e+11  12.251779  0.431907  111.0     0   \n",
       "2  1992  AUS  Australia  NaN  3.248843e+11   2.277313  1.517510  390.0     0   \n",
       "3  1992  AUT    Austria  NaN  1.417642e+10  94.946827  0.494163  127.0     0   \n",
       "4  1992  BAH    Bahamas  NaN           NaN        NaN  0.070039   18.0     0   \n",
       "\n",
       "   Gold  Silver  Bronze  Medals  \n",
       "0     1       0       1       2  \n",
       "1     0       0       1       1  \n",
       "2     7       9      11      27  \n",
       "3     0       2       0       2  \n",
       "4     0       0       1       1  "
      ]
     },
     "execution_count": 78,
     "metadata": {},
     "output_type": "execute_result"
    }
   ],
   "source": [
    "df.head()"
   ]
  },
  {
   "cell_type": "code",
   "execution_count": 79,
   "metadata": {},
   "outputs": [
    {
     "data": {
      "text/plain": [
       "(541, 13)"
      ]
     },
     "execution_count": 79,
     "metadata": {},
     "output_type": "execute_result"
    }
   ],
   "source": [
    "df.shape"
   ]
  },
  {
   "cell_type": "code",
   "execution_count": 80,
   "metadata": {
    "scrolled": false
   },
   "outputs": [
    {
     "name": "stdout",
     "output_type": "stream",
     "text": [
      "<class 'pandas.core.frame.DataFrame'>\n",
      "RangeIndex: 541 entries, 0 to 540\n",
      "Data columns (total 13 columns):\n",
      " #   Column   Non-Null Count  Dtype  \n",
      "---  ------   --------------  -----  \n",
      " 0   Year     541 non-null    int64  \n",
      " 1   NOC      541 non-null    object \n",
      " 2   Country  541 non-null    object \n",
      " 3   DHE      279 non-null    float64\n",
      " 4   GDP      366 non-null    float64\n",
      " 5   PD       378 non-null    float64\n",
      " 6   APE      541 non-null    float64\n",
      " 7   AP       541 non-null    float64\n",
      " 8   Home     541 non-null    int64  \n",
      " 9   Gold     541 non-null    int64  \n",
      " 10  Silver   541 non-null    int64  \n",
      " 11  Bronze   541 non-null    int64  \n",
      " 12  Medals   541 non-null    int64  \n",
      "dtypes: float64(5), int64(6), object(2)\n",
      "memory usage: 55.1+ KB\n"
     ]
    }
   ],
   "source": [
    "df.info()"
   ]
  },
  {
   "cell_type": "code",
   "execution_count": 81,
   "metadata": {
    "scrolled": false
   },
   "outputs": [
    {
     "data": {
      "text/html": [
       "<div>\n",
       "<style scoped>\n",
       "    .dataframe tbody tr th:only-of-type {\n",
       "        vertical-align: middle;\n",
       "    }\n",
       "\n",
       "    .dataframe tbody tr th {\n",
       "        vertical-align: top;\n",
       "    }\n",
       "\n",
       "    .dataframe thead th {\n",
       "        text-align: right;\n",
       "    }\n",
       "</style>\n",
       "<table border=\"1\" class=\"dataframe\">\n",
       "  <thead>\n",
       "    <tr style=\"text-align: right;\">\n",
       "      <th></th>\n",
       "      <th>Year</th>\n",
       "      <th>DHE</th>\n",
       "      <th>GDP</th>\n",
       "      <th>PD</th>\n",
       "      <th>APE</th>\n",
       "      <th>AP</th>\n",
       "      <th>Home</th>\n",
       "      <th>Gold</th>\n",
       "      <th>Silver</th>\n",
       "      <th>Bronze</th>\n",
       "      <th>Medals</th>\n",
       "    </tr>\n",
       "  </thead>\n",
       "  <tbody>\n",
       "    <tr>\n",
       "      <th>count</th>\n",
       "      <td>541.000000</td>\n",
       "      <td>279.000000</td>\n",
       "      <td>3.660000e+02</td>\n",
       "      <td>378.000000</td>\n",
       "      <td>541.000000</td>\n",
       "      <td>541.000000</td>\n",
       "      <td>541.000000</td>\n",
       "      <td>541.000000</td>\n",
       "      <td>541.000000</td>\n",
       "      <td>541.000000</td>\n",
       "      <td>541.000000</td>\n",
       "    </tr>\n",
       "    <tr>\n",
       "      <th>mean</th>\n",
       "      <td>2004.665434</td>\n",
       "      <td>4.061971</td>\n",
       "      <td>7.461083e+11</td>\n",
       "      <td>222.037960</td>\n",
       "      <td>0.506248</td>\n",
       "      <td>147.001848</td>\n",
       "      <td>0.012939</td>\n",
       "      <td>3.659889</td>\n",
       "      <td>3.676525</td>\n",
       "      <td>4.179298</td>\n",
       "      <td>11.515712</td>\n",
       "    </tr>\n",
       "    <tr>\n",
       "      <th>std</th>\n",
       "      <td>7.882522</td>\n",
       "      <td>2.291834</td>\n",
       "      <td>2.061477e+12</td>\n",
       "      <td>868.535415</td>\n",
       "      <td>0.582300</td>\n",
       "      <td>168.193721</td>\n",
       "      <td>0.113116</td>\n",
       "      <td>7.104175</td>\n",
       "      <td>5.900156</td>\n",
       "      <td>6.229798</td>\n",
       "      <td>18.486187</td>\n",
       "    </tr>\n",
       "    <tr>\n",
       "      <th>min</th>\n",
       "      <td>1992.000000</td>\n",
       "      <td>0.342887</td>\n",
       "      <td>4.046000e+08</td>\n",
       "      <td>1.842548</td>\n",
       "      <td>0.009934</td>\n",
       "      <td>3.000000</td>\n",
       "      <td>0.000000</td>\n",
       "      <td>0.000000</td>\n",
       "      <td>0.000000</td>\n",
       "      <td>0.000000</td>\n",
       "      <td>1.000000</td>\n",
       "    </tr>\n",
       "    <tr>\n",
       "      <th>25%</th>\n",
       "      <td>1996.000000</td>\n",
       "      <td>2.120206</td>\n",
       "      <td>2.233836e+10</td>\n",
       "      <td>33.426033</td>\n",
       "      <td>0.119205</td>\n",
       "      <td>36.000000</td>\n",
       "      <td>0.000000</td>\n",
       "      <td>0.000000</td>\n",
       "      <td>0.000000</td>\n",
       "      <td>1.000000</td>\n",
       "      <td>2.000000</td>\n",
       "    </tr>\n",
       "    <tr>\n",
       "      <th>50%</th>\n",
       "      <td>2004.000000</td>\n",
       "      <td>3.744384</td>\n",
       "      <td>1.274314e+11</td>\n",
       "      <td>79.934619</td>\n",
       "      <td>0.256667</td>\n",
       "      <td>77.000000</td>\n",
       "      <td>0.000000</td>\n",
       "      <td>1.000000</td>\n",
       "      <td>1.000000</td>\n",
       "      <td>2.000000</td>\n",
       "      <td>5.000000</td>\n",
       "    </tr>\n",
       "    <tr>\n",
       "      <th>75%</th>\n",
       "      <td>2012.000000</td>\n",
       "      <td>5.833714</td>\n",
       "      <td>4.752047e+11</td>\n",
       "      <td>126.940800</td>\n",
       "      <td>0.637874</td>\n",
       "      <td>180.000000</td>\n",
       "      <td>0.000000</td>\n",
       "      <td>3.000000</td>\n",
       "      <td>4.000000</td>\n",
       "      <td>5.000000</td>\n",
       "      <td>12.000000</td>\n",
       "    </tr>\n",
       "    <tr>\n",
       "      <th>max</th>\n",
       "      <td>2016.000000</td>\n",
       "      <td>10.948016</td>\n",
       "      <td>1.874508e+13</td>\n",
       "      <td>7908.720733</td>\n",
       "      <td>3.095941</td>\n",
       "      <td>839.000000</td>\n",
       "      <td>1.000000</td>\n",
       "      <td>51.000000</td>\n",
       "      <td>39.000000</td>\n",
       "      <td>38.000000</td>\n",
       "      <td>121.000000</td>\n",
       "    </tr>\n",
       "  </tbody>\n",
       "</table>\n",
       "</div>"
      ],
      "text/plain": [
       "              Year         DHE           GDP           PD         APE  \\\n",
       "count   541.000000  279.000000  3.660000e+02   378.000000  541.000000   \n",
       "mean   2004.665434    4.061971  7.461083e+11   222.037960    0.506248   \n",
       "std       7.882522    2.291834  2.061477e+12   868.535415    0.582300   \n",
       "min    1992.000000    0.342887  4.046000e+08     1.842548    0.009934   \n",
       "25%    1996.000000    2.120206  2.233836e+10    33.426033    0.119205   \n",
       "50%    2004.000000    3.744384  1.274314e+11    79.934619    0.256667   \n",
       "75%    2012.000000    5.833714  4.752047e+11   126.940800    0.637874   \n",
       "max    2016.000000   10.948016  1.874508e+13  7908.720733    3.095941   \n",
       "\n",
       "               AP        Home        Gold      Silver      Bronze      Medals  \n",
       "count  541.000000  541.000000  541.000000  541.000000  541.000000  541.000000  \n",
       "mean   147.001848    0.012939    3.659889    3.676525    4.179298   11.515712  \n",
       "std    168.193721    0.113116    7.104175    5.900156    6.229798   18.486187  \n",
       "min      3.000000    0.000000    0.000000    0.000000    0.000000    1.000000  \n",
       "25%     36.000000    0.000000    0.000000    0.000000    1.000000    2.000000  \n",
       "50%     77.000000    0.000000    1.000000    1.000000    2.000000    5.000000  \n",
       "75%    180.000000    0.000000    3.000000    4.000000    5.000000   12.000000  \n",
       "max    839.000000    1.000000   51.000000   39.000000   38.000000  121.000000  "
      ]
     },
     "execution_count": 81,
     "metadata": {},
     "output_type": "execute_result"
    }
   ],
   "source": [
    "df.describe()"
   ]
  },
  {
   "cell_type": "code",
   "execution_count": 82,
   "metadata": {},
   "outputs": [],
   "source": [
    "df['DHE'].fillna(int(df['DHE'].mean()), inplace=True)\n",
    "df['GDP'].fillna(int(df['GDP'].mean()), inplace=True)\n",
    "df['PD'].fillna(int(df['PD'].mean()), inplace=True)"
   ]
  },
  {
   "cell_type": "code",
   "execution_count": 83,
   "metadata": {},
   "outputs": [
    {
     "data": {
      "text/html": [
       "<div>\n",
       "<style scoped>\n",
       "    .dataframe tbody tr th:only-of-type {\n",
       "        vertical-align: middle;\n",
       "    }\n",
       "\n",
       "    .dataframe tbody tr th {\n",
       "        vertical-align: top;\n",
       "    }\n",
       "\n",
       "    .dataframe thead th {\n",
       "        text-align: right;\n",
       "    }\n",
       "</style>\n",
       "<table border=\"1\" class=\"dataframe\">\n",
       "  <thead>\n",
       "    <tr style=\"text-align: right;\">\n",
       "      <th></th>\n",
       "      <th>Year</th>\n",
       "      <th>DHE</th>\n",
       "      <th>GDP</th>\n",
       "      <th>PD</th>\n",
       "      <th>APE</th>\n",
       "      <th>AP</th>\n",
       "      <th>Home</th>\n",
       "      <th>Gold</th>\n",
       "      <th>Silver</th>\n",
       "      <th>Bronze</th>\n",
       "      <th>Medals</th>\n",
       "    </tr>\n",
       "  </thead>\n",
       "  <tbody>\n",
       "    <tr>\n",
       "      <th>count</th>\n",
       "      <td>541.000000</td>\n",
       "      <td>541.000000</td>\n",
       "      <td>5.410000e+02</td>\n",
       "      <td>541.000000</td>\n",
       "      <td>541.000000</td>\n",
       "      <td>541.000000</td>\n",
       "      <td>541.000000</td>\n",
       "      <td>541.000000</td>\n",
       "      <td>541.000000</td>\n",
       "      <td>541.000000</td>\n",
       "      <td>541.000000</td>\n",
       "    </tr>\n",
       "    <tr>\n",
       "      <th>mean</th>\n",
       "      <td>2004.665434</td>\n",
       "      <td>4.031959</td>\n",
       "      <td>7.461083e+11</td>\n",
       "      <td>222.026523</td>\n",
       "      <td>0.506248</td>\n",
       "      <td>147.001848</td>\n",
       "      <td>0.012939</td>\n",
       "      <td>3.659889</td>\n",
       "      <td>3.676525</td>\n",
       "      <td>4.179298</td>\n",
       "      <td>11.515712</td>\n",
       "    </tr>\n",
       "    <tr>\n",
       "      <th>std</th>\n",
       "      <td>7.882522</td>\n",
       "      <td>1.644697</td>\n",
       "      <td>1.694837e+12</td>\n",
       "      <td>725.707025</td>\n",
       "      <td>0.582300</td>\n",
       "      <td>168.193721</td>\n",
       "      <td>0.113116</td>\n",
       "      <td>7.104175</td>\n",
       "      <td>5.900156</td>\n",
       "      <td>6.229798</td>\n",
       "      <td>18.486187</td>\n",
       "    </tr>\n",
       "    <tr>\n",
       "      <th>min</th>\n",
       "      <td>1992.000000</td>\n",
       "      <td>0.342887</td>\n",
       "      <td>4.046000e+08</td>\n",
       "      <td>1.842548</td>\n",
       "      <td>0.009934</td>\n",
       "      <td>3.000000</td>\n",
       "      <td>0.000000</td>\n",
       "      <td>0.000000</td>\n",
       "      <td>0.000000</td>\n",
       "      <td>0.000000</td>\n",
       "      <td>1.000000</td>\n",
       "    </tr>\n",
       "    <tr>\n",
       "      <th>25%</th>\n",
       "      <td>1996.000000</td>\n",
       "      <td>3.626486</td>\n",
       "      <td>4.812255e+10</td>\n",
       "      <td>55.831780</td>\n",
       "      <td>0.119205</td>\n",
       "      <td>36.000000</td>\n",
       "      <td>0.000000</td>\n",
       "      <td>0.000000</td>\n",
       "      <td>0.000000</td>\n",
       "      <td>1.000000</td>\n",
       "      <td>2.000000</td>\n",
       "    </tr>\n",
       "    <tr>\n",
       "      <th>50%</th>\n",
       "      <td>2004.000000</td>\n",
       "      <td>4.000000</td>\n",
       "      <td>4.320519e+11</td>\n",
       "      <td>118.033289</td>\n",
       "      <td>0.256667</td>\n",
       "      <td>77.000000</td>\n",
       "      <td>0.000000</td>\n",
       "      <td>1.000000</td>\n",
       "      <td>1.000000</td>\n",
       "      <td>2.000000</td>\n",
       "      <td>5.000000</td>\n",
       "    </tr>\n",
       "    <tr>\n",
       "      <th>75%</th>\n",
       "      <td>2012.000000</td>\n",
       "      <td>4.000000</td>\n",
       "      <td>7.461083e+11</td>\n",
       "      <td>222.000000</td>\n",
       "      <td>0.637874</td>\n",
       "      <td>180.000000</td>\n",
       "      <td>0.000000</td>\n",
       "      <td>3.000000</td>\n",
       "      <td>4.000000</td>\n",
       "      <td>5.000000</td>\n",
       "      <td>12.000000</td>\n",
       "    </tr>\n",
       "    <tr>\n",
       "      <th>max</th>\n",
       "      <td>2016.000000</td>\n",
       "      <td>10.948016</td>\n",
       "      <td>1.874508e+13</td>\n",
       "      <td>7908.720733</td>\n",
       "      <td>3.095941</td>\n",
       "      <td>839.000000</td>\n",
       "      <td>1.000000</td>\n",
       "      <td>51.000000</td>\n",
       "      <td>39.000000</td>\n",
       "      <td>38.000000</td>\n",
       "      <td>121.000000</td>\n",
       "    </tr>\n",
       "  </tbody>\n",
       "</table>\n",
       "</div>"
      ],
      "text/plain": [
       "              Year         DHE           GDP           PD         APE  \\\n",
       "count   541.000000  541.000000  5.410000e+02   541.000000  541.000000   \n",
       "mean   2004.665434    4.031959  7.461083e+11   222.026523    0.506248   \n",
       "std       7.882522    1.644697  1.694837e+12   725.707025    0.582300   \n",
       "min    1992.000000    0.342887  4.046000e+08     1.842548    0.009934   \n",
       "25%    1996.000000    3.626486  4.812255e+10    55.831780    0.119205   \n",
       "50%    2004.000000    4.000000  4.320519e+11   118.033289    0.256667   \n",
       "75%    2012.000000    4.000000  7.461083e+11   222.000000    0.637874   \n",
       "max    2016.000000   10.948016  1.874508e+13  7908.720733    3.095941   \n",
       "\n",
       "               AP        Home        Gold      Silver      Bronze      Medals  \n",
       "count  541.000000  541.000000  541.000000  541.000000  541.000000  541.000000  \n",
       "mean   147.001848    0.012939    3.659889    3.676525    4.179298   11.515712  \n",
       "std    168.193721    0.113116    7.104175    5.900156    6.229798   18.486187  \n",
       "min      3.000000    0.000000    0.000000    0.000000    0.000000    1.000000  \n",
       "25%     36.000000    0.000000    0.000000    0.000000    1.000000    2.000000  \n",
       "50%     77.000000    0.000000    1.000000    1.000000    2.000000    5.000000  \n",
       "75%    180.000000    0.000000    3.000000    4.000000    5.000000   12.000000  \n",
       "max    839.000000    1.000000   51.000000   39.000000   38.000000  121.000000  "
      ]
     },
     "execution_count": 83,
     "metadata": {},
     "output_type": "execute_result"
    }
   ],
   "source": [
    "df.describe()"
   ]
  },
  {
   "cell_type": "code",
   "execution_count": 84,
   "metadata": {
    "scrolled": false
   },
   "outputs": [
    {
     "data": {
      "image/png": "[encoded data removed]",
      "text/plain": [
       "<Figure size 720x720 with 1 Axes>"
      ]
     },
     "metadata": {
      "needs_background": "light"
     },
     "output_type": "display_data"
    }
   ],
   "source": [
    "cont=df.dtypes[(df.dtypes!='uint8') & (df.dtypes!='bool') & (df.dtypes!='object')].index\n",
    "plt.figure(figsize=(10,10))\n",
    "df[cont].boxplot(vert=0)\n",
    "plt.title('With Outliers',fontsize=16)\n",
    "plt.show()"
   ]
  },
  {
   "cell_type": "code",
   "execution_count": 85,
   "metadata": {},
   "outputs": [],
   "source": [
    "def remove_outlier(col):\n",
    "    sorted(col)\n",
    "    Q1,Q3=np.percentile(col,[25,75])\n",
    "    IQR=Q3-Q1\n",
    "    lower_range= Q1-(1.5 * IQR)\n",
    "    upper_range= Q3+(1.5 * IQR)\n",
    "    return lower_range, upper_range"
   ]
  },
  {
   "cell_type": "code",
   "execution_count": 86,
   "metadata": {},
   "outputs": [],
   "source": [
    "for column in df[cont].columns:\n",
    "    lr,ur=remove_outlier(df[column])\n",
    "    df[column]=np.where(df[column]>ur,ur,df[column])\n",
    "    df[column]=np.where(df[column]<lr,lr,df[column])"
   ]
  },
  {
   "cell_type": "code",
   "execution_count": 87,
   "metadata": {},
   "outputs": [
    {
     "data": {
      "image/png": "[encoded data removed]",
      "text/plain": [
       "<Figure size 720x720 with 1 Axes>"
      ]
     },
     "metadata": {
      "needs_background": "light"
     },
     "output_type": "display_data"
    }
   ],
   "source": [
    "plt.figure(figsize=(10,10))\n",
    "df[cont].boxplot(vert=0)\n",
    "plt.title('After Outlier Removal',fontsize=16)\n",
    "plt.show()"
   ]
  },
  {
   "cell_type": "code",
   "execution_count": 88,
   "metadata": {
    "scrolled": true
   },
   "outputs": [
    {
     "data": {
      "text/plain": [
       "Index(['Year', 'NOC', 'Country', 'DHE', 'GDP', 'PD', 'APE', 'AP', 'Home',\n",
       "       'Gold', 'Silver', 'Bronze', 'Medals'],\n",
       "      dtype='object')"
      ]
     },
     "execution_count": 88,
     "metadata": {},
     "output_type": "execute_result"
    }
   ],
   "source": [
    "df.columns"
   ]
  },
  {
   "cell_type": "code",
   "execution_count": 89,
   "metadata": {
    "scrolled": true
   },
   "outputs": [
    {
     "data": {
      "text/html": [
       "<div>\n",
       "<style scoped>\n",
       "    .dataframe tbody tr th:only-of-type {\n",
       "        vertical-align: middle;\n",
       "    }\n",
       "\n",
       "    .dataframe tbody tr th {\n",
       "        vertical-align: top;\n",
       "    }\n",
       "\n",
       "    .dataframe thead th {\n",
       "        text-align: right;\n",
       "    }\n",
       "</style>\n",
       "<table border=\"1\" class=\"dataframe\">\n",
       "  <thead>\n",
       "    <tr style=\"text-align: right;\">\n",
       "      <th></th>\n",
       "      <th>Year</th>\n",
       "      <th>NOC</th>\n",
       "      <th>Country</th>\n",
       "      <th>DHE</th>\n",
       "      <th>GDP</th>\n",
       "      <th>PD</th>\n",
       "      <th>APE</th>\n",
       "      <th>AP</th>\n",
       "      <th>Home</th>\n",
       "      <th>Gold</th>\n",
       "      <th>Silver</th>\n",
       "      <th>Bronze</th>\n",
       "      <th>Medals</th>\n",
       "    </tr>\n",
       "  </thead>\n",
       "  <tbody>\n",
       "    <tr>\n",
       "      <th>0</th>\n",
       "      <td>1992.0</td>\n",
       "      <td>ALG</td>\n",
       "      <td>Algeria</td>\n",
       "      <td>4.0</td>\n",
       "      <td>7.461083e+11</td>\n",
       "      <td>222.000000</td>\n",
       "      <td>0.140078</td>\n",
       "      <td>36.0</td>\n",
       "      <td>0.0</td>\n",
       "      <td>1.0</td>\n",
       "      <td>0.0</td>\n",
       "      <td>1.0</td>\n",
       "      <td>2.0</td>\n",
       "    </tr>\n",
       "    <tr>\n",
       "      <th>1</th>\n",
       "      <td>1992.0</td>\n",
       "      <td>ARG</td>\n",
       "      <td>Argentina</td>\n",
       "      <td>4.0</td>\n",
       "      <td>2.287886e+11</td>\n",
       "      <td>12.251779</td>\n",
       "      <td>0.431907</td>\n",
       "      <td>111.0</td>\n",
       "      <td>0.0</td>\n",
       "      <td>0.0</td>\n",
       "      <td>0.0</td>\n",
       "      <td>1.0</td>\n",
       "      <td>1.0</td>\n",
       "    </tr>\n",
       "    <tr>\n",
       "      <th>2</th>\n",
       "      <td>1992.0</td>\n",
       "      <td>AUS</td>\n",
       "      <td>Australia</td>\n",
       "      <td>4.0</td>\n",
       "      <td>3.248843e+11</td>\n",
       "      <td>2.277313</td>\n",
       "      <td>1.415876</td>\n",
       "      <td>390.0</td>\n",
       "      <td>0.0</td>\n",
       "      <td>7.0</td>\n",
       "      <td>9.0</td>\n",
       "      <td>11.0</td>\n",
       "      <td>27.0</td>\n",
       "    </tr>\n",
       "    <tr>\n",
       "      <th>3</th>\n",
       "      <td>1992.0</td>\n",
       "      <td>AUT</td>\n",
       "      <td>Austria</td>\n",
       "      <td>4.0</td>\n",
       "      <td>1.417642e+10</td>\n",
       "      <td>94.946827</td>\n",
       "      <td>0.494163</td>\n",
       "      <td>127.0</td>\n",
       "      <td>0.0</td>\n",
       "      <td>0.0</td>\n",
       "      <td>2.0</td>\n",
       "      <td>0.0</td>\n",
       "      <td>2.0</td>\n",
       "    </tr>\n",
       "    <tr>\n",
       "      <th>4</th>\n",
       "      <td>1992.0</td>\n",
       "      <td>BAH</td>\n",
       "      <td>Bahamas</td>\n",
       "      <td>4.0</td>\n",
       "      <td>7.461083e+11</td>\n",
       "      <td>222.000000</td>\n",
       "      <td>0.070039</td>\n",
       "      <td>18.0</td>\n",
       "      <td>0.0</td>\n",
       "      <td>0.0</td>\n",
       "      <td>0.0</td>\n",
       "      <td>1.0</td>\n",
       "      <td>1.0</td>\n",
       "    </tr>\n",
       "  </tbody>\n",
       "</table>\n",
       "</div>"
      ],
      "text/plain": [
       "     Year  NOC    Country  DHE           GDP          PD       APE     AP  \\\n",
       "0  1992.0  ALG    Algeria  4.0  7.461083e+11  222.000000  0.140078   36.0   \n",
       "1  1992.0  ARG  Argentina  4.0  2.287886e+11   12.251779  0.431907  111.0   \n",
       "2  1992.0  AUS  Australia  4.0  3.248843e+11    2.277313  1.415876  390.0   \n",
       "3  1992.0  AUT    Austria  4.0  1.417642e+10   94.946827  0.494163  127.0   \n",
       "4  1992.0  BAH    Bahamas  4.0  7.461083e+11  222.000000  0.070039   18.0   \n",
       "\n",
       "   Home  Gold  Silver  Bronze  Medals  \n",
       "0   0.0   1.0     0.0     1.0     2.0  \n",
       "1   0.0   0.0     0.0     1.0     1.0  \n",
       "2   0.0   7.0     9.0    11.0    27.0  \n",
       "3   0.0   0.0     2.0     0.0     2.0  \n",
       "4   0.0   0.0     0.0     1.0     1.0  "
      ]
     },
     "execution_count": 89,
     "metadata": {},
     "output_type": "execute_result"
    }
   ],
   "source": [
    "df.head()"
   ]
  },
  {
   "cell_type": "code",
   "execution_count": 90,
   "metadata": {},
   "outputs": [],
   "source": [
    "df.drop('NOC', axis = 1, inplace = True)"
   ]
  },
  {
   "cell_type": "code",
   "execution_count": 91,
   "metadata": {},
   "outputs": [],
   "source": [
    "df.drop('Country', axis = 1, inplace = True)"
   ]
  },
  {
   "cell_type": "code",
   "execution_count": 92,
   "metadata": {},
   "outputs": [],
   "source": [
    "df.drop('Gold', axis = 1, inplace = True)"
   ]
  },
  {
   "cell_type": "code",
   "execution_count": 93,
   "metadata": {},
   "outputs": [],
   "source": [
    "df.drop('Silver', axis = 1, inplace = True)"
   ]
  },
  {
   "cell_type": "code",
   "execution_count": 94,
   "metadata": {},
   "outputs": [],
   "source": [
    "df.drop('Bronze', axis = 1, inplace = True)"
   ]
  },
  {
   "cell_type": "code",
   "execution_count": 95,
   "metadata": {
    "scrolled": false
   },
   "outputs": [
    {
     "data": {
      "text/html": [
       "<div>\n",
       "<style scoped>\n",
       "    .dataframe tbody tr th:only-of-type {\n",
       "        vertical-align: middle;\n",
       "    }\n",
       "\n",
       "    .dataframe tbody tr th {\n",
       "        vertical-align: top;\n",
       "    }\n",
       "\n",
       "    .dataframe thead th {\n",
       "        text-align: right;\n",
       "    }\n",
       "</style>\n",
       "<table border=\"1\" class=\"dataframe\">\n",
       "  <thead>\n",
       "    <tr style=\"text-align: right;\">\n",
       "      <th></th>\n",
       "      <th>Year</th>\n",
       "      <th>DHE</th>\n",
       "      <th>GDP</th>\n",
       "      <th>PD</th>\n",
       "      <th>APE</th>\n",
       "      <th>AP</th>\n",
       "      <th>Home</th>\n",
       "      <th>Medals</th>\n",
       "    </tr>\n",
       "  </thead>\n",
       "  <tbody>\n",
       "    <tr>\n",
       "      <th>0</th>\n",
       "      <td>1992.0</td>\n",
       "      <td>4.0</td>\n",
       "      <td>7.461083e+11</td>\n",
       "      <td>222.000000</td>\n",
       "      <td>0.140078</td>\n",
       "      <td>36.0</td>\n",
       "      <td>0.0</td>\n",
       "      <td>2.0</td>\n",
       "    </tr>\n",
       "    <tr>\n",
       "      <th>1</th>\n",
       "      <td>1992.0</td>\n",
       "      <td>4.0</td>\n",
       "      <td>2.287886e+11</td>\n",
       "      <td>12.251779</td>\n",
       "      <td>0.431907</td>\n",
       "      <td>111.0</td>\n",
       "      <td>0.0</td>\n",
       "      <td>1.0</td>\n",
       "    </tr>\n",
       "    <tr>\n",
       "      <th>2</th>\n",
       "      <td>1992.0</td>\n",
       "      <td>4.0</td>\n",
       "      <td>3.248843e+11</td>\n",
       "      <td>2.277313</td>\n",
       "      <td>1.415876</td>\n",
       "      <td>390.0</td>\n",
       "      <td>0.0</td>\n",
       "      <td>27.0</td>\n",
       "    </tr>\n",
       "    <tr>\n",
       "      <th>3</th>\n",
       "      <td>1992.0</td>\n",
       "      <td>4.0</td>\n",
       "      <td>1.417642e+10</td>\n",
       "      <td>94.946827</td>\n",
       "      <td>0.494163</td>\n",
       "      <td>127.0</td>\n",
       "      <td>0.0</td>\n",
       "      <td>2.0</td>\n",
       "    </tr>\n",
       "    <tr>\n",
       "      <th>4</th>\n",
       "      <td>1992.0</td>\n",
       "      <td>4.0</td>\n",
       "      <td>7.461083e+11</td>\n",
       "      <td>222.000000</td>\n",
       "      <td>0.070039</td>\n",
       "      <td>18.0</td>\n",
       "      <td>0.0</td>\n",
       "      <td>1.0</td>\n",
       "    </tr>\n",
       "  </tbody>\n",
       "</table>\n",
       "</div>"
      ],
      "text/plain": [
       "     Year  DHE           GDP          PD       APE     AP  Home  Medals\n",
       "0  1992.0  4.0  7.461083e+11  222.000000  0.140078   36.0   0.0     2.0\n",
       "1  1992.0  4.0  2.287886e+11   12.251779  0.431907  111.0   0.0     1.0\n",
       "2  1992.0  4.0  3.248843e+11    2.277313  1.415876  390.0   0.0    27.0\n",
       "3  1992.0  4.0  1.417642e+10   94.946827  0.494163  127.0   0.0     2.0\n",
       "4  1992.0  4.0  7.461083e+11  222.000000  0.070039   18.0   0.0     1.0"
      ]
     },
     "execution_count": 95,
     "metadata": {},
     "output_type": "execute_result"
    }
   ],
   "source": [
    "df.head()"
   ]
  },
  {
   "cell_type": "code",
   "execution_count": 96,
   "metadata": {},
   "outputs": [],
   "source": [
    "df_train = df[df['Year'] != 2016]\n",
    "df_test = df[df['Year'] == 2016]"
   ]
  },
  {
   "cell_type": "code",
   "execution_count": 97,
   "metadata": {},
   "outputs": [
    {
     "data": {
      "text/html": [
       "<div>\n",
       "<style scoped>\n",
       "    .dataframe tbody tr th:only-of-type {\n",
       "        vertical-align: middle;\n",
       "    }\n",
       "\n",
       "    .dataframe tbody tr th {\n",
       "        vertical-align: top;\n",
       "    }\n",
       "\n",
       "    .dataframe thead th {\n",
       "        text-align: right;\n",
       "    }\n",
       "</style>\n",
       "<table border=\"1\" class=\"dataframe\">\n",
       "  <thead>\n",
       "    <tr style=\"text-align: right;\">\n",
       "      <th></th>\n",
       "      <th>Year</th>\n",
       "      <th>DHE</th>\n",
       "      <th>GDP</th>\n",
       "      <th>PD</th>\n",
       "      <th>APE</th>\n",
       "      <th>AP</th>\n",
       "      <th>Home</th>\n",
       "      <th>Medals</th>\n",
       "    </tr>\n",
       "  </thead>\n",
       "  <tbody>\n",
       "    <tr>\n",
       "      <th>457</th>\n",
       "      <td>2016.0</td>\n",
       "      <td>4.000000</td>\n",
       "      <td>7.461083e+11</td>\n",
       "      <td>222.000000</td>\n",
       "      <td>0.241830</td>\n",
       "      <td>74.0</td>\n",
       "      <td>0.0</td>\n",
       "      <td>2.0</td>\n",
       "    </tr>\n",
       "    <tr>\n",
       "      <th>458</th>\n",
       "      <td>2016.0</td>\n",
       "      <td>4.560272</td>\n",
       "      <td>5.575314e+11</td>\n",
       "      <td>15.928135</td>\n",
       "      <td>0.758170</td>\n",
       "      <td>232.0</td>\n",
       "      <td>0.0</td>\n",
       "      <td>4.0</td>\n",
       "    </tr>\n",
       "    <tr>\n",
       "      <th>459</th>\n",
       "      <td>2016.0</td>\n",
       "      <td>3.066214</td>\n",
       "      <td>1.054614e+10</td>\n",
       "      <td>103.131261</td>\n",
       "      <td>0.111111</td>\n",
       "      <td>34.0</td>\n",
       "      <td>0.0</td>\n",
       "      <td>4.0</td>\n",
       "    </tr>\n",
       "    <tr>\n",
       "      <th>460</th>\n",
       "      <td>2016.0</td>\n",
       "      <td>4.560272</td>\n",
       "      <td>1.208847e+12</td>\n",
       "      <td>3.144936</td>\n",
       "      <td>1.415876</td>\n",
       "      <td>396.0</td>\n",
       "      <td>0.0</td>\n",
       "      <td>27.0</td>\n",
       "    </tr>\n",
       "    <tr>\n",
       "      <th>461</th>\n",
       "      <td>2016.0</td>\n",
       "      <td>4.560272</td>\n",
       "      <td>3.958374e+11</td>\n",
       "      <td>105.873340</td>\n",
       "      <td>0.277778</td>\n",
       "      <td>85.0</td>\n",
       "      <td>0.0</td>\n",
       "      <td>1.0</td>\n",
       "    </tr>\n",
       "  </tbody>\n",
       "</table>\n",
       "</div>"
      ],
      "text/plain": [
       "       Year       DHE           GDP          PD       APE     AP  Home  Medals\n",
       "457  2016.0  4.000000  7.461083e+11  222.000000  0.241830   74.0   0.0     2.0\n",
       "458  2016.0  4.560272  5.575314e+11   15.928135  0.758170  232.0   0.0     4.0\n",
       "459  2016.0  3.066214  1.054614e+10  103.131261  0.111111   34.0   0.0     4.0\n",
       "460  2016.0  4.560272  1.208847e+12    3.144936  1.415876  396.0   0.0    27.0\n",
       "461  2016.0  4.560272  3.958374e+11  105.873340  0.277778   85.0   0.0     1.0"
      ]
     },
     "execution_count": 97,
     "metadata": {},
     "output_type": "execute_result"
    }
   ],
   "source": [
    "df_test.head()"
   ]
  },
  {
   "cell_type": "code",
   "execution_count": 98,
   "metadata": {},
   "outputs": [],
   "source": [
    "# Copy all the predictor variables into X dataframe\n",
    "X_train = df_train.drop('Medals', axis=1)\n",
    "\n",
    "# Copy target into the y dataframe. \n",
    "y_train = df_train[['Medals']]"
   ]
  },
  {
   "cell_type": "code",
   "execution_count": 99,
   "metadata": {
    "scrolled": true
   },
   "outputs": [
    {
     "data": {
      "text/html": [
       "<div>\n",
       "<style scoped>\n",
       "    .dataframe tbody tr th:only-of-type {\n",
       "        vertical-align: middle;\n",
       "    }\n",
       "\n",
       "    .dataframe tbody tr th {\n",
       "        vertical-align: top;\n",
       "    }\n",
       "\n",
       "    .dataframe thead th {\n",
       "        text-align: right;\n",
       "    }\n",
       "</style>\n",
       "<table border=\"1\" class=\"dataframe\">\n",
       "  <thead>\n",
       "    <tr style=\"text-align: right;\">\n",
       "      <th></th>\n",
       "      <th>Medals</th>\n",
       "    </tr>\n",
       "  </thead>\n",
       "  <tbody>\n",
       "    <tr>\n",
       "      <th>0</th>\n",
       "      <td>2.0</td>\n",
       "    </tr>\n",
       "    <tr>\n",
       "      <th>1</th>\n",
       "      <td>1.0</td>\n",
       "    </tr>\n",
       "    <tr>\n",
       "      <th>2</th>\n",
       "      <td>27.0</td>\n",
       "    </tr>\n",
       "    <tr>\n",
       "      <th>3</th>\n",
       "      <td>2.0</td>\n",
       "    </tr>\n",
       "    <tr>\n",
       "      <th>4</th>\n",
       "      <td>1.0</td>\n",
       "    </tr>\n",
       "  </tbody>\n",
       "</table>\n",
       "</div>"
      ],
      "text/plain": [
       "   Medals\n",
       "0     2.0\n",
       "1     1.0\n",
       "2    27.0\n",
       "3     2.0\n",
       "4     1.0"
      ]
     },
     "execution_count": 99,
     "metadata": {},
     "output_type": "execute_result"
    }
   ],
   "source": [
    "y_train.head()"
   ]
  },
  {
   "cell_type": "code",
   "execution_count": 100,
   "metadata": {},
   "outputs": [],
   "source": [
    "# Copy all the predictor variables into X dataframe\n",
    "X_test = df_test.drop('Medals', axis=1)\n",
    "\n",
    "# Copy target into the y dataframe. \n",
    "y_test = df_test[['Medals']]"
   ]
  },
  {
   "cell_type": "code",
   "execution_count": 101,
   "metadata": {},
   "outputs": [
    {
     "data": {
      "text/html": [
       "<div>\n",
       "<style scoped>\n",
       "    .dataframe tbody tr th:only-of-type {\n",
       "        vertical-align: middle;\n",
       "    }\n",
       "\n",
       "    .dataframe tbody tr th {\n",
       "        vertical-align: top;\n",
       "    }\n",
       "\n",
       "    .dataframe thead th {\n",
       "        text-align: right;\n",
       "    }\n",
       "</style>\n",
       "<table border=\"1\" class=\"dataframe\">\n",
       "  <thead>\n",
       "    <tr style=\"text-align: right;\">\n",
       "      <th></th>\n",
       "      <th>Year</th>\n",
       "      <th>DHE</th>\n",
       "      <th>GDP</th>\n",
       "      <th>PD</th>\n",
       "      <th>APE</th>\n",
       "      <th>AP</th>\n",
       "      <th>Home</th>\n",
       "      <th>Medals</th>\n",
       "    </tr>\n",
       "  </thead>\n",
       "  <tbody>\n",
       "    <tr>\n",
       "      <th>0</th>\n",
       "      <td>1992.0</td>\n",
       "      <td>4.0</td>\n",
       "      <td>7.461083e+11</td>\n",
       "      <td>222.000000</td>\n",
       "      <td>0.140078</td>\n",
       "      <td>36.0</td>\n",
       "      <td>0.0</td>\n",
       "      <td>2.0</td>\n",
       "    </tr>\n",
       "    <tr>\n",
       "      <th>1</th>\n",
       "      <td>1992.0</td>\n",
       "      <td>4.0</td>\n",
       "      <td>2.287886e+11</td>\n",
       "      <td>12.251779</td>\n",
       "      <td>0.431907</td>\n",
       "      <td>111.0</td>\n",
       "      <td>0.0</td>\n",
       "      <td>1.0</td>\n",
       "    </tr>\n",
       "    <tr>\n",
       "      <th>2</th>\n",
       "      <td>1992.0</td>\n",
       "      <td>4.0</td>\n",
       "      <td>3.248843e+11</td>\n",
       "      <td>2.277313</td>\n",
       "      <td>1.415876</td>\n",
       "      <td>390.0</td>\n",
       "      <td>0.0</td>\n",
       "      <td>27.0</td>\n",
       "    </tr>\n",
       "    <tr>\n",
       "      <th>3</th>\n",
       "      <td>1992.0</td>\n",
       "      <td>4.0</td>\n",
       "      <td>1.417642e+10</td>\n",
       "      <td>94.946827</td>\n",
       "      <td>0.494163</td>\n",
       "      <td>127.0</td>\n",
       "      <td>0.0</td>\n",
       "      <td>2.0</td>\n",
       "    </tr>\n",
       "    <tr>\n",
       "      <th>4</th>\n",
       "      <td>1992.0</td>\n",
       "      <td>4.0</td>\n",
       "      <td>7.461083e+11</td>\n",
       "      <td>222.000000</td>\n",
       "      <td>0.070039</td>\n",
       "      <td>18.0</td>\n",
       "      <td>0.0</td>\n",
       "      <td>1.0</td>\n",
       "    </tr>\n",
       "  </tbody>\n",
       "</table>\n",
       "</div>"
      ],
      "text/plain": [
       "     Year  DHE           GDP          PD       APE     AP  Home  Medals\n",
       "0  1992.0  4.0  7.461083e+11  222.000000  0.140078   36.0   0.0     2.0\n",
       "1  1992.0  4.0  2.287886e+11   12.251779  0.431907  111.0   0.0     1.0\n",
       "2  1992.0  4.0  3.248843e+11    2.277313  1.415876  390.0   0.0    27.0\n",
       "3  1992.0  4.0  1.417642e+10   94.946827  0.494163  127.0   0.0     2.0\n",
       "4  1992.0  4.0  7.461083e+11  222.000000  0.070039   18.0   0.0     1.0"
      ]
     },
     "execution_count": 101,
     "metadata": {},
     "output_type": "execute_result"
    }
   ],
   "source": [
    "data_train = pd.concat([X_train,y_train],axis = 1) \n",
    "data_test = pd.concat([X_test,y_test],axis = 1) \n",
    "data_train.head()"
   ]
  },
  {
   "cell_type": "code",
   "execution_count": 102,
   "metadata": {
    "scrolled": true
   },
   "outputs": [
    {
     "data": {
      "text/plain": [
       "Index(['Year', 'DHE', 'GDP', 'PD', 'APE', 'AP', 'Home', 'Medals'], dtype='object')"
      ]
     },
     "execution_count": 102,
     "metadata": {},
     "output_type": "execute_result"
    }
   ],
   "source": [
    "data_train.columns"
   ]
  },
  {
   "cell_type": "code",
   "execution_count": 103,
   "metadata": {},
   "outputs": [
    {
     "data": {
      "text/plain": [
       "LinearRegression()"
      ]
     },
     "execution_count": 103,
     "metadata": {},
     "output_type": "execute_result"
    }
   ],
   "source": [
    "regression_model = LinearRegression()\n",
    "regression_model.fit(X_train, y_train)"
   ]
  },
  {
   "cell_type": "code",
   "execution_count": 104,
   "metadata": {
    "scrolled": true
   },
   "outputs": [
    {
     "name": "stdout",
     "output_type": "stream",
     "text": [
      "The coefficient for Year is 0.11066862105872621\n",
      "The coefficient for DHE is -0.07248287401832502\n",
      "The coefficient for GDP is 2.0643807729401096e-12\n",
      "The coefficient for PD is -0.002586745145529927\n",
      "The coefficient for APE is 13.934859777960323\n",
      "The coefficient for AP is 0.0015625725352913105\n",
      "The coefficient for Home is 0.0\n"
     ]
    }
   ],
   "source": [
    "# Let us explore the coefficients for each of the independent attributes\n",
    "\n",
    "for idx, col_name in enumerate(X_train.columns):\n",
    "    print(\"The coefficient for {} is {}\".format(col_name, regression_model.coef_[0][idx]))"
   ]
  },
  {
   "cell_type": "code",
   "execution_count": 105,
   "metadata": {},
   "outputs": [
    {
     "name": "stdout",
     "output_type": "stream",
     "text": [
      "The intercept for our model is -220.16059147581075\n"
     ]
    }
   ],
   "source": [
    "# Let us check the intercept for the model\n",
    "\n",
    "intercept = regression_model.intercept_[0]\n",
    "\n",
    "print(\"The intercept for our model is {}\".format(intercept))"
   ]
  },
  {
   "cell_type": "code",
   "execution_count": 106,
   "metadata": {},
   "outputs": [
    {
     "data": {
      "text/plain": [
       "0.6376780734530412"
      ]
     },
     "execution_count": 106,
     "metadata": {},
     "output_type": "execute_result"
    }
   ],
   "source": [
    "regression_model.score(X_train, y_train)"
   ]
  },
  {
   "cell_type": "code",
   "execution_count": 107,
   "metadata": {},
   "outputs": [
    {
     "data": {
      "text/plain": [
       "0.7507150469078312"
      ]
     },
     "execution_count": 107,
     "metadata": {},
     "output_type": "execute_result"
    }
   ],
   "source": [
    "# Model score - R2 or coeff of determinant\n",
    "# R^2=1–RSS / TSS =  RegErr / TSS\n",
    "\n",
    "regression_model.score(X_test, y_test)"
   ]
  },
  {
   "cell_type": "code",
   "execution_count": 108,
   "metadata": {},
   "outputs": [
    {
     "data": {
      "text/plain": [
       "Intercept   -2.201608e+02\n",
       "Year         1.106687e-01\n",
       "DHE         -7.248234e-02\n",
       "GDP          2.064411e-12\n",
       "PD          -2.586745e-03\n",
       "APE          1.393486e+01\n",
       "AP           1.562573e-03\n",
       "Home         0.000000e+00\n",
       "dtype: float64"
      ]
     },
     "execution_count": 108,
     "metadata": {},
     "output_type": "execute_result"
    }
   ],
   "source": [
    "import statsmodels.formula.api as smf\n",
    "lm1 = smf.ols(formula= 'Medals ~ Year + DHE + GDP + PD + APE + AP + Home', data = data_train).fit()\n",
    "lm1.params"
   ]
  },
  {
   "cell_type": "code",
   "execution_count": 109,
   "metadata": {},
   "outputs": [
    {
     "name": "stdout",
     "output_type": "stream",
     "text": [
      "                            OLS Regression Results                            \n",
      "==============================================================================\n",
      "Dep. Variable:                 Medals   R-squared:                       0.638\n",
      "Model:                            OLS   Adj. R-squared:                  0.633\n",
      "Method:                 Least Squares   F-statistic:                     132.0\n",
      "Date:                Thu, 22 Jul 2021   Prob (F-statistic):           6.56e-96\n",
      "Time:                        20:40:05   Log-Likelihood:                -1414.5\n",
      "No. Observations:                 457   AIC:                             2843.\n",
      "Df Residuals:                     450   BIC:                             2872.\n",
      "Df Model:                           6                                         \n",
      "Covariance Type:            nonrobust                                         \n",
      "==============================================================================\n",
      "                 coef    std err          t      P>|t|      [0.025      0.975]\n",
      "------------------------------------------------------------------------------\n",
      "Intercept   -220.1608     93.639     -2.351      0.019    -404.185     -36.136\n",
      "Year           0.1107      0.047      2.375      0.018       0.019       0.202\n",
      "DHE           -0.0725      0.537     -0.135      0.893      -1.128       0.983\n",
      "GDP         2.064e-12   6.32e-13      3.267      0.001    8.23e-13    3.31e-12\n",
      "PD            -0.0026      0.002     -1.047      0.295      -0.007       0.002\n",
      "APE           13.9349     10.381      1.342      0.180      -6.467      34.337\n",
      "AP             0.0016      0.037      0.043      0.966      -0.070       0.074\n",
      "Home                0          0        nan        nan           0           0\n",
      "==============================================================================\n",
      "Omnibus:                      112.476   Durbin-Watson:                   2.080\n",
      "Prob(Omnibus):                  0.000   Jarque-Bera (JB):              531.949\n",
      "Skew:                           0.987   Prob(JB):                    3.08e-116\n",
      "Kurtosis:                       7.903   Cond. No.                          inf\n",
      "==============================================================================\n",
      "\n",
      "Notes:\n",
      "[1] Standard Errors assume that the covariance matrix of the errors is correctly specified.\n",
      "[2] The smallest eigenvalue is      0. This might indicate that there are\n",
      "strong multicollinearity problems or that the design matrix is singular.\n"
     ]
    },
    {
     "name": "stderr",
     "output_type": "stream",
     "text": [
      "C:\\Users\\newpc\\anaconda3\\lib\\site-packages\\statsmodels\\regression\\linear_model.py:1860: RuntimeWarning: divide by zero encountered in double_scalars\n",
      "  return np.sqrt(eigvals[0]/eigvals[-1])\n"
     ]
    }
   ],
   "source": [
    "print(lm1.summary())  #Inferential statistics"
   ]
  },
  {
   "cell_type": "code",
   "execution_count": 110,
   "metadata": {},
   "outputs": [],
   "source": [
    "# Let us check the sum of squared errors by predicting value of y for test cases and \n",
    "# subtracting from the actual y for the test cases\n",
    "\n",
    "mse = np.mean((regression_model.predict(X_test)-y_test)**2)"
   ]
  },
  {
   "cell_type": "code",
   "execution_count": 111,
   "metadata": {},
   "outputs": [
    {
     "data": {
      "text/plain": [
       "4.227766160374732"
      ]
     },
     "execution_count": 111,
     "metadata": {},
     "output_type": "execute_result"
    }
   ],
   "source": [
    "# underroot of mean_sq_error is standard deviation i.e. avg variance between predicted and actual\n",
    "\n",
    "import math\n",
    "\n",
    "math.sqrt(mse)"
   ]
  },
  {
   "cell_type": "code",
   "execution_count": 112,
   "metadata": {},
   "outputs": [
    {
     "data": {
      "text/plain": [
       "0.7507150469078312"
      ]
     },
     "execution_count": 112,
     "metadata": {},
     "output_type": "execute_result"
    }
   ],
   "source": [
    "# Model score - R2 or coeff of determinant\n",
    "# R^2=1–RSS / TSS\n",
    "\n",
    "regression_model.score(X_test, y_test)"
   ]
  },
  {
   "cell_type": "code",
   "execution_count": 113,
   "metadata": {},
   "outputs": [],
   "source": [
    "# predict mileage (mpg) for a set of attributes not in the training or test set\n",
    "y_pred = regression_model.predict(X_test)"
   ]
  },
  {
   "cell_type": "code",
   "execution_count": 116,
   "metadata": {},
   "outputs": [
    {
     "data": {
      "text/plain": [
       "<matplotlib.collections.PathCollection at 0x2c9a222f1c0>"
      ]
     },
     "execution_count": 116,
     "metadata": {},
     "output_type": "execute_result"
    },
    {
     "data": {
      "image/png": "[encoded data removed]",
      "text/plain": [
       "<Figure size 600x400 with 1 Axes>"
      ]
     },
     "metadata": {
      "needs_background": "light"
     },
     "output_type": "display_data"
    }
   ],
   "source": [
    "# Since this is regression, plot the predicted y value vs actual y values for the test data\n",
    "# A good model's prediction will be close to actual leading to high R and R2 values\n",
    "plt.rcParams['figure.dpi'] = 100\n",
    "\n",
    "\n",
    "\n",
    "plt.scatter(y_test['Medals'], y_pred)"
   ]
  },
  {
   "cell_type": "code",
   "execution_count": 117,
   "metadata": {},
   "outputs": [],
   "source": [
    "from statsmodels.stats.outliers_influence import variance_inflation_factor"
   ]
  },
  {
   "cell_type": "code",
   "execution_count": 119,
   "metadata": {},
   "outputs": [
    {
     "name": "stderr",
     "output_type": "stream",
     "text": [
      "C:\\Users\\newpc\\anaconda3\\lib\\site-packages\\statsmodels\\regression\\linear_model.py:1715: RuntimeWarning: invalid value encountered in double_scalars\n",
      "  return 1 - self.ssr/self.centered_tss\n"
     ]
    }
   ],
   "source": [
    "vif = [variance_inflation_factor(X_train.values, ix) for ix in range(X_train.shape[1])] "
   ]
  },
  {
   "cell_type": "code",
   "execution_count": 120,
   "metadata": {},
   "outputs": [
    {
     "name": "stdout",
     "output_type": "stream",
     "text": [
      "Year ---> 67.10753838108032\n",
      "DHE ---> 1.0771439049492484\n",
      "GDP ---> 2.9440844908983483\n",
      "PD ---> 1.1575914616413283\n",
      "APE ---> 255.62821053554205\n",
      "AP ---> 257.0549615162415\n",
      "Home ---> nan\n"
     ]
    }
   ],
   "source": [
    "i=0\n",
    "for column in X_train.columns:\n",
    "    if i < 15:\n",
    "        print (column ,\"--->\",  vif[i])\n",
    "        i = i+1"
   ]
  },
  {
   "cell_type": "code",
   "execution_count": 130,
   "metadata": {},
   "outputs": [],
   "source": [
    "df_train.to_excel('Train_dataSet.xlsx',index = False, sheet_name = 'Train')"
   ]
  },
  {
   "cell_type": "code",
   "execution_count": 131,
   "metadata": {},
   "outputs": [],
   "source": [
    "df_test.to_excel('Test_dataSet.xlsx',index = False, sheet_name = 'Test')"
   ]
  },
  {
   "cell_type": "markdown",
   "metadata": {},
   "source": [
    "# NEW"
   ]
  },
  {
   "cell_type": "code",
   "execution_count": 121,
   "metadata": {},
   "outputs": [],
   "source": [
    "from sklearn import linear_model"
   ]
  },
  {
   "cell_type": "code",
   "execution_count": 122,
   "metadata": {},
   "outputs": [],
   "source": [
    "# create linear regression object\n",
    "reg = LinearRegression()"
   ]
  },
  {
   "cell_type": "code",
   "execution_count": 123,
   "metadata": {},
   "outputs": [
    {
     "data": {
      "text/plain": [
       "LinearRegression()"
      ]
     },
     "execution_count": 123,
     "metadata": {},
     "output_type": "execute_result"
    }
   ],
   "source": [
    "# train the model using the training sets\n",
    "reg.fit(X_train, y_train)"
   ]
  },
  {
   "cell_type": "code",
   "execution_count": 124,
   "metadata": {},
   "outputs": [
    {
     "name": "stdout",
     "output_type": "stream",
     "text": [
      "Coefficients:  [[ 1.10668621e-01 -7.24828740e-02  2.06438077e-12 -2.58674515e-03\n",
      "   1.39348598e+01  1.56257254e-03  0.00000000e+00]]\n"
     ]
    }
   ],
   "source": [
    "# regression coefficients\n",
    "print('Coefficients: ', reg.coef_)"
   ]
  },
  {
   "cell_type": "code",
   "execution_count": 125,
   "metadata": {},
   "outputs": [
    {
     "name": "stdout",
     "output_type": "stream",
     "text": [
      "Variance score: 0.7507150469078312\n"
     ]
    }
   ],
   "source": [
    "# variance score: 1 means perfect prediction\n",
    "print('Variance score: {}'.format(reg.score(X_test, y_test)))"
   ]
  },
  {
   "cell_type": "code",
   "execution_count": 126,
   "metadata": {
    "scrolled": false
   },
   "outputs": [
    {
     "data": {
      "image/png": "[encoded data removed]",
      "text/plain": [
       "<Figure size 600x400 with 1 Axes>"
      ]
     },
     "metadata": {},
     "output_type": "display_data"
    }
   ],
   "source": [
    "# plot for residual error\n",
    "  \n",
    "## setting plot style\n",
    "plt.style.use('fivethirtyeight')\n",
    "## plotting residual errors in training data\n",
    "plt.scatter(reg.predict(X_train), reg.predict(X_train) - y_train,\n",
    "            color = \"green\", s = 10, label = 'Train data')\n",
    "## plotting residual errors in test data\n",
    "plt.scatter(reg.predict(X_test), reg.predict(X_test) - y_test,\n",
    "            color = \"blue\", s = 10, label = 'Test data')\n",
    "## plotting line for zero residual error\n",
    "plt.hlines(y = 0, xmin = 0, xmax = 50, linewidth = 2)\n",
    "## plotting legend\n",
    "plt.legend(loc = 'upper right')\n",
    "## plot title\n",
    "plt.title(\"Residual errors\")\n",
    "## method call for showing the plot\n",
    "plt.show()"
   ]
  },
  {
   "cell_type": "code",
   "execution_count": 127,
   "metadata": {},
   "outputs": [],
   "source": [
    "y_prediction =  reg.predict(X_test)"
   ]
  },
  {
   "cell_type": "code",
   "execution_count": 128,
   "metadata": {},
   "outputs": [
    {
     "name": "stdout",
     "output_type": "stream",
     "text": [
      "r2 socre is 0.7507150469078312\n",
      "mean_sqrd_error is== 17.874006706809705\n",
      "root_mean_squared error of is== 4.227766160374732\n"
     ]
    }
   ],
   "source": [
    "# importing r2_score module\n",
    "from sklearn.metrics import r2_score\n",
    "from sklearn.metrics import mean_squared_error\n",
    "# predicting the accuracy score\n",
    "score=r2_score(y_test,y_prediction)\n",
    "print('r2 socre is' ,score)\n",
    "print('mean_sqrd_error is==',mean_squared_error(y_test,y_prediction))\n",
    "print('root_mean_squared error of is==',np.sqrt(mean_squared_error(y_test,y_prediction)))"
   ]
  },
  {
   "cell_type": "code",
   "execution_count": 129,
   "metadata": {},
   "outputs": [
    {
     "name": "stdout",
     "output_type": "stream",
     "text": [
      "(-220.1608) * Intercept + (0.1107) * Year + (-0.0725) * DHE + (0.0) * GDP + (-0.0026) * PD + (13.9349) * APE + (0.0016) * AP + (0.0) * Home + "
     ]
    }
   ],
   "source": [
    "for i,j in np.array(lm1.params.reset_index()):\n",
    "    print('({}) * {} +'.format(round(j,4),i),end=' ')"
   ]
  },
  {
   "cell_type": "markdown",
   "metadata": {},
   "source": [
    "### Thank You"
   ]
  }
 ],
 "metadata": {
  "kernelspec": {
   "display_name": "Python 3",
   "language": "python",
   "name": "python3"
  },
  "language_info": {
   "codemirror_mode": {
    "name": "ipython",
    "version": 3
   },
   "file_extension": ".py",
   "mimetype": "text/x-python",
   "name": "python",
   "nbconvert_exporter": "python",
   "pygments_lexer": "ipython3",
   "version": "3.8.5"
  }
 },
 "nbformat": 4,
 "nbformat_minor": 4
}
