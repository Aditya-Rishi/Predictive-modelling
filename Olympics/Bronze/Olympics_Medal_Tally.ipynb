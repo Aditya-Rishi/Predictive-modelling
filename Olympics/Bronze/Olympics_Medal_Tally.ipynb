{
 "cells": [
  {
   "cell_type": "code",
   "execution_count": 1,
   "metadata": {},
   "outputs": [],
   "source": [
    "import numpy as np\n",
    "import pandas as pd\n",
    "import seaborn as sns\n",
    "import matplotlib.pyplot as plt\n",
    "import matplotlib.style\n",
    "\n",
    "#to ignore warnings\n",
    "import warnings\n",
    "warnings.filterwarnings(\"ignore\")\n",
    "\n",
    "import os\n",
    "os.chdir(\"C:\\\\Users\\Poonam Vijay\\Downloads\")\n",
    "\n",
    "from sklearn.linear_model import LinearRegression\n",
    "from sklearn import metrics\n"
   ]
  },
  {
   "cell_type": "code",
   "execution_count": 2,
   "metadata": {},
   "outputs": [],
   "source": [
    "# reading the CSV file into pandas dataframe\n",
    "df = pd.read_csv(\"OlympicsMaster3.csv\", encoding = \"ISO-8859-1\", engine='python')  "
   ]
  },
  {
   "cell_type": "code",
   "execution_count": 3,
   "metadata": {},
   "outputs": [
    {
     "data": {
      "text/html": [
       "<div>\n",
       "<style scoped>\n",
       "    .dataframe tbody tr th:only-of-type {\n",
       "        vertical-align: middle;\n",
       "    }\n",
       "\n",
       "    .dataframe tbody tr th {\n",
       "        vertical-align: top;\n",
       "    }\n",
       "\n",
       "    .dataframe thead th {\n",
       "        text-align: right;\n",
       "    }\n",
       "</style>\n",
       "<table border=\"1\" class=\"dataframe\">\n",
       "  <thead>\n",
       "    <tr style=\"text-align: right;\">\n",
       "      <th></th>\n",
       "      <th>Country_Id</th>\n",
       "      <th>Country</th>\n",
       "      <th>GDP</th>\n",
       "      <th>HDI</th>\n",
       "      <th>No of athletes</th>\n",
       "      <th>Medals_in_3rdLast_Olympics</th>\n",
       "      <th>Medals_in_2ndLast_Olympics</th>\n",
       "      <th>Medals_in_Last_Olympics</th>\n",
       "      <th>Medals_in_Current_Olympics</th>\n",
       "    </tr>\n",
       "  </thead>\n",
       "  <tbody>\n",
       "    <tr>\n",
       "      <th>0</th>\n",
       "      <td>20210001</td>\n",
       "      <td>Afghanistan</td>\n",
       "      <td>665</td>\n",
       "      <td>0.49056</td>\n",
       "      <td>3</td>\n",
       "      <td>0</td>\n",
       "      <td>1</td>\n",
       "      <td>1</td>\n",
       "      <td>0</td>\n",
       "    </tr>\n",
       "    <tr>\n",
       "      <th>1</th>\n",
       "      <td>20210002</td>\n",
       "      <td>Albania</td>\n",
       "      <td>4275</td>\n",
       "      <td>0.76320</td>\n",
       "      <td>6</td>\n",
       "      <td>0</td>\n",
       "      <td>0</td>\n",
       "      <td>0</td>\n",
       "      <td>0</td>\n",
       "    </tr>\n",
       "    <tr>\n",
       "      <th>2</th>\n",
       "      <td>20210003</td>\n",
       "      <td>Algeria</td>\n",
       "      <td>5700</td>\n",
       "      <td>0.71808</td>\n",
       "      <td>64</td>\n",
       "      <td>0</td>\n",
       "      <td>2</td>\n",
       "      <td>1</td>\n",
       "      <td>2</td>\n",
       "    </tr>\n",
       "    <tr>\n",
       "      <th>3</th>\n",
       "      <td>20210004</td>\n",
       "      <td>American Samoa</td>\n",
       "      <td>7600</td>\n",
       "      <td>0.00000</td>\n",
       "      <td>4</td>\n",
       "      <td>0</td>\n",
       "      <td>0</td>\n",
       "      <td>0</td>\n",
       "      <td>0</td>\n",
       "    </tr>\n",
       "    <tr>\n",
       "      <th>4</th>\n",
       "      <td>20210005</td>\n",
       "      <td>Andorra</td>\n",
       "      <td>18050</td>\n",
       "      <td>0.83328</td>\n",
       "      <td>5</td>\n",
       "      <td>0</td>\n",
       "      <td>0</td>\n",
       "      <td>0</td>\n",
       "      <td>0</td>\n",
       "    </tr>\n",
       "  </tbody>\n",
       "</table>\n",
       "</div>"
      ],
      "text/plain": [
       "   Country_Id         Country    GDP      HDI  No of athletes  \\\n",
       "0    20210001     Afghanistan    665  0.49056               3   \n",
       "1    20210002         Albania   4275  0.76320               6   \n",
       "2    20210003         Algeria   5700  0.71808              64   \n",
       "3    20210004  American Samoa   7600  0.00000               4   \n",
       "4    20210005         Andorra  18050  0.83328               5   \n",
       "\n",
       "   Medals_in_3rdLast_Olympics  Medals_in_2ndLast_Olympics  \\\n",
       "0                           0                           1   \n",
       "1                           0                           0   \n",
       "2                           0                           2   \n",
       "3                           0                           0   \n",
       "4                           0                           0   \n",
       "\n",
       "   Medals_in_Last_Olympics  Medals_in_Current_Olympics  \n",
       "0                        1                           0  \n",
       "1                        0                           0  \n",
       "2                        1                           2  \n",
       "3                        0                           0  \n",
       "4                        0                           0  "
      ]
     },
     "execution_count": 3,
     "metadata": {},
     "output_type": "execute_result"
    }
   ],
   "source": [
    "df.head()"
   ]
  },
  {
   "cell_type": "code",
   "execution_count": 4,
   "metadata": {},
   "outputs": [
    {
     "data": {
      "text/html": [
       "<div>\n",
       "<style scoped>\n",
       "    .dataframe tbody tr th:only-of-type {\n",
       "        vertical-align: middle;\n",
       "    }\n",
       "\n",
       "    .dataframe tbody tr th {\n",
       "        vertical-align: top;\n",
       "    }\n",
       "\n",
       "    .dataframe thead th {\n",
       "        text-align: right;\n",
       "    }\n",
       "</style>\n",
       "<table border=\"1\" class=\"dataframe\">\n",
       "  <thead>\n",
       "    <tr style=\"text-align: right;\">\n",
       "      <th></th>\n",
       "      <th>Country_Id</th>\n",
       "      <th>Country</th>\n",
       "      <th>GDP</th>\n",
       "      <th>HDI</th>\n",
       "      <th>No of athletes</th>\n",
       "      <th>Medals_in_3rdLast_Olympics</th>\n",
       "      <th>Medals_in_2ndLast_Olympics</th>\n",
       "      <th>Medals_in_Last_Olympics</th>\n",
       "      <th>Medals_in_Current_Olympics</th>\n",
       "    </tr>\n",
       "  </thead>\n",
       "  <tbody>\n",
       "    <tr>\n",
       "      <th>200</th>\n",
       "      <td>20210201</td>\n",
       "      <td>Vietnam</td>\n",
       "      <td>2375</td>\n",
       "      <td>0.67584</td>\n",
       "      <td>23</td>\n",
       "      <td>0</td>\n",
       "      <td>1</td>\n",
       "      <td>0</td>\n",
       "      <td>2</td>\n",
       "    </tr>\n",
       "    <tr>\n",
       "      <th>201</th>\n",
       "      <td>20210202</td>\n",
       "      <td>Virgin Islands</td>\n",
       "      <td>16340</td>\n",
       "      <td>0.00000</td>\n",
       "      <td>7</td>\n",
       "      <td>0</td>\n",
       "      <td>0</td>\n",
       "      <td>0</td>\n",
       "      <td>0</td>\n",
       "    </tr>\n",
       "    <tr>\n",
       "      <th>202</th>\n",
       "      <td>20210203</td>\n",
       "      <td>Yemen</td>\n",
       "      <td>760</td>\n",
       "      <td>0.45120</td>\n",
       "      <td>3</td>\n",
       "      <td>0</td>\n",
       "      <td>0</td>\n",
       "      <td>0</td>\n",
       "      <td>0</td>\n",
       "    </tr>\n",
       "    <tr>\n",
       "      <th>203</th>\n",
       "      <td>20210204</td>\n",
       "      <td>Zambia</td>\n",
       "      <td>760</td>\n",
       "      <td>0.56064</td>\n",
       "      <td>7</td>\n",
       "      <td>0</td>\n",
       "      <td>0</td>\n",
       "      <td>0</td>\n",
       "      <td>0</td>\n",
       "    </tr>\n",
       "    <tr>\n",
       "      <th>204</th>\n",
       "      <td>20210205</td>\n",
       "      <td>Zimbabwe</td>\n",
       "      <td>1805</td>\n",
       "      <td>0.54816</td>\n",
       "      <td>31</td>\n",
       "      <td>3</td>\n",
       "      <td>4</td>\n",
       "      <td>0</td>\n",
       "      <td>0</td>\n",
       "    </tr>\n",
       "  </tbody>\n",
       "</table>\n",
       "</div>"
      ],
      "text/plain": [
       "     Country_Id         Country    GDP      HDI  No of athletes  \\\n",
       "200    20210201         Vietnam   2375  0.67584              23   \n",
       "201    20210202  Virgin Islands  16340  0.00000               7   \n",
       "202    20210203           Yemen    760  0.45120               3   \n",
       "203    20210204          Zambia    760  0.56064               7   \n",
       "204    20210205        Zimbabwe   1805  0.54816              31   \n",
       "\n",
       "     Medals_in_3rdLast_Olympics  Medals_in_2ndLast_Olympics  \\\n",
       "200                           0                           1   \n",
       "201                           0                           0   \n",
       "202                           0                           0   \n",
       "203                           0                           0   \n",
       "204                           3                           4   \n",
       "\n",
       "     Medals_in_Last_Olympics  Medals_in_Current_Olympics  \n",
       "200                        0                           2  \n",
       "201                        0                           0  \n",
       "202                        0                           0  \n",
       "203                        0                           0  \n",
       "204                        0                           0  "
      ]
     },
     "execution_count": 4,
     "metadata": {},
     "output_type": "execute_result"
    }
   ],
   "source": [
    "df.tail()"
   ]
  },
  {
   "cell_type": "code",
   "execution_count": 5,
   "metadata": {},
   "outputs": [
    {
     "name": "stdout",
     "output_type": "stream",
     "text": [
      "<class 'pandas.core.frame.DataFrame'>\n",
      "RangeIndex: 205 entries, 0 to 204\n",
      "Data columns (total 9 columns):\n",
      " #   Column                      Non-Null Count  Dtype  \n",
      "---  ------                      --------------  -----  \n",
      " 0   Country_Id                  205 non-null    int64  \n",
      " 1   Country                     205 non-null    object \n",
      " 2   GDP                         205 non-null    int64  \n",
      " 3   HDI                         205 non-null    float64\n",
      " 4   No of athletes              205 non-null    int64  \n",
      " 5   Medals_in_3rdLast_Olympics  205 non-null    int64  \n",
      " 6   Medals_in_2ndLast_Olympics  205 non-null    int64  \n",
      " 7   Medals_in_Last_Olympics     205 non-null    int64  \n",
      " 8   Medals_in_Current_Olympics  205 non-null    int64  \n",
      "dtypes: float64(1), int64(7), object(1)\n",
      "memory usage: 14.5+ KB\n"
     ]
    }
   ],
   "source": [
    "df.info()"
   ]
  },
  {
   "cell_type": "code",
   "execution_count": 6,
   "metadata": {},
   "outputs": [
    {
     "data": {
      "text/html": [
       "<div>\n",
       "<style scoped>\n",
       "    .dataframe tbody tr th:only-of-type {\n",
       "        vertical-align: middle;\n",
       "    }\n",
       "\n",
       "    .dataframe tbody tr th {\n",
       "        vertical-align: top;\n",
       "    }\n",
       "\n",
       "    .dataframe thead th {\n",
       "        text-align: right;\n",
       "    }\n",
       "</style>\n",
       "<table border=\"1\" class=\"dataframe\">\n",
       "  <thead>\n",
       "    <tr style=\"text-align: right;\">\n",
       "      <th></th>\n",
       "      <th>count</th>\n",
       "      <th>unique</th>\n",
       "      <th>top</th>\n",
       "      <th>freq</th>\n",
       "      <th>mean</th>\n",
       "      <th>std</th>\n",
       "      <th>min</th>\n",
       "      <th>25%</th>\n",
       "      <th>50%</th>\n",
       "      <th>75%</th>\n",
       "      <th>max</th>\n",
       "    </tr>\n",
       "  </thead>\n",
       "  <tbody>\n",
       "    <tr>\n",
       "      <th>Country_Id</th>\n",
       "      <td>205</td>\n",
       "      <td>NaN</td>\n",
       "      <td>NaN</td>\n",
       "      <td>NaN</td>\n",
       "      <td>2.02101e+07</td>\n",
       "      <td>59.3226</td>\n",
       "      <td>2.021e+07</td>\n",
       "      <td>2.02101e+07</td>\n",
       "      <td>2.02101e+07</td>\n",
       "      <td>2.02102e+07</td>\n",
       "      <td>2.02102e+07</td>\n",
       "    </tr>\n",
       "    <tr>\n",
       "      <th>Country</th>\n",
       "      <td>205</td>\n",
       "      <td>205</td>\n",
       "      <td>Benin</td>\n",
       "      <td>1</td>\n",
       "      <td>NaN</td>\n",
       "      <td>NaN</td>\n",
       "      <td>NaN</td>\n",
       "      <td>NaN</td>\n",
       "      <td>NaN</td>\n",
       "      <td>NaN</td>\n",
       "      <td>NaN</td>\n",
       "    </tr>\n",
       "    <tr>\n",
       "      <th>GDP</th>\n",
       "      <td>205</td>\n",
       "      <td>NaN</td>\n",
       "      <td>NaN</td>\n",
       "      <td>NaN</td>\n",
       "      <td>8790.05</td>\n",
       "      <td>9830.92</td>\n",
       "      <td>0</td>\n",
       "      <td>1615</td>\n",
       "      <td>4750</td>\n",
       "      <td>12635</td>\n",
       "      <td>52345</td>\n",
       "    </tr>\n",
       "    <tr>\n",
       "      <th>HDI</th>\n",
       "      <td>205</td>\n",
       "      <td>NaN</td>\n",
       "      <td>NaN</td>\n",
       "      <td>NaN</td>\n",
       "      <td>0.633937</td>\n",
       "      <td>0.24029</td>\n",
       "      <td>0</td>\n",
       "      <td>0.5328</td>\n",
       "      <td>0.69888</td>\n",
       "      <td>0.79104</td>\n",
       "      <td>0.91872</td>\n",
       "    </tr>\n",
       "    <tr>\n",
       "      <th>No of athletes</th>\n",
       "      <td>205</td>\n",
       "      <td>NaN</td>\n",
       "      <td>NaN</td>\n",
       "      <td>NaN</td>\n",
       "      <td>55.2878</td>\n",
       "      <td>96.3659</td>\n",
       "      <td>0</td>\n",
       "      <td>6</td>\n",
       "      <td>12</td>\n",
       "      <td>60</td>\n",
       "      <td>554</td>\n",
       "    </tr>\n",
       "    <tr>\n",
       "      <th>Medals_in_3rdLast_Olympics</th>\n",
       "      <td>205</td>\n",
       "      <td>NaN</td>\n",
       "      <td>NaN</td>\n",
       "      <td>NaN</td>\n",
       "      <td>4.50732</td>\n",
       "      <td>12.8523</td>\n",
       "      <td>0</td>\n",
       "      <td>0</td>\n",
       "      <td>0</td>\n",
       "      <td>3</td>\n",
       "      <td>103</td>\n",
       "    </tr>\n",
       "    <tr>\n",
       "      <th>Medals_in_2ndLast_Olympics</th>\n",
       "      <td>205</td>\n",
       "      <td>NaN</td>\n",
       "      <td>NaN</td>\n",
       "      <td>NaN</td>\n",
       "      <td>4.6439</td>\n",
       "      <td>13.5421</td>\n",
       "      <td>0</td>\n",
       "      <td>0</td>\n",
       "      <td>0</td>\n",
       "      <td>3</td>\n",
       "      <td>110</td>\n",
       "    </tr>\n",
       "    <tr>\n",
       "      <th>Medals_in_Last_Olympics</th>\n",
       "      <td>205</td>\n",
       "      <td>NaN</td>\n",
       "      <td>NaN</td>\n",
       "      <td>NaN</td>\n",
       "      <td>4.6439</td>\n",
       "      <td>13.4118</td>\n",
       "      <td>0</td>\n",
       "      <td>0</td>\n",
       "      <td>0</td>\n",
       "      <td>3</td>\n",
       "      <td>104</td>\n",
       "    </tr>\n",
       "    <tr>\n",
       "      <th>Medals_in_Current_Olympics</th>\n",
       "      <td>205</td>\n",
       "      <td>NaN</td>\n",
       "      <td>NaN</td>\n",
       "      <td>NaN</td>\n",
       "      <td>4.70244</td>\n",
       "      <td>13.0885</td>\n",
       "      <td>0</td>\n",
       "      <td>0</td>\n",
       "      <td>0</td>\n",
       "      <td>3</td>\n",
       "      <td>121</td>\n",
       "    </tr>\n",
       "  </tbody>\n",
       "</table>\n",
       "</div>"
      ],
      "text/plain": [
       "                           count unique    top freq         mean      std  \\\n",
       "Country_Id                   205    NaN    NaN  NaN  2.02101e+07  59.3226   \n",
       "Country                      205    205  Benin    1          NaN      NaN   \n",
       "GDP                          205    NaN    NaN  NaN      8790.05  9830.92   \n",
       "HDI                          205    NaN    NaN  NaN     0.633937  0.24029   \n",
       "No of athletes               205    NaN    NaN  NaN      55.2878  96.3659   \n",
       "Medals_in_3rdLast_Olympics   205    NaN    NaN  NaN      4.50732  12.8523   \n",
       "Medals_in_2ndLast_Olympics   205    NaN    NaN  NaN       4.6439  13.5421   \n",
       "Medals_in_Last_Olympics      205    NaN    NaN  NaN       4.6439  13.4118   \n",
       "Medals_in_Current_Olympics   205    NaN    NaN  NaN      4.70244  13.0885   \n",
       "\n",
       "                                  min          25%          50%          75%  \\\n",
       "Country_Id                  2.021e+07  2.02101e+07  2.02101e+07  2.02102e+07   \n",
       "Country                           NaN          NaN          NaN          NaN   \n",
       "GDP                                 0         1615         4750        12635   \n",
       "HDI                                 0       0.5328      0.69888      0.79104   \n",
       "No of athletes                      0            6           12           60   \n",
       "Medals_in_3rdLast_Olympics          0            0            0            3   \n",
       "Medals_in_2ndLast_Olympics          0            0            0            3   \n",
       "Medals_in_Last_Olympics             0            0            0            3   \n",
       "Medals_in_Current_Olympics          0            0            0            3   \n",
       "\n",
       "                                    max  \n",
       "Country_Id                  2.02102e+07  \n",
       "Country                             NaN  \n",
       "GDP                               52345  \n",
       "HDI                             0.91872  \n",
       "No of athletes                      554  \n",
       "Medals_in_3rdLast_Olympics          103  \n",
       "Medals_in_2ndLast_Olympics          110  \n",
       "Medals_in_Last_Olympics             104  \n",
       "Medals_in_Current_Olympics          121  "
      ]
     },
     "execution_count": 6,
     "metadata": {},
     "output_type": "execute_result"
    }
   ],
   "source": [
    "df.describe(include='all').T"
   ]
  },
  {
   "cell_type": "code",
   "execution_count": 7,
   "metadata": {},
   "outputs": [
    {
     "name": "stdout",
     "output_type": "stream",
     "text": [
      "Number of duplicate rows = 0\n"
     ]
    },
    {
     "data": {
      "text/html": [
       "<div>\n",
       "<style scoped>\n",
       "    .dataframe tbody tr th:only-of-type {\n",
       "        vertical-align: middle;\n",
       "    }\n",
       "\n",
       "    .dataframe tbody tr th {\n",
       "        vertical-align: top;\n",
       "    }\n",
       "\n",
       "    .dataframe thead th {\n",
       "        text-align: right;\n",
       "    }\n",
       "</style>\n",
       "<table border=\"1\" class=\"dataframe\">\n",
       "  <thead>\n",
       "    <tr style=\"text-align: right;\">\n",
       "      <th></th>\n",
       "      <th>Country_Id</th>\n",
       "      <th>Country</th>\n",
       "      <th>GDP</th>\n",
       "      <th>HDI</th>\n",
       "      <th>No of athletes</th>\n",
       "      <th>Medals_in_3rdLast_Olympics</th>\n",
       "      <th>Medals_in_2ndLast_Olympics</th>\n",
       "      <th>Medals_in_Last_Olympics</th>\n",
       "      <th>Medals_in_Current_Olympics</th>\n",
       "    </tr>\n",
       "  </thead>\n",
       "  <tbody>\n",
       "  </tbody>\n",
       "</table>\n",
       "</div>"
      ],
      "text/plain": [
       "Empty DataFrame\n",
       "Columns: [Country_Id, Country, GDP, HDI, No of athletes, Medals_in_3rdLast_Olympics, Medals_in_2ndLast_Olympics, Medals_in_Last_Olympics, Medals_in_Current_Olympics]\n",
       "Index: []"
      ]
     },
     "execution_count": 7,
     "metadata": {},
     "output_type": "execute_result"
    }
   ],
   "source": [
    "# Check for duplicate data\n",
    "\n",
    "dups = df.duplicated()\n",
    "print('Number of duplicate rows = %d' % (dups.sum()))\n",
    "\n",
    "df[dups]"
   ]
  },
  {
   "cell_type": "code",
   "execution_count": 8,
   "metadata": {},
   "outputs": [],
   "source": [
    "# drop the id column as it is useless for the model\n",
    "df = df.drop('Country_Id', axis=1)\n",
    "df = df.drop('Country', axis=1)"
   ]
  },
  {
   "cell_type": "code",
   "execution_count": 9,
   "metadata": {},
   "outputs": [
    {
     "name": "stdout",
     "output_type": "stream",
     "text": [
      "Check on missing values\n"
     ]
    },
    {
     "data": {
      "text/plain": [
       "GDP                           0\n",
       "HDI                           0\n",
       "No of athletes                0\n",
       "Medals_in_3rdLast_Olympics    0\n",
       "Medals_in_2ndLast_Olympics    0\n",
       "Medals_in_Last_Olympics       0\n",
       "Medals_in_Current_Olympics    0\n",
       "dtype: int64"
      ]
     },
     "execution_count": 9,
     "metadata": {},
     "output_type": "execute_result"
    }
   ],
   "source": [
    "#are there any missing values\n",
    "print('Check on missing values')\n",
    "df.isnull().sum()"
   ]
  },
  {
   "cell_type": "code",
   "execution_count": 10,
   "metadata": {},
   "outputs": [
    {
     "data": {
      "text/html": [
       "<div>\n",
       "<style scoped>\n",
       "    .dataframe tbody tr th:only-of-type {\n",
       "        vertical-align: middle;\n",
       "    }\n",
       "\n",
       "    .dataframe tbody tr th {\n",
       "        vertical-align: top;\n",
       "    }\n",
       "\n",
       "    .dataframe thead th {\n",
       "        text-align: right;\n",
       "    }\n",
       "</style>\n",
       "<table border=\"1\" class=\"dataframe\">\n",
       "  <thead>\n",
       "    <tr style=\"text-align: right;\">\n",
       "      <th></th>\n",
       "      <th>GDP</th>\n",
       "      <th>HDI</th>\n",
       "      <th>No of athletes</th>\n",
       "      <th>Medals_in_3rdLast_Olympics</th>\n",
       "      <th>Medals_in_2ndLast_Olympics</th>\n",
       "      <th>Medals_in_Last_Olympics</th>\n",
       "      <th>Medals_in_Current_Olympics</th>\n",
       "    </tr>\n",
       "  </thead>\n",
       "  <tbody>\n",
       "  </tbody>\n",
       "</table>\n",
       "</div>"
      ],
      "text/plain": [
       "Empty DataFrame\n",
       "Columns: [GDP, HDI, No of athletes, Medals_in_3rdLast_Olympics, Medals_in_2ndLast_Olympics, Medals_in_Last_Olympics, Medals_in_Current_Olympics]\n",
       "Index: []"
      ]
     },
     "execution_count": 10,
     "metadata": {},
     "output_type": "execute_result"
    }
   ],
   "source": [
    "df[df.isna().any(axis=1)]"
   ]
  },
  {
   "cell_type": "code",
   "execution_count": 58,
   "metadata": {},
   "outputs": [
    {
     "data": {
      "text/plain": [
       "GDP                           0\n",
       "HDI                           0\n",
       "No of athletes 2020           0\n",
       "Medals_in_3rdLast_Olympics    0\n",
       "Medals_in_2ndLast_Olympics    0\n",
       "Medals_in_Last_Olympics       0\n",
       "Medals_in_Current_Olympics    0\n",
       "dtype: int64"
      ]
     },
     "execution_count": 58,
     "metadata": {},
     "output_type": "execute_result"
    }
   ],
   "source": [
    "#Imputing missing value\n",
    "for column in df.columns:\n",
    "    if df[column].dtype != 'object':\n",
    "        mean = df[column].mean()\n",
    "        df[column] = df[column].fillna(mean)    \n",
    "        \n",
    "df.isnull().sum() "
   ]
  },
  {
   "cell_type": "code",
   "execution_count": 59,
   "metadata": {},
   "outputs": [
    {
     "data": {
      "image/png": "[encoded data removed]",
      "text/plain": [
       "<Figure size 504x504 with 2 Axes>"
      ]
     },
     "metadata": {},
     "output_type": "display_data"
    }
   ],
   "source": [
    "corr = df.corr(method='pearson')\n",
    "\n",
    "mask = np.triu(np.ones_like(corr, dtype=np.bool)) \n",
    "fig = plt.subplots(figsize=(7,7))\n",
    "sns.set(font_scale=1.2)\n",
    "sns.heatmap(df.corr(), annot=True,fmt='.2f',mask=mask)\n",
    "plt.title('Correlation Plot')\n",
    "plt.show()"
   ]
  },
  {
   "cell_type": "code",
   "execution_count": 60,
   "metadata": {},
   "outputs": [
    {
     "data": {
      "image/png": "[encoded data removed]",
      "text/plain": [
       "<Figure size 1260x1260 with 56 Axes>"
      ]
     },
     "metadata": {},
     "output_type": "display_data"
    }
   ],
   "source": [
    "sns.pairplot(df, diag_kind='kde')  \n",
    "plt.show()"
   ]
  },
  {
   "cell_type": "code",
   "execution_count": 11,
   "metadata": {},
   "outputs": [],
   "source": [
    "# Copy all the predictor variables into X dataframe\n",
    "X = df.drop('Medals_in_Current_Olympics', axis=1)\n",
    "\n",
    "# Copy target into the y dataframe. \n",
    "y = df[['Medals_in_Current_Olympics']]"
   ]
  },
  {
   "cell_type": "code",
   "execution_count": 12,
   "metadata": {},
   "outputs": [
    {
     "data": {
      "text/html": [
       "<div>\n",
       "<style scoped>\n",
       "    .dataframe tbody tr th:only-of-type {\n",
       "        vertical-align: middle;\n",
       "    }\n",
       "\n",
       "    .dataframe tbody tr th {\n",
       "        vertical-align: top;\n",
       "    }\n",
       "\n",
       "    .dataframe thead th {\n",
       "        text-align: right;\n",
       "    }\n",
       "</style>\n",
       "<table border=\"1\" class=\"dataframe\">\n",
       "  <thead>\n",
       "    <tr style=\"text-align: right;\">\n",
       "      <th></th>\n",
       "      <th>GDP</th>\n",
       "      <th>HDI</th>\n",
       "      <th>No of athletes</th>\n",
       "      <th>Medals_in_3rdLast_Olympics</th>\n",
       "      <th>Medals_in_2ndLast_Olympics</th>\n",
       "      <th>Medals_in_Last_Olympics</th>\n",
       "    </tr>\n",
       "  </thead>\n",
       "  <tbody>\n",
       "    <tr>\n",
       "      <th>0</th>\n",
       "      <td>665</td>\n",
       "      <td>0.49056</td>\n",
       "      <td>3</td>\n",
       "      <td>0</td>\n",
       "      <td>1</td>\n",
       "      <td>1</td>\n",
       "    </tr>\n",
       "    <tr>\n",
       "      <th>1</th>\n",
       "      <td>4275</td>\n",
       "      <td>0.76320</td>\n",
       "      <td>6</td>\n",
       "      <td>0</td>\n",
       "      <td>0</td>\n",
       "      <td>0</td>\n",
       "    </tr>\n",
       "    <tr>\n",
       "      <th>2</th>\n",
       "      <td>5700</td>\n",
       "      <td>0.71808</td>\n",
       "      <td>64</td>\n",
       "      <td>0</td>\n",
       "      <td>2</td>\n",
       "      <td>1</td>\n",
       "    </tr>\n",
       "    <tr>\n",
       "      <th>3</th>\n",
       "      <td>7600</td>\n",
       "      <td>0.00000</td>\n",
       "      <td>4</td>\n",
       "      <td>0</td>\n",
       "      <td>0</td>\n",
       "      <td>0</td>\n",
       "    </tr>\n",
       "    <tr>\n",
       "      <th>4</th>\n",
       "      <td>18050</td>\n",
       "      <td>0.83328</td>\n",
       "      <td>5</td>\n",
       "      <td>0</td>\n",
       "      <td>0</td>\n",
       "      <td>0</td>\n",
       "    </tr>\n",
       "  </tbody>\n",
       "</table>\n",
       "</div>"
      ],
      "text/plain": [
       "     GDP      HDI  No of athletes  Medals_in_3rdLast_Olympics  \\\n",
       "0    665  0.49056               3                           0   \n",
       "1   4275  0.76320               6                           0   \n",
       "2   5700  0.71808              64                           0   \n",
       "3   7600  0.00000               4                           0   \n",
       "4  18050  0.83328               5                           0   \n",
       "\n",
       "   Medals_in_2ndLast_Olympics  Medals_in_Last_Olympics  \n",
       "0                           1                        1  \n",
       "1                           0                        0  \n",
       "2                           2                        1  \n",
       "3                           0                        0  \n",
       "4                           0                        0  "
      ]
     },
     "execution_count": 12,
     "metadata": {},
     "output_type": "execute_result"
    }
   ],
   "source": [
    "X.head()"
   ]
  },
  {
   "cell_type": "code",
   "execution_count": 13,
   "metadata": {},
   "outputs": [],
   "source": [
    "#Let us break the X and y dataframes into training set and test set. For this we will use\n",
    "#Sklearn package's data splitting function which is based on random function\n",
    "\n",
    "from sklearn.model_selection import train_test_split"
   ]
  },
  {
   "cell_type": "code",
   "execution_count": 14,
   "metadata": {},
   "outputs": [],
   "source": [
    "# Split X and y into training and test set in 75:25 ratio\n",
    "\n",
    "X_train, X_test, y_train, y_test = train_test_split(X, y, test_size=0.30 , random_state=1)"
   ]
  },
  {
   "cell_type": "code",
   "execution_count": 15,
   "metadata": {},
   "outputs": [
    {
     "data": {
      "text/html": [
       "<div>\n",
       "<style scoped>\n",
       "    .dataframe tbody tr th:only-of-type {\n",
       "        vertical-align: middle;\n",
       "    }\n",
       "\n",
       "    .dataframe tbody tr th {\n",
       "        vertical-align: top;\n",
       "    }\n",
       "\n",
       "    .dataframe thead th {\n",
       "        text-align: right;\n",
       "    }\n",
       "</style>\n",
       "<table border=\"1\" class=\"dataframe\">\n",
       "  <thead>\n",
       "    <tr style=\"text-align: right;\">\n",
       "      <th></th>\n",
       "      <th>GDP</th>\n",
       "      <th>HDI</th>\n",
       "      <th>No of athletes</th>\n",
       "      <th>Medals_in_3rdLast_Olympics</th>\n",
       "      <th>Medals_in_2ndLast_Olympics</th>\n",
       "      <th>Medals_in_Last_Olympics</th>\n",
       "    </tr>\n",
       "  </thead>\n",
       "  <tbody>\n",
       "    <tr>\n",
       "      <th>124</th>\n",
       "      <td>3800</td>\n",
       "      <td>0.65856</td>\n",
       "      <td>51</td>\n",
       "      <td>3</td>\n",
       "      <td>2</td>\n",
       "      <td>1</td>\n",
       "    </tr>\n",
       "    <tr>\n",
       "      <th>181</th>\n",
       "      <td>22230</td>\n",
       "      <td>0.00000</td>\n",
       "      <td>60</td>\n",
       "      <td>5</td>\n",
       "      <td>4</td>\n",
       "      <td>2</td>\n",
       "    </tr>\n",
       "    <tr>\n",
       "      <th>154</th>\n",
       "      <td>1235</td>\n",
       "      <td>0.52128</td>\n",
       "      <td>8</td>\n",
       "      <td>0</td>\n",
       "      <td>0</td>\n",
       "      <td>0</td>\n",
       "    </tr>\n",
       "    <tr>\n",
       "      <th>53</th>\n",
       "      <td>5700</td>\n",
       "      <td>0.72576</td>\n",
       "      <td>29</td>\n",
       "      <td>1</td>\n",
       "      <td>2</td>\n",
       "      <td>2</td>\n",
       "    </tr>\n",
       "    <tr>\n",
       "      <th>94</th>\n",
       "      <td>26790</td>\n",
       "      <td>0.88224</td>\n",
       "      <td>338</td>\n",
       "      <td>37</td>\n",
       "      <td>25</td>\n",
       "      <td>38</td>\n",
       "    </tr>\n",
       "  </tbody>\n",
       "</table>\n",
       "</div>"
      ],
      "text/plain": [
       "       GDP      HDI  No of athletes  Medals_in_3rdLast_Olympics  \\\n",
       "124   3800  0.65856              51                           3   \n",
       "181  22230  0.00000              60                           5   \n",
       "154   1235  0.52128               8                           0   \n",
       "53    5700  0.72576              29                           1   \n",
       "94   26790  0.88224             338                          37   \n",
       "\n",
       "     Medals_in_2ndLast_Olympics  Medals_in_Last_Olympics  \n",
       "124                           2                        1  \n",
       "181                           4                        2  \n",
       "154                           0                        0  \n",
       "53                            2                        2  \n",
       "94                           25                       38  "
      ]
     },
     "execution_count": 15,
     "metadata": {},
     "output_type": "execute_result"
    }
   ],
   "source": [
    "X_train.head()\n"
   ]
  },
  {
   "cell_type": "code",
   "execution_count": 16,
   "metadata": {},
   "outputs": [
    {
     "data": {
      "text/plain": [
       "LinearRegression()"
      ]
     },
     "execution_count": 16,
     "metadata": {},
     "output_type": "execute_result"
    }
   ],
   "source": [
    "# invoke the LinearRegression function and find the bestfit model on training data\n",
    "\n",
    "regression_model = LinearRegression()\n",
    "regression_model.fit(X_train, y_train)"
   ]
  },
  {
   "cell_type": "code",
   "execution_count": 17,
   "metadata": {},
   "outputs": [
    {
     "name": "stdout",
     "output_type": "stream",
     "text": [
      "The coefficient for GDP is 2.1000498571049604e-05\n",
      "The coefficient for HDI is -0.23584156931987466\n",
      "The coefficient for No of athletes is -0.004496775371776715\n",
      "The coefficient for Medals_in_3rdLast_Olympics is -0.1686568791397977\n",
      "The coefficient for Medals_in_2ndLast_Olympics is 0.16234008441025496\n",
      "The coefficient for Medals_in_Last_Olympics is 1.1048612535480775\n"
     ]
    }
   ],
   "source": [
    "# Let us explore the coefficients for each of the independent attributes\n",
    "\n",
    "for idx, col_name in enumerate(X_train.columns):\n",
    "    print(\"The coefficient for {} is {}\".format(col_name, regression_model.coef_[0][idx]))"
   ]
  },
  {
   "cell_type": "code",
   "execution_count": 18,
   "metadata": {},
   "outputs": [
    {
     "name": "stdout",
     "output_type": "stream",
     "text": [
      "The intercept for our model is -0.033504851325433016\n"
     ]
    }
   ],
   "source": [
    "# Let us check the intercept for the model\n",
    "\n",
    "intercept = regression_model.intercept_[0]\n",
    "\n",
    "print(\"The intercept for our model is {}\".format(intercept))"
   ]
  },
  {
   "cell_type": "code",
   "execution_count": 19,
   "metadata": {},
   "outputs": [
    {
     "data": {
      "text/plain": [
       "0.9747431673873678"
      ]
     },
     "execution_count": 19,
     "metadata": {},
     "output_type": "execute_result"
    }
   ],
   "source": [
    "\n",
    "regression_model.score(X_train, y_train)"
   ]
  },
  {
   "cell_type": "code",
   "execution_count": 20,
   "metadata": {},
   "outputs": [
    {
     "data": {
      "text/plain": [
       "0.7568015211424112"
      ]
     },
     "execution_count": 20,
     "metadata": {},
     "output_type": "execute_result"
    }
   ],
   "source": [
    "# Model score - R2 or coeff of determinant\n",
    "# R^2=1–RSS / TSS =  RegErr / TSS\n",
    "\n",
    "regression_model.score(X_test, y_test)"
   ]
  },
  {
   "cell_type": "code",
   "execution_count": 21,
   "metadata": {},
   "outputs": [],
   "source": [
    "# Let us check the sum of squared errors by predicting value of y for test cases and \n",
    "# subtracting from the actual y for the test cases\n",
    "\n",
    "mse = np.mean((regression_model.predict(X_test)-y_test)**2)"
   ]
  },
  {
   "cell_type": "code",
   "execution_count": 22,
   "metadata": {},
   "outputs": [
    {
     "data": {
      "text/plain": [
       "5.859695525123974"
      ]
     },
     "execution_count": 22,
     "metadata": {},
     "output_type": "execute_result"
    }
   ],
   "source": [
    "# underroot of mean_sq_error is standard deviation i.e. avg variance between predicted and actual\n",
    "\n",
    "import math\n",
    "\n",
    "math.sqrt(mse)"
   ]
  },
  {
   "cell_type": "code",
   "execution_count": 23,
   "metadata": {},
   "outputs": [
    {
     "data": {
      "text/plain": [
       "2.1507577311249784"
      ]
     },
     "execution_count": 23,
     "metadata": {},
     "output_type": "execute_result"
    }
   ],
   "source": [
    "#RMSE on Training data\n",
    "predicted_train=regression_model.fit(X_train, y_train).predict(X_train)\n",
    "np.sqrt(metrics.mean_squared_error(y_train,predicted_train))"
   ]
  },
  {
   "cell_type": "code",
   "execution_count": 24,
   "metadata": {},
   "outputs": [
    {
     "data": {
      "text/plain": [
       "5.859695525123976"
      ]
     },
     "execution_count": 24,
     "metadata": {},
     "output_type": "execute_result"
    }
   ],
   "source": [
    "#RMSE on Testing data\n",
    "predicted_test=regression_model.fit(X_train, y_train).predict(X_test)\n",
    "np.sqrt(metrics.mean_squared_error(y_test,predicted_test))"
   ]
  },
  {
   "cell_type": "code",
   "execution_count": 25,
   "metadata": {},
   "outputs": [],
   "source": [
    "# predict mileage (mpg) for a set of attributes not in the training or test set\n",
    "y_pred = regression_model.predict(X_test)"
   ]
  },
  {
   "cell_type": "code",
   "execution_count": 26,
   "metadata": {},
   "outputs": [
    {
     "data": {
      "text/plain": [
       "<matplotlib.collections.PathCollection at 0xb7793d0>"
      ]
     },
     "execution_count": 26,
     "metadata": {},
     "output_type": "execute_result"
    },
    {
     "data": {
      "image/png": "[encoded data removed]",
      "text/plain": [
       "<Figure size 432x288 with 1 Axes>"
      ]
     },
     "metadata": {
      "needs_background": "light"
     },
     "output_type": "display_data"
    }
   ],
   "source": [
    "plt.scatter(y_test['Medals_in_Current_Olympics'], y_pred)"
   ]
  },
  {
   "cell_type": "markdown",
   "metadata": {},
   "source": [
    "### Fitting into model after scaling the data"
   ]
  },
  {
   "cell_type": "code",
   "execution_count": 27,
   "metadata": {},
   "outputs": [],
   "source": [
    "#from scipy.stats import zscore\n",
    "\n",
    "#X_train_scaled  = X_train.apply(zscore)\n",
    "#X_test_scaled = X_test.apply(zscore)\n",
    "#y_train_scaled = y_train.apply(zscore)\n",
    "#y_test_scaled = y_test.apply(zscore)\n",
    "\n",
    "from sklearn.preprocessing import StandardScaler\n",
    "scalerX = StandardScaler().fit(X_train)\n",
    "scalery = StandardScaler().fit(y_train)\n",
    "X_train_scaled = scalerX.transform(X_train)\n",
    "y_train_scaled = scalery.transform(y_train)\n",
    "X_test_scaled = scalerX.transform(X_test)\n",
    "y_test_Scaled = scalery.transform(y_test)"
   ]
  },
  {
   "cell_type": "code",
   "execution_count": 28,
   "metadata": {},
   "outputs": [
    {
     "data": {
      "text/plain": [
       "LinearRegression()"
      ]
     },
     "execution_count": 28,
     "metadata": {},
     "output_type": "execute_result"
    }
   ],
   "source": [
    "# invoke the LinearRegression function and find the bestfit model on training data\n",
    "\n",
    "regression_model = LinearRegression()\n",
    "regression_model.fit(X_train_scaled, y_train_scaled)"
   ]
  },
  {
   "cell_type": "code",
   "execution_count": 29,
   "metadata": {},
   "outputs": [
    {
     "name": "stdout",
     "output_type": "stream",
     "text": [
      "The coefficient for GDP is 0.014631642700912662\n",
      "The coefficient for HDI is -0.004452804805506472\n",
      "The coefficient for No of athletes is -0.033830889660717955\n",
      "The coefficient for Medals_in_3rdLast_Olympics is -0.14948973339737906\n",
      "The coefficient for Medals_in_2ndLast_Olympics is 0.14811688268571735\n",
      "The coefficient for Medals_in_Last_Olympics is 1.0083649001838428\n"
     ]
    }
   ],
   "source": [
    "# Let us explore the coefficients for each of the independent attributes\n",
    "\n",
    "for idx, col_name in enumerate(X_train.columns):\n",
    "    print(\"The coefficient for {} is {}\".format(col_name, regression_model.coef_[0][idx]))"
   ]
  },
  {
   "cell_type": "code",
   "execution_count": 30,
   "metadata": {},
   "outputs": [
    {
     "name": "stdout",
     "output_type": "stream",
     "text": [
      "The intercept for our model is -6.669376363167678e-18\n"
     ]
    }
   ],
   "source": [
    "intercept = regression_model.intercept_[0]\n",
    "\n",
    "print(\"The intercept for our model is {}\".format(intercept))"
   ]
  },
  {
   "cell_type": "code",
   "execution_count": 31,
   "metadata": {},
   "outputs": [
    {
     "data": {
      "text/plain": [
       "0.9747431673873678"
      ]
     },
     "execution_count": 31,
     "metadata": {},
     "output_type": "execute_result"
    }
   ],
   "source": [
    "\n",
    "regression_model.score(X_train_scaled, y_train_scaled)"
   ]
  },
  {
   "cell_type": "code",
   "execution_count": 32,
   "metadata": {},
   "outputs": [
    {
     "data": {
      "text/plain": [
       "0.7568015211424081"
      ]
     },
     "execution_count": 32,
     "metadata": {},
     "output_type": "execute_result"
    }
   ],
   "source": [
    "# Model score - R2 or coeff of determinant\n",
    "# R^2=1–RSS / TSS\n",
    "\n",
    "regression_model.score(X_test_scaled, y_test_Scaled)"
   ]
  },
  {
   "cell_type": "code",
   "execution_count": 33,
   "metadata": {},
   "outputs": [],
   "source": [
    "# Let us check the sum of squared errors by predicting value of y for training cases and \n",
    "# subtracting from the actual y for the training cases\n",
    "\n",
    "mse = np.mean((regression_model.predict(X_test_scaled)-y_test_Scaled)**2)"
   ]
  },
  {
   "cell_type": "code",
   "execution_count": 34,
   "metadata": {},
   "outputs": [
    {
     "data": {
      "text/plain": [
       "0.4329851488936867"
      ]
     },
     "execution_count": 34,
     "metadata": {},
     "output_type": "execute_result"
    }
   ],
   "source": [
    "# underroot of mean_sq_error is standard deviation i.e. avg variance between predicted and actual\n",
    "\n",
    "import math\n",
    "\n",
    "math.sqrt(mse)"
   ]
  },
  {
   "cell_type": "code",
   "execution_count": 35,
   "metadata": {},
   "outputs": [
    {
     "data": {
      "text/plain": [
       "0.4329851488936867"
      ]
     },
     "execution_count": 35,
     "metadata": {},
     "output_type": "execute_result"
    }
   ],
   "source": [
    "#RMSE on Testing data\n",
    "predicted_test_scaled=regression_model.fit(X_train_scaled, y_train_scaled).predict(X_test_scaled)\n",
    "np.sqrt(metrics.mean_squared_error(y_test_Scaled,predicted_test_scaled))"
   ]
  },
  {
   "cell_type": "code",
   "execution_count": 36,
   "metadata": {},
   "outputs": [],
   "source": [
    "# predict mileage (mpg) for a set of attributes not in the training or test set\n",
    "y_pred = regression_model.predict(X_test_scaled)"
   ]
  },
  {
   "cell_type": "code",
   "execution_count": 37,
   "metadata": {},
   "outputs": [],
   "source": [
    "y_pred_inverse = scalery.inverse_transform(y_pred)"
   ]
  },
  {
   "cell_type": "code",
   "execution_count": 40,
   "metadata": {},
   "outputs": [],
   "source": [
    "from statsmodels.stats.outliers_influence import variance_inflation_factor"
   ]
  },
  {
   "cell_type": "code",
   "execution_count": 41,
   "metadata": {},
   "outputs": [],
   "source": [
    "vif = [variance_inflation_factor(X.values, ix) for ix in range(X.shape[1])] "
   ]
  },
  {
   "cell_type": "code",
   "execution_count": 42,
   "metadata": {},
   "outputs": [
    {
     "name": "stdout",
     "output_type": "stream",
     "text": [
      "GDP ---> 2.1956416831401735\n",
      "HDI ---> 2.1449304270458485\n",
      "No of athletes ---> 5.301291433108347\n",
      "Medals_in_3rdLast_Olympics ---> 14.425375881909101\n",
      "Medals_in_2ndLast_Olympics ---> 29.610057782363054\n",
      "Medals_in_Last_Olympics ---> 28.562929480383954\n"
     ]
    }
   ],
   "source": [
    "i=0\n",
    "for column in X.columns:\n",
    "    if i < 11:\n",
    "        print (column ,\"--->\",  vif[i])\n",
    "        i = i+1"
   ]
  },
  {
   "cell_type": "markdown",
   "metadata": {},
   "source": [
    "# Predicting 2021 medal counts"
   ]
  },
  {
   "cell_type": "code",
   "execution_count": 43,
   "metadata": {},
   "outputs": [],
   "source": [
    "df_2021 = pd.read_csv(\"Olympics_Medal_Tally_2021.csv\", encoding = \"ISO-8859-1\", engine='python')  "
   ]
  },
  {
   "cell_type": "code",
   "execution_count": 44,
   "metadata": {},
   "outputs": [
    {
     "data": {
      "text/html": [
       "<div>\n",
       "<style scoped>\n",
       "    .dataframe tbody tr th:only-of-type {\n",
       "        vertical-align: middle;\n",
       "    }\n",
       "\n",
       "    .dataframe tbody tr th {\n",
       "        vertical-align: top;\n",
       "    }\n",
       "\n",
       "    .dataframe thead th {\n",
       "        text-align: right;\n",
       "    }\n",
       "</style>\n",
       "<table border=\"1\" class=\"dataframe\">\n",
       "  <thead>\n",
       "    <tr style=\"text-align: right;\">\n",
       "      <th></th>\n",
       "      <th>Country_Id</th>\n",
       "      <th>Country</th>\n",
       "      <th>GDP</th>\n",
       "      <th>HDI</th>\n",
       "      <th>No of athletes 2020</th>\n",
       "      <th>Medals_in_3rdLast_Olympics</th>\n",
       "      <th>Medals_in_2ndLast_Olympics</th>\n",
       "      <th>Medals_in_Last_Olympics</th>\n",
       "      <th>Medals_in_Current_Olympics</th>\n",
       "    </tr>\n",
       "  </thead>\n",
       "  <tbody>\n",
       "    <tr>\n",
       "      <th>0</th>\n",
       "      <td>20210001</td>\n",
       "      <td>Afghanistan</td>\n",
       "      <td>700</td>\n",
       "      <td>0.511</td>\n",
       "      <td>5</td>\n",
       "      <td>1</td>\n",
       "      <td>1</td>\n",
       "      <td>0</td>\n",
       "      <td>NaN</td>\n",
       "    </tr>\n",
       "    <tr>\n",
       "      <th>1</th>\n",
       "      <td>20210002</td>\n",
       "      <td>Albania</td>\n",
       "      <td>4500</td>\n",
       "      <td>0.795</td>\n",
       "      <td>9</td>\n",
       "      <td>0</td>\n",
       "      <td>0</td>\n",
       "      <td>0</td>\n",
       "      <td>NaN</td>\n",
       "    </tr>\n",
       "    <tr>\n",
       "      <th>2</th>\n",
       "      <td>20210003</td>\n",
       "      <td>Algeria</td>\n",
       "      <td>6000</td>\n",
       "      <td>0.748</td>\n",
       "      <td>44</td>\n",
       "      <td>2</td>\n",
       "      <td>1</td>\n",
       "      <td>2</td>\n",
       "      <td>NaN</td>\n",
       "    </tr>\n",
       "    <tr>\n",
       "      <th>3</th>\n",
       "      <td>20210004</td>\n",
       "      <td>American Samoa</td>\n",
       "      <td>8000</td>\n",
       "      <td>NaN</td>\n",
       "      <td>6</td>\n",
       "      <td>0</td>\n",
       "      <td>0</td>\n",
       "      <td>0</td>\n",
       "      <td>NaN</td>\n",
       "    </tr>\n",
       "    <tr>\n",
       "      <th>4</th>\n",
       "      <td>20210005</td>\n",
       "      <td>Andorra</td>\n",
       "      <td>19000</td>\n",
       "      <td>0.868</td>\n",
       "      <td>2</td>\n",
       "      <td>0</td>\n",
       "      <td>0</td>\n",
       "      <td>0</td>\n",
       "      <td>NaN</td>\n",
       "    </tr>\n",
       "  </tbody>\n",
       "</table>\n",
       "</div>"
      ],
      "text/plain": [
       "   Country_Id         Country    GDP    HDI  No of athletes 2020  \\\n",
       "0    20210001     Afghanistan    700  0.511                    5   \n",
       "1    20210002         Albania   4500  0.795                    9   \n",
       "2    20210003         Algeria   6000  0.748                   44   \n",
       "3    20210004  American Samoa   8000    NaN                    6   \n",
       "4    20210005         Andorra  19000  0.868                    2   \n",
       "\n",
       "   Medals_in_3rdLast_Olympics  Medals_in_2ndLast_Olympics  \\\n",
       "0                           1                           1   \n",
       "1                           0                           0   \n",
       "2                           2                           1   \n",
       "3                           0                           0   \n",
       "4                           0                           0   \n",
       "\n",
       "   Medals_in_Last_Olympics  Medals_in_Current_Olympics  \n",
       "0                        0                         NaN  \n",
       "1                        0                         NaN  \n",
       "2                        2                         NaN  \n",
       "3                        0                         NaN  \n",
       "4                        0                         NaN  "
      ]
     },
     "execution_count": 44,
     "metadata": {},
     "output_type": "execute_result"
    }
   ],
   "source": [
    "df_2021.head()"
   ]
  },
  {
   "cell_type": "code",
   "execution_count": 45,
   "metadata": {},
   "outputs": [],
   "source": [
    "df_2021= df_2021.drop('Medals_in_Current_Olympics', axis=1)"
   ]
  },
  {
   "cell_type": "code",
   "execution_count": 46,
   "metadata": {},
   "outputs": [
    {
     "data": {
      "text/html": [
       "<div>\n",
       "<style scoped>\n",
       "    .dataframe tbody tr th:only-of-type {\n",
       "        vertical-align: middle;\n",
       "    }\n",
       "\n",
       "    .dataframe tbody tr th {\n",
       "        vertical-align: top;\n",
       "    }\n",
       "\n",
       "    .dataframe thead th {\n",
       "        text-align: right;\n",
       "    }\n",
       "</style>\n",
       "<table border=\"1\" class=\"dataframe\">\n",
       "  <thead>\n",
       "    <tr style=\"text-align: right;\">\n",
       "      <th></th>\n",
       "      <th>Country_Id</th>\n",
       "      <th>Country</th>\n",
       "      <th>GDP</th>\n",
       "      <th>HDI</th>\n",
       "      <th>No of athletes 2020</th>\n",
       "      <th>Medals_in_3rdLast_Olympics</th>\n",
       "      <th>Medals_in_2ndLast_Olympics</th>\n",
       "      <th>Medals_in_Last_Olympics</th>\n",
       "    </tr>\n",
       "  </thead>\n",
       "  <tbody>\n",
       "    <tr>\n",
       "      <th>3</th>\n",
       "      <td>20210004</td>\n",
       "      <td>American Samoa</td>\n",
       "      <td>8000</td>\n",
       "      <td>NaN</td>\n",
       "      <td>6</td>\n",
       "      <td>0</td>\n",
       "      <td>0</td>\n",
       "      <td>0</td>\n",
       "    </tr>\n",
       "    <tr>\n",
       "      <th>9</th>\n",
       "      <td>20210010</td>\n",
       "      <td>Aruba</td>\n",
       "      <td>28000</td>\n",
       "      <td>NaN</td>\n",
       "      <td>3</td>\n",
       "      <td>0</td>\n",
       "      <td>0</td>\n",
       "      <td>0</td>\n",
       "    </tr>\n",
       "    <tr>\n",
       "      <th>21</th>\n",
       "      <td>20210022</td>\n",
       "      <td>Bermuda</td>\n",
       "      <td>36000</td>\n",
       "      <td>NaN</td>\n",
       "      <td>2</td>\n",
       "      <td>0</td>\n",
       "      <td>0</td>\n",
       "      <td>0</td>\n",
       "    </tr>\n",
       "    <tr>\n",
       "      <th>27</th>\n",
       "      <td>20210028</td>\n",
       "      <td>British Virgin Islands</td>\n",
       "      <td>16000</td>\n",
       "      <td>NaN</td>\n",
       "      <td>3</td>\n",
       "      <td>0</td>\n",
       "      <td>0</td>\n",
       "      <td>0</td>\n",
       "    </tr>\n",
       "    <tr>\n",
       "      <th>36</th>\n",
       "      <td>20210037</td>\n",
       "      <td>Cayman Islands</td>\n",
       "      <td>35000</td>\n",
       "      <td>NaN</td>\n",
       "      <td>6</td>\n",
       "      <td>0</td>\n",
       "      <td>0</td>\n",
       "      <td>0</td>\n",
       "    </tr>\n",
       "    <tr>\n",
       "      <th>43</th>\n",
       "      <td>20210044</td>\n",
       "      <td>Cook Islands</td>\n",
       "      <td>5000</td>\n",
       "      <td>NaN</td>\n",
       "      <td>6</td>\n",
       "      <td>0</td>\n",
       "      <td>0</td>\n",
       "      <td>0</td>\n",
       "    </tr>\n",
       "    <tr>\n",
       "      <th>63</th>\n",
       "      <td>20210064</td>\n",
       "      <td>Federated States of Micronesia</td>\n",
       "      <td>0</td>\n",
       "      <td>NaN</td>\n",
       "      <td>3</td>\n",
       "      <td>0</td>\n",
       "      <td>0</td>\n",
       "      <td>0</td>\n",
       "    </tr>\n",
       "    <tr>\n",
       "      <th>75</th>\n",
       "      <td>20210076</td>\n",
       "      <td>Guam</td>\n",
       "      <td>19950</td>\n",
       "      <td>NaN</td>\n",
       "      <td>5</td>\n",
       "      <td>0</td>\n",
       "      <td>0</td>\n",
       "      <td>0</td>\n",
       "    </tr>\n",
       "    <tr>\n",
       "      <th>99</th>\n",
       "      <td>20210100</td>\n",
       "      <td>Kosovo</td>\n",
       "      <td>0</td>\n",
       "      <td>NaN</td>\n",
       "      <td>11</td>\n",
       "      <td>0</td>\n",
       "      <td>0</td>\n",
       "      <td>1</td>\n",
       "    </tr>\n",
       "    <tr>\n",
       "      <th>121</th>\n",
       "      <td>20210122</td>\n",
       "      <td>Monaco</td>\n",
       "      <td>25650</td>\n",
       "      <td>NaN</td>\n",
       "      <td>6</td>\n",
       "      <td>0</td>\n",
       "      <td>0</td>\n",
       "      <td>0</td>\n",
       "    </tr>\n",
       "    <tr>\n",
       "      <th>128</th>\n",
       "      <td>20210129</td>\n",
       "      <td>Nauru</td>\n",
       "      <td>4750</td>\n",
       "      <td>NaN</td>\n",
       "      <td>2</td>\n",
       "      <td>0</td>\n",
       "      <td>0</td>\n",
       "      <td>0</td>\n",
       "    </tr>\n",
       "    <tr>\n",
       "      <th>148</th>\n",
       "      <td>20210149</td>\n",
       "      <td>Puerto Rico</td>\n",
       "      <td>15960</td>\n",
       "      <td>NaN</td>\n",
       "      <td>37</td>\n",
       "      <td>0</td>\n",
       "      <td>2</td>\n",
       "      <td>1</td>\n",
       "    </tr>\n",
       "    <tr>\n",
       "      <th>150</th>\n",
       "      <td>20210151</td>\n",
       "      <td>Refugee Olympic Team</td>\n",
       "      <td>0</td>\n",
       "      <td>NaN</td>\n",
       "      <td>29</td>\n",
       "      <td>0</td>\n",
       "      <td>0</td>\n",
       "      <td>0</td>\n",
       "    </tr>\n",
       "    <tr>\n",
       "      <th>159</th>\n",
       "      <td>20210160</td>\n",
       "      <td>San Marino</td>\n",
       "      <td>32870</td>\n",
       "      <td>NaN</td>\n",
       "      <td>5</td>\n",
       "      <td>0</td>\n",
       "      <td>0</td>\n",
       "      <td>0</td>\n",
       "    </tr>\n",
       "    <tr>\n",
       "      <th>170</th>\n",
       "      <td>20210171</td>\n",
       "      <td>Somalia</td>\n",
       "      <td>475</td>\n",
       "      <td>NaN</td>\n",
       "      <td>2</td>\n",
       "      <td>0</td>\n",
       "      <td>0</td>\n",
       "      <td>0</td>\n",
       "    </tr>\n",
       "    <tr>\n",
       "      <th>181</th>\n",
       "      <td>20210182</td>\n",
       "      <td>Chinese Taipei</td>\n",
       "      <td>22230</td>\n",
       "      <td>NaN</td>\n",
       "      <td>59</td>\n",
       "      <td>4</td>\n",
       "      <td>2</td>\n",
       "      <td>3</td>\n",
       "    </tr>\n",
       "    <tr>\n",
       "      <th>191</th>\n",
       "      <td>20210192</td>\n",
       "      <td>Tuvalu</td>\n",
       "      <td>1045</td>\n",
       "      <td>NaN</td>\n",
       "      <td>2</td>\n",
       "      <td>0</td>\n",
       "      <td>0</td>\n",
       "      <td>0</td>\n",
       "    </tr>\n",
       "    <tr>\n",
       "      <th>201</th>\n",
       "      <td>20210202</td>\n",
       "      <td>Virgin Islands</td>\n",
       "      <td>16340</td>\n",
       "      <td>NaN</td>\n",
       "      <td>4</td>\n",
       "      <td>0</td>\n",
       "      <td>0</td>\n",
       "      <td>0</td>\n",
       "    </tr>\n",
       "  </tbody>\n",
       "</table>\n",
       "</div>"
      ],
      "text/plain": [
       "     Country_Id                         Country    GDP  HDI  \\\n",
       "3      20210004                  American Samoa   8000  NaN   \n",
       "9      20210010                           Aruba  28000  NaN   \n",
       "21     20210022                         Bermuda  36000  NaN   \n",
       "27     20210028          British Virgin Islands  16000  NaN   \n",
       "36     20210037                  Cayman Islands  35000  NaN   \n",
       "43     20210044                    Cook Islands   5000  NaN   \n",
       "63     20210064  Federated States of Micronesia      0  NaN   \n",
       "75     20210076                            Guam  19950  NaN   \n",
       "99     20210100                          Kosovo      0  NaN   \n",
       "121    20210122                          Monaco  25650  NaN   \n",
       "128    20210129                           Nauru   4750  NaN   \n",
       "148    20210149                     Puerto Rico  15960  NaN   \n",
       "150    20210151            Refugee Olympic Team      0  NaN   \n",
       "159    20210160                      San Marino  32870  NaN   \n",
       "170    20210171                         Somalia    475  NaN   \n",
       "181    20210182                  Chinese Taipei  22230  NaN   \n",
       "191    20210192                          Tuvalu   1045  NaN   \n",
       "201    20210202                  Virgin Islands  16340  NaN   \n",
       "\n",
       "     No of athletes 2020  Medals_in_3rdLast_Olympics  \\\n",
       "3                      6                           0   \n",
       "9                      3                           0   \n",
       "21                     2                           0   \n",
       "27                     3                           0   \n",
       "36                     6                           0   \n",
       "43                     6                           0   \n",
       "63                     3                           0   \n",
       "75                     5                           0   \n",
       "99                    11                           0   \n",
       "121                    6                           0   \n",
       "128                    2                           0   \n",
       "148                   37                           0   \n",
       "150                   29                           0   \n",
       "159                    5                           0   \n",
       "170                    2                           0   \n",
       "181                   59                           4   \n",
       "191                    2                           0   \n",
       "201                    4                           0   \n",
       "\n",
       "     Medals_in_2ndLast_Olympics  Medals_in_Last_Olympics  \n",
       "3                             0                        0  \n",
       "9                             0                        0  \n",
       "21                            0                        0  \n",
       "27                            0                        0  \n",
       "36                            0                        0  \n",
       "43                            0                        0  \n",
       "63                            0                        0  \n",
       "75                            0                        0  \n",
       "99                            0                        1  \n",
       "121                           0                        0  \n",
       "128                           0                        0  \n",
       "148                           2                        1  \n",
       "150                           0                        0  \n",
       "159                           0                        0  \n",
       "170                           0                        0  \n",
       "181                           2                        3  \n",
       "191                           0                        0  \n",
       "201                           0                        0  "
      ]
     },
     "execution_count": 46,
     "metadata": {},
     "output_type": "execute_result"
    }
   ],
   "source": [
    "df_2021[df_2021.isna().any(axis=1)]"
   ]
  },
  {
   "cell_type": "code",
   "execution_count": 47,
   "metadata": {},
   "outputs": [
    {
     "data": {
      "text/plain": [
       "Country_Id                    0\n",
       "Country                       0\n",
       "GDP                           0\n",
       "HDI                           0\n",
       "No of athletes 2020           0\n",
       "Medals_in_3rdLast_Olympics    0\n",
       "Medals_in_2ndLast_Olympics    0\n",
       "Medals_in_Last_Olympics       0\n",
       "dtype: int64"
      ]
     },
     "execution_count": 47,
     "metadata": {},
     "output_type": "execute_result"
    }
   ],
   "source": [
    "#Imputing missing value\n",
    "for column in df_2021.columns:\n",
    "    if df_2021[column].dtype != 'object':\n",
    "        mean = df_2021[column].mean()\n",
    "        df_2021[column] = df_2021[column].fillna(mean)    \n",
    "        \n",
    "df_2021.isnull().sum() "
   ]
  },
  {
   "cell_type": "code",
   "execution_count": 48,
   "metadata": {},
   "outputs": [],
   "source": [
    "df_2021_pred = df_2021[['GDP','HDI','No of athletes 2020','Medals_in_3rdLast_Olympics', 'Medals_in_2ndLast_Olympics','Medals_in_Last_Olympics']]"
   ]
  },
  {
   "cell_type": "code",
   "execution_count": 49,
   "metadata": {},
   "outputs": [],
   "source": [
    "#df_2021_pred_scaled  = df_2021_pred.apply(zscore)\n",
    "df_2021_pred_scaled = scalerX.transform(df_2021_pred)\n"
   ]
  },
  {
   "cell_type": "code",
   "execution_count": 50,
   "metadata": {},
   "outputs": [],
   "source": [
    "y_pred_2021=regression_model.predict(df_2021_pred_scaled)\n",
    "y_pred_2021_inverse=scalery.inverse_transform(y_pred_2021)\n",
    "y_pred_2021_inverse_round=y_pred_2021_inverse.round()\n",
    "count = len(y_pred_2021_inverse_round)\n",
    "y_pred_2021_inverse_round_final = y_pred_2021_inverse_round.view()\n",
    "i=0\n",
    "while i < count:\n",
    "    if y_pred_2021_inverse_round[i] < 0:\n",
    "        y_pred_2021_inverse_round_final[i]=((int(y_pred_2021_inverse_round[i]))*(-1))\n",
    "    elif y_pred_2021_inverse_round[i] == -0:\n",
    "        y_pred_2021_inverse_round_final[i]=((int(y_pred_2021_inverse_round[i]))*(-1))\n",
    "    else:\n",
    "        y_pred_2021_inverse_round_final[i]=int(y_pred_2021_inverse_round[i])\n",
    "    i=i+1\n",
    "df_2021['Medals_in_Current_Olympics'] = y_pred_2021_inverse_round_final\n"
   ]
  },
  {
   "cell_type": "code",
   "execution_count": 51,
   "metadata": {},
   "outputs": [
    {
     "data": {
      "text/plain": [
       "array([[  0.],\n",
       "       [  0.],\n",
       "       [  2.],\n",
       "       [  0.],\n",
       "       [  0.],\n",
       "       [  0.],\n",
       "       [  0.],\n",
       "       [  3.],\n",
       "       [  4.],\n",
       "       [  0.],\n",
       "       [ 28.],\n",
       "       [  1.],\n",
       "       [ 20.],\n",
       "       [  2.],\n",
       "       [  2.],\n",
       "       [  0.],\n",
       "       [  0.],\n",
       "       [  8.],\n",
       "       [  7.],\n",
       "       [  0.],\n",
       "       [  0.],\n",
       "       [  1.],\n",
       "       [  0.],\n",
       "       [  0.],\n",
       "       [  0.],\n",
       "       [  0.],\n",
       "       [ 20.],\n",
       "       [  0.],\n",
       "       [  0.],\n",
       "       [  3.],\n",
       "       [  0.],\n",
       "       [  1.],\n",
       "       [  0.],\n",
       "       [  0.],\n",
       "       [ 23.],\n",
       "       [  0.],\n",
       "       [  1.],\n",
       "       [  0.],\n",
       "       [  0.],\n",
       "       [  0.],\n",
       "       [ 73.],\n",
       "       [  9.],\n",
       "       [  0.],\n",
       "       [  0.],\n",
       "       [  0.],\n",
       "       [ 11.],\n",
       "       [ 10.],\n",
       "       [  0.],\n",
       "       [ 11.],\n",
       "       [  0.],\n",
       "       [ 17.],\n",
       "       [  0.],\n",
       "       [  0.],\n",
       "       [  1.],\n",
       "       [  0.],\n",
       "       [  0.],\n",
       "       [  3.],\n",
       "       [  0.],\n",
       "       [  0.],\n",
       "       [  0.],\n",
       "       [  1.],\n",
       "       [  0.],\n",
       "       [  8.],\n",
       "       [  0.],\n",
       "       [  1.],\n",
       "       [  1.],\n",
       "       [ 44.],\n",
       "       [  0.],\n",
       "       [  0.],\n",
       "       [  8.],\n",
       "       [ 45.],\n",
       "       [  0.],\n",
       "       [ 75.],\n",
       "       [  6.],\n",
       "       [  1.],\n",
       "       [  0.],\n",
       "       [  0.],\n",
       "       [  0.],\n",
       "       [  0.],\n",
       "       [  0.],\n",
       "       [  0.],\n",
       "       [  0.],\n",
       "       [  0.],\n",
       "       [ 17.],\n",
       "       [  0.],\n",
       "       [  2.],\n",
       "       [  3.],\n",
       "       [ 10.],\n",
       "       [  0.],\n",
       "       [  3.],\n",
       "       [  2.],\n",
       "       [ 29.],\n",
       "       [  2.],\n",
       "       [ 12.],\n",
       "       [ 45.],\n",
       "       [  1.],\n",
       "       [ 19.],\n",
       "       [ 13.],\n",
       "       [  0.],\n",
       "       [  1.],\n",
       "       [  0.],\n",
       "       [  1.],\n",
       "       [  0.],\n",
       "       [  0.],\n",
       "       [  0.],\n",
       "       [  0.],\n",
       "       [  0.],\n",
       "       [  0.],\n",
       "       [  0.],\n",
       "       [  4.],\n",
       "       [  1.],\n",
       "       [  0.],\n",
       "       [  0.],\n",
       "       [  6.],\n",
       "       [  0.],\n",
       "       [  0.],\n",
       "       [  0.],\n",
       "       [  0.],\n",
       "       [  0.],\n",
       "       [  5.],\n",
       "       [  0.],\n",
       "       [  0.],\n",
       "       [  2.],\n",
       "       [  0.],\n",
       "       [  1.],\n",
       "       [  0.],\n",
       "       [  0.],\n",
       "       [  0.],\n",
       "       [  0.],\n",
       "       [  0.],\n",
       "       [ 21.],\n",
       "       [ 20.],\n",
       "       [  0.],\n",
       "       [  1.],\n",
       "       [  0.],\n",
       "       [  0.],\n",
       "       [  4.],\n",
       "       [  0.],\n",
       "       [  0.],\n",
       "       [  0.],\n",
       "       [  0.],\n",
       "       [  0.],\n",
       "       [  0.],\n",
       "       [  0.],\n",
       "       [  0.],\n",
       "       [  1.],\n",
       "       [ 11.],\n",
       "       [  1.],\n",
       "       [  1.],\n",
       "       [  2.],\n",
       "       [  0.],\n",
       "       [  0.],\n",
       "       [ 62.],\n",
       "       [  4.],\n",
       "       [  0.],\n",
       "       [  0.],\n",
       "       [  0.],\n",
       "       [  0.],\n",
       "       [  0.],\n",
       "       [  0.],\n",
       "       [  0.],\n",
       "       [  0.],\n",
       "       [  0.],\n",
       "       [  8.],\n",
       "       [  0.],\n",
       "       [  0.],\n",
       "       [  1.],\n",
       "       [  4.],\n",
       "       [  4.],\n",
       "       [  0.],\n",
       "       [  0.],\n",
       "       [ 11.],\n",
       "       [ 22.],\n",
       "       [  0.],\n",
       "       [ 17.],\n",
       "       [  0.],\n",
       "       [  0.],\n",
       "       [  0.],\n",
       "       [ 12.],\n",
       "       [  7.],\n",
       "       [  0.],\n",
       "       [  3.],\n",
       "       [  1.],\n",
       "       [  0.],\n",
       "       [  6.],\n",
       "       [  0.],\n",
       "       [  0.],\n",
       "       [  1.],\n",
       "       [  3.],\n",
       "       [  8.],\n",
       "       [  0.],\n",
       "       [  0.],\n",
       "       [  0.],\n",
       "       [ 10.],\n",
       "       [  1.],\n",
       "       [130.],\n",
       "       [  0.],\n",
       "       [ 13.],\n",
       "       [  0.],\n",
       "       [  3.],\n",
       "       [  2.],\n",
       "       [  0.],\n",
       "       [  0.],\n",
       "       [  0.],\n",
       "       [  1.]])"
      ]
     },
     "execution_count": 51,
     "metadata": {},
     "output_type": "execute_result"
    }
   ],
   "source": [
    "y_pred_2021_inverse_round_final"
   ]
  },
  {
   "cell_type": "code",
   "execution_count": 52,
   "metadata": {},
   "outputs": [
    {
     "data": {
      "text/html": [
       "<div>\n",
       "<style scoped>\n",
       "    .dataframe tbody tr th:only-of-type {\n",
       "        vertical-align: middle;\n",
       "    }\n",
       "\n",
       "    .dataframe tbody tr th {\n",
       "        vertical-align: top;\n",
       "    }\n",
       "\n",
       "    .dataframe thead th {\n",
       "        text-align: right;\n",
       "    }\n",
       "</style>\n",
       "<table border=\"1\" class=\"dataframe\">\n",
       "  <thead>\n",
       "    <tr style=\"text-align: right;\">\n",
       "      <th></th>\n",
       "      <th>Country_Id</th>\n",
       "      <th>Country</th>\n",
       "      <th>GDP</th>\n",
       "      <th>HDI</th>\n",
       "      <th>No of athletes 2020</th>\n",
       "      <th>Medals_in_3rdLast_Olympics</th>\n",
       "      <th>Medals_in_2ndLast_Olympics</th>\n",
       "      <th>Medals_in_Last_Olympics</th>\n",
       "      <th>Medals_in_Current_Olympics</th>\n",
       "    </tr>\n",
       "  </thead>\n",
       "  <tbody>\n",
       "    <tr>\n",
       "      <th>0</th>\n",
       "      <td>20210001</td>\n",
       "      <td>Afghanistan</td>\n",
       "      <td>700</td>\n",
       "      <td>0.511000</td>\n",
       "      <td>5</td>\n",
       "      <td>1</td>\n",
       "      <td>1</td>\n",
       "      <td>0</td>\n",
       "      <td>0.0</td>\n",
       "    </tr>\n",
       "    <tr>\n",
       "      <th>1</th>\n",
       "      <td>20210002</td>\n",
       "      <td>Albania</td>\n",
       "      <td>4500</td>\n",
       "      <td>0.795000</td>\n",
       "      <td>9</td>\n",
       "      <td>0</td>\n",
       "      <td>0</td>\n",
       "      <td>0</td>\n",
       "      <td>0.0</td>\n",
       "    </tr>\n",
       "    <tr>\n",
       "      <th>2</th>\n",
       "      <td>20210003</td>\n",
       "      <td>Algeria</td>\n",
       "      <td>6000</td>\n",
       "      <td>0.748000</td>\n",
       "      <td>44</td>\n",
       "      <td>2</td>\n",
       "      <td>1</td>\n",
       "      <td>2</td>\n",
       "      <td>2.0</td>\n",
       "    </tr>\n",
       "    <tr>\n",
       "      <th>3</th>\n",
       "      <td>20210004</td>\n",
       "      <td>American Samoa</td>\n",
       "      <td>8000</td>\n",
       "      <td>0.723914</td>\n",
       "      <td>6</td>\n",
       "      <td>0</td>\n",
       "      <td>0</td>\n",
       "      <td>0</td>\n",
       "      <td>0.0</td>\n",
       "    </tr>\n",
       "    <tr>\n",
       "      <th>4</th>\n",
       "      <td>20210005</td>\n",
       "      <td>Andorra</td>\n",
       "      <td>19000</td>\n",
       "      <td>0.868000</td>\n",
       "      <td>2</td>\n",
       "      <td>0</td>\n",
       "      <td>0</td>\n",
       "      <td>0</td>\n",
       "      <td>0.0</td>\n",
       "    </tr>\n",
       "  </tbody>\n",
       "</table>\n",
       "</div>"
      ],
      "text/plain": [
       "   Country_Id         Country    GDP       HDI  No of athletes 2020  \\\n",
       "0    20210001     Afghanistan    700  0.511000                    5   \n",
       "1    20210002         Albania   4500  0.795000                    9   \n",
       "2    20210003         Algeria   6000  0.748000                   44   \n",
       "3    20210004  American Samoa   8000  0.723914                    6   \n",
       "4    20210005         Andorra  19000  0.868000                    2   \n",
       "\n",
       "   Medals_in_3rdLast_Olympics  Medals_in_2ndLast_Olympics  \\\n",
       "0                           1                           1   \n",
       "1                           0                           0   \n",
       "2                           2                           1   \n",
       "3                           0                           0   \n",
       "4                           0                           0   \n",
       "\n",
       "   Medals_in_Last_Olympics  Medals_in_Current_Olympics  \n",
       "0                        0                         0.0  \n",
       "1                        0                         0.0  \n",
       "2                        2                         2.0  \n",
       "3                        0                         0.0  \n",
       "4                        0                         0.0  "
      ]
     },
     "execution_count": 52,
     "metadata": {},
     "output_type": "execute_result"
    }
   ],
   "source": [
    "df_2021.head()"
   ]
  },
  {
   "cell_type": "code",
   "execution_count": 54,
   "metadata": {},
   "outputs": [],
   "source": [
    "df_2021.to_csv(\"Olympics_Medal_Tally_2021 - code.csv\")"
   ]
  },
  {
   "cell_type": "code",
   "execution_count": null,
   "metadata": {},
   "outputs": [],
   "source": []
  }
 ],
 "metadata": {
  "kernelspec": {
   "display_name": "Python 3",
   "language": "python",
   "name": "python3"
  },
  "language_info": {
   "codemirror_mode": {
    "name": "ipython",
    "version": 3
   },
   "file_extension": ".py",
   "mimetype": "text/x-python",
   "name": "python",
   "nbconvert_exporter": "python",
   "pygments_lexer": "ipython3",
   "version": "3.8.5"
  }
 },
 "nbformat": 4,
 "nbformat_minor": 4
}
